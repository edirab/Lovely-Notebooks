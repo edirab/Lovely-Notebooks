{
 "cells": [
  {
   "cell_type": "code",
   "execution_count": 1,
   "metadata": {},
   "outputs": [],
   "source": [
    "import heapq\n",
    "from collections import Counter, namedtuple"
   ]
  },
  {
   "cell_type": "code",
   "execution_count": 2,
   "metadata": {},
   "outputs": [],
   "source": [
    "class Node(namedtuple(\"Node\", [\"left\", \"right\"])):\n",
    "    def walk(self, code, acc):\n",
    "        \n",
    "        self.left.walk(code, acc + \"0\")\n",
    "        self.right.walk(code, acc + \"1\")"
   ]
  },
  {
   "cell_type": "code",
   "execution_count": 3,
   "metadata": {},
   "outputs": [],
   "source": [
    "class Leaf(namedtuple(\"Leaf\", [\"char\"])):\n",
    "    def walk(self, code, acc):\n",
    "        \n",
    "        code[self.char] = acc or \"0\""
   ]
  },
  {
   "cell_type": "code",
   "execution_count": 7,
   "metadata": {},
   "outputs": [],
   "source": [
    "def huffman_encode(s):\n",
    "    h = []\n",
    "    for ch, freq in Counter(s).items():\n",
    "        h.append((freq, len(h), Leaf(ch)))\n",
    "    heapq.heapify(h)\n",
    "    count = len(h)\n",
    "    \n",
    "    while len(h) > 1:\n",
    "        freq1, _count1, left = heapq.heappop(h)\n",
    "        freq2, _count2, right = heapq.heappop(h)\n",
    "        \n",
    "        heapq.heappush(h, (freq1+freq2, count, Node(left, right)))\n",
    "        \n",
    "        count += 1\n",
    "    code = {}\n",
    "    if h:\n",
    "        [(_freq, _count, root)] = h\n",
    "        root.walk(code, \"\")\n",
    "    return code"
   ]
  },
  {
   "cell_type": "code",
   "execution_count": 9,
   "metadata": {},
   "outputs": [],
   "source": [
    "def huffman_decode(encoded, code):\n",
    "    sx = []\n",
    "    enc_ch = \"\"\n",
    "    \n",
    "    for ch in encoded:\n",
    "        enc_ch += ch\n",
    "        \n",
    "        for dec_ch in code:\n",
    "            if code.get(dec_ch) == enc_ch:\n",
    "                sx.append(dec_ch)\n",
    "                enc_ch = \"\"\n",
    "                break\n",
    "    return \"\".join(sx)"
   ]
  },
  {
   "cell_type": "code",
   "execution_count": 10,
   "metadata": {},
   "outputs": [
    {
     "name": "stdout",
     "output_type": "stream",
     "text": [
      "19 181\n",
      " : 110\n",
      ",: 0000\n",
      "М: 00110\n",
      "а: 11111\n",
      "б: 0010\n",
      "г: 01101\n",
      "д: 1001\n",
      "е: 101\n",
      "и: 11110\n",
      "л: 01001\n",
      "н: 1000\n",
      "о: 0111\n",
      "п: 01011\n",
      "с: 01100\n",
      "т: 1110\n",
      "у: 0001\n",
      "ц: 01010\n",
      "ш: 00111\n",
      "я: 01000\n",
      "0011011110001111111100001100001110111010100100100011001001111100101001111100101101110110011101000011110100001101001101100010101101110111010100101011101000101110100111111100100011110\n",
      "Миша, у тебя лицо постное, денег тебе не дадут\n"
     ]
    }
   ],
   "source": [
    "s = \"Миша, у тебя лицо постное, денег тебе не дадут\"\n",
    "\n",
    "code = huffman_encode(s)\n",
    "encoded = \"\".join(code[ch] for ch in s)\n",
    "\n",
    "print(len(code), len(encoded))\n",
    "\n",
    "for ch in sorted(code):\n",
    "    print(\"{}: {}\".format(ch, code[ch]))\n",
    "print(encoded)\n",
    "print(huffman_decode(encoded, code))\n"
   ]
  }
 ],
 "metadata": {
  "kernelspec": {
   "display_name": "Python 3",
   "language": "python",
   "name": "python3"
  },
  "language_info": {
   "codemirror_mode": {
    "name": "ipython",
    "version": 3
   },
   "file_extension": ".py",
   "mimetype": "text/x-python",
   "name": "python",
   "nbconvert_exporter": "python",
   "pygments_lexer": "ipython3",
   "version": "3.7.7"
  }
 },
 "nbformat": 4,
 "nbformat_minor": 4
}
