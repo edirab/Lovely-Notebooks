{
 "cells": [
  {
   "cell_type": "code",
   "execution_count": 1,
   "metadata": {},
   "outputs": [],
   "source": [
    "from random import shuffle\n",
    "\n",
    "deck = []\n",
    "blues = [\"blue\"] * 6\n",
    "reds = [\"red\"] * 11\n",
    "deck.extend(blues)\n",
    "deck.extend(reds)\n",
    "\n",
    "three_reds = [\"red\"] * 3\n",
    "three_blues = [\"blue\"] * 3\n",
    "one_blue = [\"blue\", \"red\", \"red\"]\n",
    "two_blues = [\"blue\", \"blue\", \"red\"]\n",
    "\n",
    "n_shuffles: int = 1000\n",
    "\n",
    "# print(deck)\n",
    "# shuffle(deck)\n",
    "# print(deck)"
   ]
  },
  {
   "cell_type": "code",
   "execution_count": 2,
   "metadata": {},
   "outputs": [],
   "source": [
    "def first_move(n_shuffles: int, deck: \"list[str]\", to_compare: \"list[str]\") -> int:\n",
    "    \n",
    "    chances: int = 0\n",
    "    \n",
    "    for i in range(n_shuffles):\n",
    "        shuffle(deck)\n",
    "        three_policies = deck[0:3]\n",
    "        three_policies.sort()\n",
    "        # print(three_policies)\n",
    "        if three_policies == to_compare:\n",
    "            chances += 1\n",
    "\n",
    "    return chances"
   ]
  },
  {
   "cell_type": "markdown",
   "metadata": {},
   "source": [
    "##### Probability of pulling 3 reds at the beginning is around 25%"
   ]
  },
  {
   "cell_type": "code",
   "execution_count": 3,
   "metadata": {},
   "outputs": [
    {
     "name": "stdout",
     "output_type": "stream",
     "text": [
      "Total occurancies:  236\n",
      "Probability: 0.236\n"
     ]
    }
   ],
   "source": [
    "chances: int = first_move(n_shuffles, deck, three_reds)\n",
    "\n",
    "print(\"Total occurancies: \", chances)\n",
    "print(\"Probability:\", chances/n_shuffles)"
   ]
  },
  {
   "cell_type": "markdown",
   "metadata": {},
   "source": [
    "##### Probability of pulling 3 reds at the beginning and 3 reds again is around 4%"
   ]
  },
  {
   "cell_type": "code",
   "execution_count": 4,
   "metadata": {},
   "outputs": [
    {
     "name": "stdout",
     "output_type": "stream",
     "text": [
      "Total occurancies:  28\n",
      "Probability: 2.8000000000000003\n"
     ]
    }
   ],
   "source": [
    "chances: int = 0\n",
    "n_shuffles: int = 1000\n",
    "\n",
    "for i in range(n_shuffles):\n",
    "#     print(\"i = \", i)\n",
    "    shuffle(deck)\n",
    "#     print(deck)\n",
    "    curr_deck = deck[:]\n",
    "    three_policies = curr_deck[0:3]\n",
    "#     print(three_policies)\n",
    "    if three_policies == three_reds:\n",
    "        curr_deck.pop(0)\n",
    "        curr_deck.pop(0)\n",
    "        curr_deck.pop(0)\n",
    "        \n",
    "        three_policies = curr_deck[0:3]\n",
    "#         print(three_policies)\n",
    "        if three_policies == three_reds:\n",
    "            chances += 1\n",
    "\n",
    "print(\"Total occurancies: \", chances)\n",
    "print(\"Probability:\", chances/n_shuffles * 100)"
   ]
  },
  {
   "cell_type": "markdown",
   "metadata": {},
   "source": [
    "##### Probability of pulling exactly one blue at first move is around 50% (!)"
   ]
  },
  {
   "cell_type": "code",
   "execution_count": 5,
   "metadata": {},
   "outputs": [
    {
     "name": "stdout",
     "output_type": "stream",
     "text": [
      "Total occurancies:  493\n",
      "Probability: 49.3\n"
     ]
    }
   ],
   "source": [
    "# print(deck, len(deck))\n",
    "chances: int = first_move(n_shuffles, deck, one_blue)\n",
    "\n",
    "print(\"Total occurancies: \", chances)\n",
    "print(\"Probability:\", chances/n_shuffles * 100)"
   ]
  },
  {
   "cell_type": "markdown",
   "metadata": {},
   "source": [
    "##### Probability of pulling exactly two blues at first move is around 22-25%"
   ]
  },
  {
   "cell_type": "code",
   "execution_count": 6,
   "metadata": {},
   "outputs": [
    {
     "name": "stdout",
     "output_type": "stream",
     "text": [
      "Total occurancies:  229\n",
      "Probability: 22.900000000000002\n"
     ]
    }
   ],
   "source": [
    "chances: int = first_move(n_shuffles, deck, two_blues)\n",
    "\n",
    "print(\"Total occurancies: \", chances)\n",
    "print(\"Probability:\", chances/n_shuffles * 100)"
   ]
  },
  {
   "cell_type": "markdown",
   "metadata": {},
   "source": [
    "##### Probability of pulling exactly three blues at first move is around 2,5-3%"
   ]
  },
  {
   "cell_type": "code",
   "execution_count": 7,
   "metadata": {},
   "outputs": [
    {
     "name": "stdout",
     "output_type": "stream",
     "text": [
      "Total occurancies:  19\n",
      "Probability: 1.9\n"
     ]
    }
   ],
   "source": [
    "chances: int = 0\n",
    "n_shuffles: int = 1000\n",
    "\n",
    "chances: int = first_move(n_shuffles, deck, three_blues)\n",
    "\n",
    "print(\"Total occurancies: \", chances)\n",
    "print(\"Probability:\", chances/n_shuffles * 100)"
   ]
  }
 ],
 "metadata": {
  "kernelspec": {
   "display_name": "Python 3",
   "language": "python",
   "name": "python3"
  },
  "language_info": {
   "codemirror_mode": {
    "name": "ipython",
    "version": 3
   },
   "file_extension": ".py",
   "mimetype": "text/x-python",
   "name": "python",
   "nbconvert_exporter": "python",
   "pygments_lexer": "ipython3",
   "version": "3.8.10"
  }
 },
 "nbformat": 4,
 "nbformat_minor": 4
}
