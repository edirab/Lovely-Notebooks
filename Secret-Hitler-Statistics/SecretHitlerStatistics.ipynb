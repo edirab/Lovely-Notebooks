{
 "cells": [
  {
   "cell_type": "code",
   "execution_count": 158,
   "metadata": {},
   "outputs": [
    {
     "name": "stdout",
     "output_type": "stream",
     "text": [
      "['blue', 'blue', 'blue', 'blue', 'blue', 'blue', 'red', 'red', 'red', 'red', 'red', 'red', 'red', 'red', 'red', 'red', 'red']\n",
      "['blue', 'red', 'red', 'blue', 'red', 'red', 'red', 'blue', 'red', 'red', 'red', 'blue', 'red', 'blue', 'blue', 'red', 'red']\n"
     ]
    }
   ],
   "source": [
    "from random import shuffle\n",
    "\n",
    "deck = []\n",
    "blues = [\"blue\"] * 6\n",
    "reds = [\"red\"] * 11\n",
    "deck.extend(blues)\n",
    "deck.extend(reds)\n",
    "\n",
    "three_reds = [\"red\"] * 3\n",
    "three_blues = [\"blue\"] * 3\n",
    "one_blue = [\"blue\", \"red\", \"red\"]\n",
    "two_blues = [\"blue\", \"blue\", \"red\"]\n",
    "\n",
    "print(deck)\n",
    "shuffle(deck)\n",
    "print(deck)"
   ]
  },
  {
   "cell_type": "markdown",
   "metadata": {},
   "source": [
    "##### Probability of pulling 3 reds at the beginning is around 25%"
   ]
  },
  {
   "cell_type": "code",
   "execution_count": 159,
   "metadata": {},
   "outputs": [
    {
     "name": "stdout",
     "output_type": "stream",
     "text": [
      "Total occurancies:  257\n",
      "Probability: 0.257\n"
     ]
    }
   ],
   "source": [
    "chances: int = 0\n",
    "n_shuffles: int = 1000\n",
    "\n",
    "for i in range(n_shuffles):\n",
    "    shuffle(deck)\n",
    "    three_policies = deck[0:3]\n",
    "    # print(three_policies)\n",
    "    if three_policies == three_reds:\n",
    "        chances += 1\n",
    "\n",
    "print(\"Total occurancies: \", chances)\n",
    "print(\"Probability:\", chances/n_shuffles)"
   ]
  },
  {
   "cell_type": "markdown",
   "metadata": {},
   "source": [
    "##### Probability of pulling 3 reds at the beginning and 3 reds again is around 4%"
   ]
  },
  {
   "cell_type": "code",
   "execution_count": 160,
   "metadata": {},
   "outputs": [
    {
     "name": "stdout",
     "output_type": "stream",
     "text": [
      "Total occurancies:  33\n",
      "Probability: 3.3000000000000003\n"
     ]
    }
   ],
   "source": [
    "chances: int = 0\n",
    "n_shuffles: int = 1000\n",
    "\n",
    "for i in range(n_shuffles):\n",
    "#     print(\"i = \", i)\n",
    "    shuffle(deck)\n",
    "#     print(deck)\n",
    "    curr_deck = deck[:]\n",
    "    three_policies = curr_deck[0:3]\n",
    "#     print(three_policies)\n",
    "    if three_policies == three_reds:\n",
    "        curr_deck.pop(0)\n",
    "        curr_deck.pop(0)\n",
    "        curr_deck.pop(0)\n",
    "        \n",
    "        three_policies = curr_deck[0:3]\n",
    "#         print(three_policies)\n",
    "        if three_policies == three_reds:\n",
    "            chances += 1\n",
    "\n",
    "print(\"Total occurancies: \", chances)\n",
    "print(\"Probability:\", chances/n_shuffles * 100)"
   ]
  },
  {
   "cell_type": "markdown",
   "metadata": {},
   "source": [
    "##### Probability of pulling exactly one blue at first move is around 50% (!)"
   ]
  },
  {
   "cell_type": "code",
   "execution_count": 161,
   "metadata": {},
   "outputs": [
    {
     "name": "stdout",
     "output_type": "stream",
     "text": [
      "Total occurancies:  491\n",
      "Probability: 49.1\n"
     ]
    }
   ],
   "source": [
    "chances: int = 0\n",
    "n_shuffles: int = 1000\n",
    "\n",
    "for i in range(n_shuffles):\n",
    "#     print(\"i = \", i)\n",
    "    shuffle(deck)\n",
    "#     print(deck)\n",
    "    curr_deck = deck[:]\n",
    "    three_policies = curr_deck[0:3]\n",
    "    three_policies.sort()\n",
    "#     print(three_policies)\n",
    "    if three_policies == one_blue:\n",
    "        chances += 1\n",
    "\n",
    "print(\"Total occurancies: \", chances)\n",
    "print(\"Probability:\", chances/n_shuffles * 100)"
   ]
  },
  {
   "cell_type": "markdown",
   "metadata": {},
   "source": [
    "##### Probability of pulling exactly two blues at first move is around 22-25%"
   ]
  },
  {
   "cell_type": "code",
   "execution_count": 162,
   "metadata": {},
   "outputs": [
    {
     "name": "stdout",
     "output_type": "stream",
     "text": [
      "Total occurancies:  241\n",
      "Probability: 24.099999999999998\n"
     ]
    }
   ],
   "source": [
    "chances: int = 0\n",
    "n_shuffles: int = 1000\n",
    "\n",
    "for i in range(n_shuffles):\n",
    "#     print(\"i = \", i)\n",
    "    shuffle(deck)\n",
    "#     print(deck)\n",
    "    curr_deck = deck[:]\n",
    "    three_policies = curr_deck[0:3]\n",
    "    three_policies.sort()\n",
    "#     print(three_policies)\n",
    "    if three_policies == two_blues:\n",
    "        chances += 1\n",
    "\n",
    "print(\"Total occurancies: \", chances)\n",
    "print(\"Probability:\", chances/n_shuffles * 100)"
   ]
  },
  {
   "cell_type": "markdown",
   "metadata": {},
   "source": [
    "##### Probability of pulling exactly three blues at first move is around 2,5-3%"
   ]
  },
  {
   "cell_type": "code",
   "execution_count": 163,
   "metadata": {},
   "outputs": [
    {
     "name": "stdout",
     "output_type": "stream",
     "text": [
      "Total occurancies:  26\n",
      "Probability: 2.6\n"
     ]
    }
   ],
   "source": [
    "chances: int = 0\n",
    "n_shuffles: int = 1000\n",
    "\n",
    "for i in range(n_shuffles):\n",
    "#     print(\"i = \", i)\n",
    "    shuffle(deck)\n",
    "#     print(deck)\n",
    "    curr_deck = deck[:]\n",
    "    three_policies = curr_deck[0:3]\n",
    "    three_policies.sort()\n",
    "#     print(three_policies)\n",
    "    if three_policies == three_blues:\n",
    "        chances += 1\n",
    "\n",
    "print(\"Total occurancies: \", chances)\n",
    "print(\"Probability:\", chances/n_shuffles * 100)"
   ]
  }
 ],
 "metadata": {
  "kernelspec": {
   "display_name": "Python 3",
   "language": "python",
   "name": "python3"
  },
  "language_info": {
   "codemirror_mode": {
    "name": "ipython",
    "version": 3
   },
   "file_extension": ".py",
   "mimetype": "text/x-python",
   "name": "python",
   "nbconvert_exporter": "python",
   "pygments_lexer": "ipython3",
   "version": "3.8.10"
  }
 },
 "nbformat": 4,
 "nbformat_minor": 4
}
