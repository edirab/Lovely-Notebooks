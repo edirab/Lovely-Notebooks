{
 "cells": [
  {
   "cell_type": "markdown",
   "metadata": {},
   "source": [
    "### 3. Вытянуть многомерный список\n",
    "\n",
    "Напишите функцию `list_pull(L)`, принимающую на вход многомерный список (список списков) вида:\n",
    "\n",
    "    [['one'], [343, 2], [[9, 9, 9], [[666, 666], [[[[42]]]]]]]\n",
    "\n",
    "и возвращающую \"вытянутый\" список только значений вида:\n",
    "    \n",
    "    ['one', 343, 2, 9, 9, 9, 666, 666, 42]\n",
    "\n",
    "- Принимаем список может иметь произвольное число дочерних списков\n",
    "- Длинны дочерних списков могут быть произвольными (дочерний список может не содержать элементов) и не равны друг другу\n",
    "- Элементы дочерних списков могут повторяться\n",
    "- Порядок в получившемся списке не важен\n",
    "\n",
    "\n",
    "Примечание1. В этой задаче не надо ничего считывать или выводить на печать.\n",
    "\n",
    "Примечание2. Тип переменной можно узнать с помощью type() и сравнить с типом list:\n",
    "\n",
    "```python\n",
    "    type(elem) is list       # Вернёт True для списков и False для всех остальных\n",
    "```\n"
   ]
  },
  {
   "cell_type": "code",
   "execution_count": 1,
   "metadata": {},
   "outputs": [],
   "source": [
    "t1 = [['one'], [343, 2], [[9, 9, 9], [[666, 666], [[[[42]]]]]]]"
   ]
  },
  {
   "cell_type": "code",
   "execution_count": 2,
   "metadata": {},
   "outputs": [],
   "source": [
    "from itertools import chain\n",
    "\n",
    "def list_pull(L):\n",
    "    return list(chain.from_iterable(L))"
   ]
  },
  {
   "cell_type": "code",
   "execution_count": 3,
   "metadata": {},
   "outputs": [
    {
     "data": {
      "text/plain": [
       "['one', 343, 2, [9, 9, 9], [[666, 666], [[[[42]]]]]]"
      ]
     },
     "execution_count": 3,
     "metadata": {},
     "output_type": "execute_result"
    }
   ],
   "source": [
    "list_pull(t1)"
   ]
  },
  {
   "cell_type": "code",
   "execution_count": 4,
   "metadata": {},
   "outputs": [],
   "source": [
    "r = list()\n",
    "def list_pull(L):\n",
    "    \n",
    "    print(type(L), L)\n",
    "    if type(L) is not list:\n",
    "        r.append(L)\n",
    "    else:\n",
    "        for elem in L:\n",
    "            list_pull(elem)\n",
    "    return\n"
   ]
  },
  {
   "cell_type": "code",
   "execution_count": 5,
   "metadata": {},
   "outputs": [
    {
     "name": "stdout",
     "output_type": "stream",
     "text": [
      "<class 'list'> [['one'], [343, 2], [[9, 9, 9], [[666, 666], [[[[42]]]]]]]\n",
      "<class 'list'> ['one']\n",
      "<class 'str'> one\n",
      "<class 'list'> [343, 2]\n",
      "<class 'int'> 343\n",
      "<class 'int'> 2\n",
      "<class 'list'> [[9, 9, 9], [[666, 666], [[[[42]]]]]]\n",
      "<class 'list'> [9, 9, 9]\n",
      "<class 'int'> 9\n",
      "<class 'int'> 9\n",
      "<class 'int'> 9\n",
      "<class 'list'> [[666, 666], [[[[42]]]]]\n",
      "<class 'list'> [666, 666]\n",
      "<class 'int'> 666\n",
      "<class 'int'> 666\n",
      "<class 'list'> [[[[42]]]]\n",
      "<class 'list'> [[[42]]]\n",
      "<class 'list'> [[42]]\n",
      "<class 'list'> [42]\n",
      "<class 'int'> 42\n",
      "['one', 343, 2, 9, 9, 9, 666, 666, 42]\n"
     ]
    }
   ],
   "source": [
    "list_pull(t1)\n",
    "print(r)"
   ]
  },
  {
   "cell_type": "code",
   "execution_count": 6,
   "metadata": {},
   "outputs": [
    {
     "name": "stdout",
     "output_type": "stream",
     "text": [
      "<class 'list'> [['one', 'two', 'three'], [1, 2, 3, 4, 5, 6]]\n",
      "<class 'list'> ['one', 'two', 'three']\n",
      "<class 'str'> one\n",
      "<class 'str'> two\n",
      "<class 'str'> three\n",
      "<class 'list'> [1, 2, 3, 4, 5, 6]\n",
      "<class 'int'> 1\n",
      "<class 'int'> 2\n",
      "<class 'int'> 3\n",
      "<class 'int'> 4\n",
      "<class 'int'> 5\n",
      "<class 'int'> 6\n",
      "['one', 'two', 'three', 1, 2, 3, 4, 5, 6]\n"
     ]
    }
   ],
   "source": [
    "L1 = [['one', 'two', 'three'], [1, 2, 3, 4, 5, 6]]\n",
    "\n",
    "r = list()\n",
    "list_pull(L1)\n",
    "print(r)"
   ]
  },
  {
   "cell_type": "markdown",
   "metadata": {},
   "source": [
    "### Ради интереса сравним объёмы занимаемой памяти"
   ]
  },
  {
   "cell_type": "code",
   "execution_count": 7,
   "metadata": {},
   "outputs": [
    {
     "name": "stdout",
     "output_type": "stream",
     "text": [
      "Список списков списков...  88\n",
      "Развёрнутый  192\n"
     ]
    }
   ],
   "source": [
    "import sys\n",
    "\n",
    "dir(sys)\n",
    "print(\"Список списков списков... \", sys.getsizeof(t1))\n",
    "print(\"Развёрнутый \", sys.getsizeof(r))"
   ]
  },
  {
   "cell_type": "markdown",
   "metadata": {},
   "source": [
    "- В очередной раз доказывает, что модуль `sys` некорректно измеряет размер"
   ]
  },
  {
   "cell_type": "code",
   "execution_count": 8,
   "metadata": {},
   "outputs": [
    {
     "name": "stdout",
     "output_type": "stream",
     "text": [
      "Список списков списков...  1072\n",
      "Развёрнутый  552\n"
     ]
    }
   ],
   "source": [
    "from pympler import asizeof\n",
    "\n",
    "print(\"Список списков списков... \",asizeof.asizeof(t1))\n",
    "print(\"Развёрнутый \", asizeof.asizeof(r))"
   ]
  },
  {
   "cell_type": "code",
   "execution_count": 9,
   "metadata": {},
   "outputs": [
    {
     "data": {
      "text/plain": [
       "[['one'], [343, 2], [[9, 9, 9], [[666, 666], [[[[42]]]]]]]"
      ]
     },
     "execution_count": 9,
     "metadata": {},
     "output_type": "execute_result"
    }
   ],
   "source": [
    "t1"
   ]
  },
  {
   "cell_type": "code",
   "execution_count": 10,
   "metadata": {},
   "outputs": [],
   "source": [
    "def list_pull(L):\n",
    "    r = list()\n",
    "    \n",
    "    def unchain(L_):\n",
    "        print(type(L_), L_)\n",
    "        if type(L) is not list:\n",
    "            r.append(L_)\n",
    "        else:\n",
    "            for elem in L_:\n",
    "                unchain(elem)\n",
    "        return\n",
    "    return r"
   ]
  },
  {
   "cell_type": "code",
   "execution_count": 11,
   "metadata": {},
   "outputs": [
    {
     "data": {
      "text/plain": [
       "[]"
      ]
     },
     "execution_count": 11,
     "metadata": {},
     "output_type": "execute_result"
    }
   ],
   "source": [
    "list_pull(t1)"
   ]
  }
 ],
 "metadata": {
  "kernelspec": {
   "display_name": "Python 3",
   "language": "python",
   "name": "python3"
  },
  "language_info": {
   "codemirror_mode": {
    "name": "ipython",
    "version": 3
   },
   "file_extension": ".py",
   "mimetype": "text/x-python",
   "name": "python",
   "nbconvert_exporter": "python",
   "pygments_lexer": "ipython3",
   "version": "3.7.7"
  }
 },
 "nbformat": 4,
 "nbformat_minor": 4
}
