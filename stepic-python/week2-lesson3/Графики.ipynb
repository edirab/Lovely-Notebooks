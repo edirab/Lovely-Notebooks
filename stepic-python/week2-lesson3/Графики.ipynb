{
 "cells": [
  {
   "cell_type": "code",
   "execution_count": 1,
   "metadata": {},
   "outputs": [],
   "source": [
    "%matplotlib inline\n",
    "import numpy as np\n",
    "import matplotlib.pyplot as plt\n",
    "plt.style.use(\"ggplot\")"
   ]
  },
  {
   "cell_type": "markdown",
   "metadata": {},
   "source": [
    "# Вспомогательные функции\n",
    "Функция для приближённого вычисления производной в точке (уменьшает приращение пока изменение функции не станет незначительным)"
   ]
  },
  {
   "cell_type": "code",
   "execution_count": 2,
   "metadata": {
    "collapsed": true
   },
   "outputs": [],
   "source": [
    "def derivative(func, x, eps = 0.0001, max_iters = 1000):\n",
    "    h = 1.0\n",
    "    der_prev = None\n",
    "    iteration = 1\n",
    "    while True:\n",
    "        #Estimate derivative\n",
    "        der = (func(x + h) - func(x - h)) / (2 * h)\n",
    "        if not np.isfinite(der):\n",
    "            raise Exception('Got infinite value or NaN')\n",
    "        if iteration > max_iters:\n",
    "            raise Exception('Could not converge in {} iterations'.format(max_iters))\n",
    "        if (iteration > 1) and (abs(der - der_prev) < eps):\n",
    "            return der\n",
    "        # Update values for the next iteration.\n",
    "        der_prev = der\n",
    "        h /= 2\n",
    "        iteration += 1"
   ]
  },
  {
   "cell_type": "markdown",
   "metadata": {},
   "source": [
    "Функция, которая принимает на вход функцию $f(x)$ и почту $x_0$ и возвращает новую функцию $y(x)$ - касательную к $f(x)$ в точке $x_0$:"
   ]
  },
  {
   "cell_type": "code",
   "execution_count": 3,
   "metadata": {
    "collapsed": true
   },
   "outputs": [],
   "source": [
    "def tangent(func, x_0):\n",
    "    return lambda x:derivative(func, x_0) * (x - x_0) + func(x_0)"
   ]
  },
  {
   "cell_type": "markdown",
   "metadata": {},
   "source": [
    "## Функция $x^3 - 3x$"
   ]
  },
  {
   "cell_type": "code",
   "execution_count": 4,
   "metadata": {
    "collapsed": true
   },
   "outputs": [],
   "source": [
    "def f1(x):\n",
    "    return x**3 - 3*x"
   ]
  },
  {
   "cell_type": "code",
   "execution_count": 5,
   "metadata": {},
   "outputs": [
    {
     "data": {
      "image/png": "[encoded data removed]",
      "text/plain": [
       "<matplotlib.figure.Figure at 0x794dc50>"
      ]
     },
     "metadata": {},
     "output_type": "display_data"
    }
   ],
   "source": [
    "#Сетка значений x, в которых будем считать значения функций для построения графиков\n",
    "\n",
    "x_grid = np.arange(-3.0, 3.0, 0.05)\n",
    "\n",
    "#График функции\n",
    "plt.plot(x_grid, f1(x_grid))\n",
    "\n",
    "#Графики касательных в нескольких точках\n",
    "plt.plot(x_grid, tangent(f1, -1.0)(x_grid))\n",
    "plt.plot(x_grid, tangent(f1, 1.0)(x_grid))\n",
    "plt.plot(x_grid, tangent(f1, -0.6)(x_grid))\n",
    "\n",
    "#Диапазон значений по оси y\n",
    "plt.ylim((-4.0, 4.0))\n",
    "\n",
    "plt.show()"
   ]
  },
  {
   "cell_type": "markdown",
   "metadata": {},
   "source": [
    "Функция имеет локальные экстремумы в точках $\\pm 1$. В этих точках производная равна нулю, график касательной горизонтален."
   ]
  },
  {
   "cell_type": "markdown",
   "metadata": {},
   "source": [
    "## Функция $x^3$"
   ]
  },
  {
   "cell_type": "code",
   "execution_count": 6,
   "metadata": {
    "collapsed": true
   },
   "outputs": [],
   "source": [
    "def f2(x):\n",
    "    return x**3"
   ]
  },
  {
   "cell_type": "code",
   "execution_count": 7,
   "metadata": {},
   "outputs": [
    {
     "data": {
      "image/png": "[encoded data removed]",
      "text/plain": [
       "<matplotlib.figure.Figure at 0x7a53d30>"
      ]
     },
     "metadata": {},
     "output_type": "display_data"
    }
   ],
   "source": [
    "#Сетка значений x, в которых будем считать значения функций для построения графиков\n",
    "\n",
    "x_grid = np.arange(-4.0, 4.0, 0.1)\n",
    "\n",
    "#График функции\n",
    "plt.plot(x_grid, f2(x_grid))\n",
    "\n",
    "#Графики касательных в нескольких точках\n",
    "plt.plot(x_grid, tangent(f2, 0.0)(x_grid))\n",
    "plt.plot(x_grid, tangent(f2, -1.5)(x_grid))\n",
    "\n",
    "#Диапазон значений по оси y\n",
    "plt.ylim((-8.0, 8.0))\n",
    "\n",
    "plt.show()"
   ]
  },
  {
   "cell_type": "markdown",
   "metadata": {},
   "source": [
    "В этом случае производная обращается в ноль в точке $x=0$, касательная в этой точке горизонтальная, тем не менее, функция не имеет экстремума в этой точке.\n",
    "\n",
    "Можно сказать, что приближаясь к точке $x = 0$, рост функции замедляется, \"на мгновение замирает\" в точке $x = 0$, а после этого вновь продолжает двигаться в прежнем направлении."
   ]
  },
  {
   "cell_type": "code",
   "execution_count": null,
   "metadata": {
    "collapsed": true
   },
   "outputs": [],
   "source": []
  }
 ],
 "metadata": {
  "kernelspec": {
   "display_name": "Python 2",
   "language": "python",
   "name": "python2"
  },
  "language_info": {
   "codemirror_mode": {
    "name": "ipython",
    "version": 2
   },
   "file_extension": ".py",
   "mimetype": "text/x-python",
   "name": "python",
   "nbconvert_exporter": "python",
   "pygments_lexer": "ipython2",
   "version": "2.7.13"
  }
 },
 "nbformat": 4,
 "nbformat_minor": 2
}
