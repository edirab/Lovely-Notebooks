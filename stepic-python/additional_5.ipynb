{
 "cells": [
  {
   "cell_type": "markdown",
   "metadata": {},
   "source": [
    "### Факультатив недели №1\n",
    "\n",
    "#### 4.6 Аве, Цезарь!"
   ]
  },
  {
   "cell_type": "markdown",
   "metadata": {},
   "source": [
    "Реализуйте функцию `caesar(text, key)`, возвращающую зашифрованный текст, работающую только с латинским алфавитом.\n",
    "\n",
    "- text - исходных текст, который надо зашифровать (или расшифровать)\n",
    "- key - ключ (сдвиг)\n",
    "\n",
    "Ключ может быть отрицательным или больше 26\n",
    "\n",
    "Из преобразуемого текста удаляются все пробелы и знаки препинания. Зашифрованный текст пишется в верхнем регистре 1 строкой."
   ]
  },
  {
   "cell_type": "code",
   "execution_count": 46,
   "metadata": {},
   "outputs": [],
   "source": [
    "t1 = \"Ave, Caesar\"\n",
    "t2 = \"THE QUICK BROWN FOX JUMPS OVER THE LAZY DOG\""
   ]
  },
  {
   "cell_type": "code",
   "execution_count": 61,
   "metadata": {},
   "outputs": [],
   "source": [
    "def caesar(text, key):\n",
    "    prepared = text.replace(',', '').replace(' ', '').upper()\n",
    "    print(prepared)\n",
    "    \n",
    "    output = ''\n",
    "    for i in range(len(prepared)):\n",
    "        # output[i] = chr((ord(prepared[i]) + key )%26 + ord('A'))\n",
    "        pos = (ord(prepared[i]) + key )\n",
    "        if pos > ord('Z'):\n",
    "            pos %= (ord('Z')+1)\n",
    "        elif pos < ord('A'):\n",
    "            print(prepared[i], ord(prepared[i]), pos, end='')\n",
    "            pos += ord('A')\n",
    "            print(pos, end='')\n",
    "            \n",
    "        output += chr(pos)\n",
    "        # print(prepared[i], output[i])\n",
    "        \n",
    "    return output"
   ]
  },
  {
   "cell_type": "code",
   "execution_count": 62,
   "metadata": {},
   "outputs": [
    {
     "name": "stdout",
     "output_type": "stream",
     "text": [
      "AVECAESAR\n"
     ]
    },
    {
     "data": {
      "text/plain": [
       "'DYHFDHVDU'"
      ]
     },
     "execution_count": 62,
     "metadata": {},
     "output_type": "execute_result"
    }
   ],
   "source": [
    "caesar(t1, 3)\n",
    "#caesar('DYHFDHVDU', -3)\n",
    "#caesar(t2, 13)"
   ]
  }
 ],
 "metadata": {
  "kernelspec": {
   "display_name": "Python 3",
   "language": "python",
   "name": "python3"
  },
  "language_info": {
   "codemirror_mode": {
    "name": "ipython",
    "version": 3
   },
   "file_extension": ".py",
   "mimetype": "text/x-python",
   "name": "python",
   "nbconvert_exporter": "python",
   "pygments_lexer": "ipython3",
   "version": "3.7.7"
  }
 },
 "nbformat": 4,
 "nbformat_minor": 4
}
