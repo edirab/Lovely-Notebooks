{
 "cells": [
  {
   "cell_type": "markdown",
   "metadata": {},
   "source": [
    "# Домашнее Задание"
   ]
  },
  {
   "cell_type": "markdown",
   "metadata": {},
   "source": [
    "## Частные производные"
   ]
  },
  {
   "cell_type": "markdown",
   "metadata": {},
   "source": [
    "**1. Найти частные производные функции $f(x,y) = x^y$**\n",
    "\n",
    "- $f'_{x}(x_{0},y_{0})$\n",
    "- $f'_{y}(x_{0},y_{0})$\n",
    "\n",
    "в точке $x_0 = 2, y_0 = 2$\n",
    "\n",
    "Ответ запишите с точностью до 3 знака после запятой"
   ]
  },
  {
   "cell_type": "code",
   "execution_count": 1,
   "metadata": {},
   "outputs": [
    {
     "name": "stdout",
     "output_type": "stream",
     "text": [
      "4.0\n",
      "2.773\n"
     ]
    }
   ],
   "source": [
    "def f(x,y):\n",
    "    return x**y\n",
    "\n",
    "x0=2\n",
    "y0=2\n",
    "eps = 0.000001\n",
    "\n",
    "print round((f(x0 + eps, y0) - f(x0, y0)) / eps, 3)\n",
    "print round((f(x0, y0 + eps) - f(x0, y0)) / eps, 3)"
   ]
  },
  {
   "cell_type": "markdown",
   "metadata": {},
   "source": [
    "Аналитический вид частных производных:\n",
    "    \n",
    "- $$f'_x(x,y) = yx^{y-1}$$\n",
    "- $$f'_y(x,y) = x^yln x$$"
   ]
  },
  {
   "cell_type": "code",
   "execution_count": null,
   "metadata": {
    "collapsed": true
   },
   "outputs": [],
   "source": []
  },
  {
   "cell_type": "markdown",
   "metadata": {},
   "source": [
    "**2. Найти частные производные функции $f(x,y) = \\frac{2(x+y)(1 + xy)}{(1 + x^2)(1+y^2))}$**\n",
    "\n",
    "- $f'_{x}(x_{0},y_{0})$\n",
    "- $f'_{y}(x_{0},y_{0})$\n",
    "\n",
    "в точке $x_0 = 0, y_0 = 0$\n",
    "\n",
    "Ответ запишите с точностью до 3 знака после запятой"
   ]
  },
  {
   "cell_type": "code",
   "execution_count": 6,
   "metadata": {},
   "outputs": [
    {
     "name": "stdout",
     "output_type": "stream",
     "text": [
      "2.0\n",
      "2.0\n"
     ]
    }
   ],
   "source": [
    "def f(x,y):\n",
    "    return (2*(x + y)*(1 + x*y))/((1 + x**2)*(1 + y**2))\n",
    "\n",
    "x0=0\n",
    "y0=0\n",
    "eps = 0.000001\n",
    "\n",
    "print round((f(x0 + eps, y0) - f(x0, y0)) / eps, 3)\n",
    "print round((f(x0, y0 + eps) - f(x0, y0)) / eps, 3)"
   ]
  },
  {
   "cell_type": "markdown",
   "metadata": {},
   "source": [
    "Аналитический вид частных производных:\n",
    "    \n",
    "- $$f'_x(x,y) = \\frac{2(1-x^2)}{(1+x^2)^2}$$\n",
    "- $$f'_y(x,y) = \\frac{2(1-y^2)}{(1+y^2)^2}$$"
   ]
  },
  {
   "cell_type": "code",
   "execution_count": null,
   "metadata": {
    "collapsed": true
   },
   "outputs": [],
   "source": []
  },
  {
   "cell_type": "markdown",
   "metadata": {},
   "source": [
    "**3. Найти частные производные функции**\n",
    "\n",
    "$$f(x,y,z) = \\frac{5z^2sin^2(e^{0.8x})}{e^{\\frac{y^2}{2}}}$$\n",
    "\n",
    "- $f'_{x}(x_{0},y_{0}, z_{0})$\n",
    "- $f'_{y}(x_{0},y_{0}, z_{0})$\n",
    "- $f'_{z}(x_{0},y_{0}, z_{0})$\n",
    "\n",
    "в точке $x_0 = 2, y_0 = 2, z_0 = 2$\n",
    "\n",
    "Ответ запишите с точностью до 3 знака после запятой"
   ]
  },
  {
   "cell_type": "code",
   "execution_count": 7,
   "metadata": {},
   "outputs": [
    {
     "name": "stdout",
     "output_type": "stream",
     "text": [
      "-4.965\n",
      "-5.106\n",
      "2.553\n"
     ]
    }
   ],
   "source": [
    "import numpy as np\n",
    "def f(x, y, z):\n",
    "    return (5. * z**2 * (np.sin(np.exp(0.8*x)))** 2) / (np.exp(y**2 / 2.))\n",
    "\n",
    "x0=2\n",
    "y0=2\n",
    "z0=2\n",
    "eps = 0.000001\n",
    "\n",
    "print round((f(x0 + eps, y0, z0) - f(x0, y0, z0)) / eps, 3)\n",
    "print round((f(x0, y0 + eps, z0) - f(x0, y0, z0)) / eps, 3)\n",
    "print round((f(x0, y0, z0 + eps) - f(x0, y0, z0)) / eps, 3)"
   ]
  },
  {
   "cell_type": "code",
   "execution_count": null,
   "metadata": {
    "collapsed": true
   },
   "outputs": [],
   "source": []
  },
  {
   "cell_type": "markdown",
   "metadata": {},
   "source": [
    "## Производная по направлению\n",
    "\n",
    "Можно показать, что производная от функции $f'(x, y)$ в направлении единичного вектора $\\vec{l}$:\n",
    "\n",
    "$f'_l(x_0,y_0) = \\frac{\\partial f}{\\partial l} = f'_x(x_0,y_0)\\cdot cos\\alpha + f'_y(x_0,y_0)\\cdot cos\\beta $, \n",
    "\n",
    "где\n",
    "\n",
    "- $f'_x(x_0,y_0)$ и $f'_y(x_0,y_0)$ - частные производные по $x$ и $y$,  соответственно\n",
    "\n",
    "- $\\alpha$ и $\\beta$ - углы между вектором $\\vec{l}$ и $x$ и $y$, соответственно.\n",
    "\n",
    "*Геометрический смысл этой формулы интуитивно понятен - это просто сумма компонент по обеим осям.*"
   ]
  },
  {
   "cell_type": "markdown",
   "metadata": {},
   "source": [
    "Напомним, угол между двумя векторами можно найти с помощью скалярного произведения:\n",
    "$$\\frac{u \\cdot v} {||u||_2 ||v||_2}$$"
   ]
  },
  {
   "cell_type": "markdown",
   "metadata": {},
   "source": [
    "**Пример.**\n",
    "\n",
    "Найти производную функции $f(x,y) = 3$ в точке $x_0 = -1, y_0=2$\n",
    "\n",
    "по направлению вектора $\\vec{\\upsilon }(1,3)$"
   ]
  },
  {
   "cell_type": "code",
   "execution_count": 8,
   "metadata": {},
   "outputs": [
    {
     "name": "stdout",
     "output_type": "stream",
     "text": [
      "0.0\n",
      "0.0\n"
     ]
    }
   ],
   "source": [
    "def f(x, y):\n",
    "    return 3\n",
    "\n",
    "x0 = -1\n",
    "y0 = 2\n",
    "\n",
    "fx = (f(x0+eps, y0) - f(x0, y0)) / eps\n",
    "fy = (f(x0, y0 + eps) - f(x0, y0)) / eps\n",
    "print (fx)\n",
    "print (fy)"
   ]
  },
  {
   "cell_type": "code",
   "execution_count": 9,
   "metadata": {},
   "outputs": [
    {
     "name": "stdout",
     "output_type": "stream",
     "text": [
      "0.316227766017\n",
      "0.948683298051\n"
     ]
    }
   ],
   "source": [
    "alfa = np.dot([1,3], [1,0])/(np.linalg.norm([1,3])*np.linalg.norm([1,0]))\n",
    "beta = np.dot([1,3], [0,1])/(np.linalg.norm([1,3])*np.linalg.norm([0,1]))\n",
    "\n",
    "print (alfa)\n",
    "print (beta)"
   ]
  },
  {
   "cell_type": "code",
   "execution_count": 10,
   "metadata": {},
   "outputs": [
    {
     "name": "stdout",
     "output_type": "stream",
     "text": [
      "0.0\n"
     ]
    }
   ],
   "source": [
    "fv = fx*alfa + fy*beta\n",
    "print (fv)"
   ]
  },
  {
   "cell_type": "markdown",
   "metadata": {},
   "source": [
    "Ответ: $$\\frac{\\partial f(-1, 2)}{\\partial \\upsilon} = 0$$"
   ]
  },
  {
   "cell_type": "code",
   "execution_count": null,
   "metadata": {
    "collapsed": true
   },
   "outputs": [],
   "source": []
  },
  {
   "cell_type": "markdown",
   "metadata": {},
   "source": [
    "** 4. Найти производную функции $f(x) = x - y$ в точке $x_0 = 0, y_0=0$ по направлению:**\n",
    "\n",
    "1. координатных осей (параллельно им);\n",
    "2. вектора $\\vec{a}(2;2)$;\n",
    "3. вектора $\\vec{b}(-1;-3)$;\n",
    "4. градиента."
   ]
  },
  {
   "cell_type": "code",
   "execution_count": 11,
   "metadata": {},
   "outputs": [
    {
     "name": "stdout",
     "output_type": "stream",
     "text": [
      "1.0\n",
      "-1.0\n"
     ]
    }
   ],
   "source": [
    "def f(x, y):\n",
    "    return x - y\n",
    "x0 = 0\n",
    "y0 = 0\n",
    "\n",
    "fx = (f(x0+eps, y0) - f(x0, y0)) / eps\n",
    "fy = (f(x0, y0 + eps) - f(x0, y0)) / eps\n",
    "print (fx)\n",
    "print (fy)"
   ]
  },
  {
   "cell_type": "code",
   "execution_count": 14,
   "metadata": {},
   "outputs": [
    {
     "name": "stdout",
     "output_type": "stream",
     "text": [
      "1.0\n",
      "0.0\n",
      "\n",
      "0.0\n",
      "1.0\n",
      "\n",
      "1.0\n",
      "-1.0\n"
     ]
    }
   ],
   "source": [
    "#1\n",
    "\n",
    "e1 = [1, 0]\n",
    "e2 = [0, 1]\n",
    "\n",
    "alfa_e1 = np.dot(e1, [1,0])/(np.linalg.norm(e1)*np.linalg.norm([1,0]))\n",
    "beta_e1 = np.dot(e1, [0,1])/(np.linalg.norm(e1)*np.linalg.norm([0,1]))\n",
    "\n",
    "print alfa_e1\n",
    "print beta_e1\n",
    "\n",
    "print \n",
    "\n",
    "alfa_e2 = np.dot(e2, [1,0])/(np.linalg.norm(e2)*np.linalg.norm([1,0]))\n",
    "beta_e2 = np.dot(e2, [0,1])/(np.linalg.norm(e2)*np.linalg.norm([0,1]))\n",
    "\n",
    "print alfa_e2\n",
    "print beta_e2\n",
    "\n",
    "print \n",
    "\n",
    "\n",
    "fe1 = fx*alfa_e1 + fy*beta_e1\n",
    "print fe1\n",
    "\n",
    "fe2 = fx*alfa_e2 + fy*beta_e2\n",
    "print fe2"
   ]
  },
  {
   "cell_type": "markdown",
   "metadata": {},
   "source": [
    "Ответ: \n",
    "    \n",
    "- $$\\frac{\\partial f(0, 0)}{\\partial x} = 1$$\n",
    "\n",
    "- $$\\frac{\\partial f(0, 0)}{\\partial y} = -1$$"
   ]
  },
  {
   "cell_type": "code",
   "execution_count": 15,
   "metadata": {},
   "outputs": [
    {
     "name": "stdout",
     "output_type": "stream",
     "text": [
      "0.707106781187\n",
      "0.707106781187\n",
      "\n",
      "0.0\n"
     ]
    }
   ],
   "source": [
    "#2\n",
    "\n",
    "a = [2,2]\n",
    "\n",
    "alfa_a = np.dot(a, [1,0])/(np.linalg.norm(a)*np.linalg.norm([1,0]))\n",
    "beta_a = np.dot(a, [0,1])/(np.linalg.norm(a)*np.linalg.norm([0,1]))\n",
    "\n",
    "print alfa_a\n",
    "print beta_a\n",
    "\n",
    "print \n",
    "\n",
    "\n",
    "fa = fx*alfa_a + fy*beta_a\n",
    "print fa"
   ]
  },
  {
   "cell_type": "markdown",
   "metadata": {},
   "source": [
    "Ответ: \n",
    "    \n",
    "$$\\frac{\\partial f(0, 0)}{\\partial a} = 0$$"
   ]
  },
  {
   "cell_type": "code",
   "execution_count": 21,
   "metadata": {},
   "outputs": [
    {
     "name": "stdout",
     "output_type": "stream",
     "text": [
      "-0.316227766017\n",
      "-0.948683298051\n",
      "\n",
      "0.632455532034\n"
     ]
    }
   ],
   "source": [
    "#3\n",
    "\n",
    "b = [-1,-3]\n",
    "\n",
    "alfa_b = np.dot(b, [1,0])/(np.linalg.norm(b)*np.linalg.norm([1,0]))\n",
    "beta_b = np.dot(b, [0,1])/(np.linalg.norm(b)*np.linalg.norm([0,1]))\n",
    "\n",
    "print alfa_b\n",
    "print beta_b\n",
    "\n",
    "print \n",
    "\n",
    "\n",
    "fb = fx*alfa_b + fy*beta_b\n",
    "print fb"
   ]
  },
  {
   "cell_type": "markdown",
   "metadata": {},
   "source": [
    "Ответ: \n",
    "    \n",
    "$$\\frac{\\partial f(0, 0)}{\\partial b} \\approx  0.63$$\n",
    "\n",
    "Точный ответ (если найти решение аналитически):\n",
    "    \n",
    "$$\\frac{\\partial f(0, 0)}{\\partial b} =  \\frac{2}{\\sqrt{10}}$$"
   ]
  },
  {
   "cell_type": "code",
   "execution_count": null,
   "metadata": {
    "collapsed": true
   },
   "outputs": [],
   "source": []
  },
  {
   "cell_type": "markdown",
   "metadata": {},
   "source": [
    "Напомним определение Градиента:\n",
    "$${\\mathrm  {grad}}\\,\\varphi =\\nabla \\varphi ={\\frac  {\\partial \\varphi }{\\partial x}}{\\vec  e}_{x}+{\\frac  {\\partial \\varphi }{\\partial y}}{\\vec  e}_{y}+{\\frac  {\\partial \\varphi }{\\partial z}}{\\vec  e}_{z}$$\n",
    "\n",
    "т.е. фактически это вектор из частных производных по направлениям осей."
   ]
  },
  {
   "cell_type": "code",
   "execution_count": 22,
   "metadata": {},
   "outputs": [
    {
     "name": "stdout",
     "output_type": "stream",
     "text": [
      "1.0\n",
      "-1.0\n",
      "[1.0, -1.0]\n",
      "0.707106781187\n",
      "-0.707106781187\n",
      "\n",
      "1.41421356237\n"
     ]
    }
   ],
   "source": [
    "#4\n",
    "\n",
    "print fx\n",
    "print fy\n",
    "\n",
    "grad = [fx, fy]\n",
    "print grad\n",
    "\n",
    "\n",
    "alfa_grad = np.dot(grad, [1,0])/(np.linalg.norm(grad)*np.linalg.norm([1,0]))\n",
    "beta_grad = np.dot(grad, [0,1])/(np.linalg.norm(grad)*np.linalg.norm([0,1]))\n",
    "\n",
    "print alfa_grad\n",
    "print beta_grad\n",
    "\n",
    "print \n",
    "\n",
    "\n",
    "fgrad = fx*alfa_grad + fy*beta_grad\n",
    "print fgrad"
   ]
  },
  {
   "cell_type": "markdown",
   "metadata": {
    "collapsed": true
   },
   "source": [
    "Ответ: \n",
    "    \n",
    "$$\\frac{\\partial f(0, 0)}{\\partial l_{grad}} \\approx  1.4$$\n",
    "\n",
    "Точный ответ (если найти решение аналитически):\n",
    "\n",
    "$$\\frac{\\partial f(0, 0)}{\\partial l_{grad}} =  \\sqrt{2}$$"
   ]
  },
  {
   "cell_type": "code",
   "execution_count": null,
   "metadata": {
    "collapsed": true
   },
   "outputs": [],
   "source": []
  }
 ],
 "metadata": {
  "kernelspec": {
   "display_name": "Python 2",
   "language": "python",
   "name": "python2"
  },
  "language_info": {
   "codemirror_mode": {
    "name": "ipython",
    "version": 2
   },
   "file_extension": ".py",
   "mimetype": "text/x-python",
   "name": "python",
   "nbconvert_exporter": "python",
   "pygments_lexer": "ipython2",
   "version": "2.7.13"
  }
 },
 "nbformat": 4,
 "nbformat_minor": 2
}
