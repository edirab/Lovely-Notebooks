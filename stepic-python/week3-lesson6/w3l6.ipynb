{
 "cells": [
  {
   "cell_type": "code",
   "execution_count": 1,
   "metadata": {
    "collapsed": true
   },
   "outputs": [],
   "source": [
    "import numpy as np\n",
    "np.set_printoptions(precision=2, suppress=True)"
   ]
  },
  {
   "cell_type": "markdown",
   "metadata": {},
   "source": [
    "# Спектральное разложение\n",
    "\n",
    "Спектральное разложение матрицы — это представление **квадратной** матрицы ${\\displaystyle A}$ в виде произведения трёх матриц, ${\\displaystyle A=V\\Lambda V^{-1}}$, где \n",
    "\n",
    "- ${\\displaystyle V}$ — матрица, столбцы которой являются ортонормированными собственными векторами матрицы ${\\displaystyle A}$, \n",
    "- ${\\displaystyle \\Lambda }$  — диагональная матрица с соответствующими собственными значениями на главной диагонали, \n",
    "- ${\\displaystyle V^{-1}}$ — матрица, обратная матрице ${\\displaystyle V}$.\n",
    "\n",
    "Обозначение из лекций: $X = S^T \\cdot  D \\cdot S$"
   ]
  },
  {
   "cell_type": "markdown",
   "metadata": {},
   "source": [
    "$$P(x, y, z) = x^2 + 2 y^2 - 3 z^2 + 4 xy + 10 yz - 2 xz$$\n",
    "\n",
    "$$\n",
    "P(x, y, z) =\n",
    "\\left(\n",
    "\\begin{array}{ccc}\n",
    "x & y & z\n",
    "\\end{array}\n",
    "\\right)\n",
    "\\left(\n",
    "\\begin{array}{ccc}\n",
    "1 & 2 & -1 \\\\\n",
    "2 & 2 & 5 \\\\\n",
    "-1 & 5 & -3 \\end{array}\n",
    "\\right)\n",
    "\\left(\n",
    "\\begin{array}{c}\n",
    "x \\\\\n",
    "y \\\\\n",
    "z \\end{array}\n",
    "\\right)\n",
    "$$"
   ]
  },
  {
   "cell_type": "code",
   "execution_count": 2,
   "metadata": {},
   "outputs": [
    {
     "name": "stdout",
     "output_type": "stream",
     "text": [
      "[[ 1.  2. -1.]\n",
      " [ 2.  2.  5.]\n",
      " [-1.  5. -3.]]\n"
     ]
    }
   ],
   "source": [
    "A = np.array([[1.0, 2.0, -1.0],\n",
    "              [2.0, 2.0, 5.0],\n",
    "              [-1.0, 5.0, -3.0]])\n",
    "print A"
   ]
  },
  {
   "cell_type": "code",
   "execution_count": 3,
   "metadata": {
    "collapsed": true
   },
   "outputs": [],
   "source": [
    "v, W = np.linalg.eigh(A)\n",
    "D = np.diag(v)\n",
    "S = W.T"
   ]
  },
  {
   "cell_type": "code",
   "execution_count": 4,
   "metadata": {},
   "outputs": [
    {
     "data": {
      "text/plain": [
       "array([-6.58,  1.15,  5.43])"
      ]
     },
     "execution_count": 4,
     "metadata": {},
     "output_type": "execute_result"
    }
   ],
   "source": [
    "v"
   ]
  },
  {
   "cell_type": "code",
   "execution_count": 5,
   "metadata": {},
   "outputs": [
    {
     "name": "stdout",
     "output_type": "stream",
     "text": [
      "D =\n",
      "[[-6.58  0.    0.  ]\n",
      " [ 0.    1.15  0.  ]\n",
      " [ 0.    0.    5.43]]\n",
      "S=\n",
      "[[-0.25  0.53 -0.81]\n",
      " [ 0.93 -0.11 -0.35]\n",
      " [-0.27 -0.84 -0.47]]\n"
     ]
    }
   ],
   "source": [
    "print 'D =\\n', D\n",
    "print 'S=\\n', S"
   ]
  },
  {
   "cell_type": "code",
   "execution_count": 6,
   "metadata": {},
   "outputs": [
    {
     "name": "stdout",
     "output_type": "stream",
     "text": [
      "[[ 1.  0.  0.]\n",
      " [ 0.  1.  0.]\n",
      " [ 0.  0.  1.]]\n"
     ]
    }
   ],
   "source": [
    "print np.dot(S.T, S)"
   ]
  },
  {
   "cell_type": "code",
   "execution_count": 7,
   "metadata": {},
   "outputs": [
    {
     "name": "stdout",
     "output_type": "stream",
     "text": [
      "[[ 1.  2. -1.]\n",
      " [ 2.  2.  5.]\n",
      " [-1.  5. -3.]]\n"
     ]
    }
   ],
   "source": [
    "print np.dot(np.dot(S.T, D), S)"
   ]
  },
  {
   "cell_type": "markdown",
   "metadata": {},
   "source": [
    "Таким образом,\n",
    "$$P(x, y, z) = -6.58 \\cdot \\tilde{x}^2 + 1.15 \\cdot \\tilde{y}^2 + 5.43 \\cdot \\tilde{z}^2,$$\n",
    "где\n",
    "$$\n",
    "\\left(\n",
    "\\begin{array}{c}\n",
    "\\tilde{x} \\\\\n",
    "\\tilde{y} \\\\\n",
    "\\tilde{z} \\end{array}\n",
    "\\right) =\n",
    "S\n",
    "\\left(\n",
    "\\begin{array}{c}\n",
    "x \\\\\n",
    "y \\\\\n",
    "z \\end{array}\n",
    "\\right),\n",
    "$$ т.е.\n",
    "$$\n",
    "\\tilde{x} = -0.25 x + 0.53 y - 0.81 z,\n",
    "$$\n",
    "$$\n",
    "\\tilde{y} = 0.93 x - 0.11 y - 0.35 z,\n",
    "$$\n",
    "$$\n",
    "\\tilde{z} = -0.27 x - 0.84 y - 0.47 z.\n",
    "$$"
   ]
  },
  {
   "cell_type": "markdown",
   "metadata": {},
   "source": [
    "<img src=\"https://habrastorage.org/files/a0c/1e6/ad2/a0c1e6ad2e8340dfb6517dc6d1921635.jpg\">\n",
    "\n",
    "<img src=\"https://upload.wikimedia.org/wikipedia/ru/4/4a/FirstPrincipalComponent.jpg\">"
   ]
  },
  {
   "cell_type": "code",
   "execution_count": null,
   "metadata": {
    "collapsed": true
   },
   "outputs": [],
   "source": []
  },
  {
   "cell_type": "markdown",
   "metadata": {},
   "source": [
    "# Сингулярное разложение\n",
    "\n",
    "Сингулярным разложением матрицы ${\\displaystyle M}$ порядка $m\\times n$ является разложение вида $M=U\\Sigma V^{*}$, где \n",
    "\n",
    "- $\\Sigma$  — матрица размера $m\\times n$ с неотрицательными элементами, у которой элементы, лежащие на главной диагонали — это сингулярные числа (а все элементы, не лежащие на главной диагонали, являются нулевыми), \n",
    "- а матрицы $U$ (порядка $m$) и $V$ (порядка $n$) — это две унитарные матрицы, состоящие из левых и правых сингулярных векторов соответственно (а $V^*$ — это сопряжённо-транспонированная матрица к $V$).\n",
    "\n",
    "\n",
    "Обозначение из лекций: $X = U \\cdot  D \\cdot V$"
   ]
  },
  {
   "cell_type": "code",
   "execution_count": 8,
   "metadata": {},
   "outputs": [
    {
     "name": "stdout",
     "output_type": "stream",
     "text": [
      "[[ 1  2  0]\n",
      " [ 0  0  5]\n",
      " [ 3 -4  2]\n",
      " [ 1  6  5]\n",
      " [ 0  1  0]]\n"
     ]
    }
   ],
   "source": [
    "X = np.array([[1, 2, 0],\n",
    "              [0, 0, 5],\n",
    "              [3, -4, 2],\n",
    "              [1, 6, 5],\n",
    "              [0, 1, 0]])\n",
    "print X"
   ]
  },
  {
   "cell_type": "code",
   "execution_count": 9,
   "metadata": {
    "collapsed": true
   },
   "outputs": [],
   "source": [
    "U, s, W = np.linalg.svd(X)\n",
    "\n",
    "V = W.T\n",
    "\n",
    "D = np.zeros_like(X, dtype=float)\n",
    "D[np.diag_indices(min(X.shape))] = s"
   ]
  },
  {
   "cell_type": "code",
   "execution_count": 10,
   "metadata": {},
   "outputs": [
    {
     "data": {
      "text/plain": [
       "array([ 8.82,  6.14,  2.53])"
      ]
     },
     "execution_count": 10,
     "metadata": {},
     "output_type": "execute_result"
    }
   ],
   "source": [
    "s"
   ]
  },
  {
   "cell_type": "code",
   "execution_count": 11,
   "metadata": {},
   "outputs": [
    {
     "name": "stdout",
     "output_type": "stream",
     "text": [
      "(5L, 3L)\n",
      "(5L, 5L) (5L, 3L) (3L, 3L)\n"
     ]
    }
   ],
   "source": [
    "print X.shape\n",
    "print U.shape, D.shape, V.shape"
   ]
  },
  {
   "cell_type": "code",
   "execution_count": 12,
   "metadata": {},
   "outputs": [
    {
     "name": "stdout",
     "output_type": "stream",
     "text": [
      "[[ 1.  0. -0. -0. -0.]\n",
      " [ 0.  1.  0. -0.  0.]\n",
      " [-0.  0.  1. -0. -0.]\n",
      " [-0. -0. -0.  1. -0.]\n",
      " [-0.  0. -0. -0.  1.]]\n"
     ]
    }
   ],
   "source": [
    "print np.dot(U.T, U)"
   ]
  },
  {
   "cell_type": "code",
   "execution_count": 13,
   "metadata": {},
   "outputs": [
    {
     "name": "stdout",
     "output_type": "stream",
     "text": [
      "[[ 8.82  0.    0.  ]\n",
      " [ 0.    6.14  0.  ]\n",
      " [ 0.    0.    2.53]\n",
      " [ 0.    0.    0.  ]\n",
      " [ 0.    0.    0.  ]]\n"
     ]
    }
   ],
   "source": [
    "print D"
   ]
  },
  {
   "cell_type": "code",
   "execution_count": 14,
   "metadata": {},
   "outputs": [
    {
     "name": "stdout",
     "output_type": "stream",
     "text": [
      "[[ 1.  0.  0.]\n",
      " [ 0.  1. -0.]\n",
      " [ 0. -0.  1.]]\n"
     ]
    }
   ],
   "source": [
    "print np.dot(V.T, V)"
   ]
  },
  {
   "cell_type": "code",
   "execution_count": 15,
   "metadata": {},
   "outputs": [
    {
     "data": {
      "text/plain": [
       "array([[ 1.,  2.,  0.],\n",
       "       [ 0., -0.,  5.],\n",
       "       [ 3., -4.,  2.],\n",
       "       [ 1.,  6.,  5.],\n",
       "       [-0.,  1.,  0.]])"
      ]
     },
     "execution_count": 15,
     "metadata": {},
     "output_type": "execute_result"
    }
   ],
   "source": [
    "np.dot(np.dot(U, D), V.T)"
   ]
  },
  {
   "cell_type": "markdown",
   "metadata": {},
   "source": [
    "Можно представить сингулярное разложение в виде:\n",
    "    \n",
    "$$a(i,j) = \\lambda_1u_1(i)v_1(j) + \\lambda_2u_2(i)v_2(j) + ...$$"
   ]
  },
  {
   "cell_type": "markdown",
   "metadata": {},
   "source": [
    "<img src=\"data:image/png;base64,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\" alt=\"\" />"
   ]
  },
  {
   "cell_type": "code",
   "execution_count": null,
   "metadata": {
    "collapsed": true
   },
   "outputs": [],
   "source": []
  },
  {
   "cell_type": "code",
   "execution_count": null,
   "metadata": {
    "collapsed": true
   },
   "outputs": [],
   "source": []
  },
  {
   "cell_type": "code",
   "execution_count": null,
   "metadata": {
    "collapsed": true
   },
   "outputs": [],
   "source": []
  }
 ],
 "metadata": {
  "kernelspec": {
   "display_name": "Python 2",
   "language": "python",
   "name": "python2"
  },
  "language_info": {
   "codemirror_mode": {
    "name": "ipython",
    "version": 2
   },
   "file_extension": ".py",
   "mimetype": "text/x-python",
   "name": "python",
   "nbconvert_exporter": "python",
   "pygments_lexer": "ipython2",
   "version": "2.7.13"
  }
 },
 "nbformat": 4,
 "nbformat_minor": 1
}
