{
 "cells": [
  {
   "cell_type": "markdown",
   "metadata": {},
   "source": [
    "### Факультатив недели №1"
   ]
  },
  {
   "cell_type": "code",
   "execution_count": 2,
   "metadata": {},
   "outputs": [],
   "source": [
    "def numerics(n):\n",
    "    return list(map(int, str(n)))"
   ]
  },
  {
   "cell_type": "code",
   "execution_count": 3,
   "metadata": {},
   "outputs": [
    {
     "data": {
      "text/plain": [
       "[4, 2, 2, 4]"
      ]
     },
     "execution_count": 3,
     "metadata": {},
     "output_type": "execute_result"
    }
   ],
   "source": [
    "numerics(4224)"
   ]
  },
  {
   "cell_type": "code",
   "execution_count": 5,
   "metadata": {},
   "outputs": [],
   "source": [
    "def kaprekar_step(L):\n",
    "    LL1 = L.copy()\n",
    "    LL2 = L.copy()\n",
    "\n",
    "    LL1.sort()\n",
    "    LL2.sort(reverse=True)\n",
    "    #print(LL1, LL2)\n",
    "    \n",
    "    s1 = int(''.join(map(str, LL1)))\n",
    "    s2 = int(''.join(map(str, LL2)))\n",
    "    \n",
    "    #print(s1, s2, max(s1, s2) - min(s1, s2))\n",
    "    res1 = (max(s1, s2) - min(s1, s2))\n",
    "    \n",
    "    return res1"
   ]
  },
  {
   "cell_type": "code",
   "execution_count": 6,
   "metadata": {},
   "outputs": [
    {
     "data": {
      "text/plain": [
       "198"
      ]
     },
     "execution_count": 6,
     "metadata": {},
     "output_type": "execute_result"
    }
   ],
   "source": [
    "kaprekar_step([4, 5, 6])\n",
    "#kaprekar_step([7, 3, 3, 9])"
   ]
  },
  {
   "cell_type": "code",
   "execution_count": 7,
   "metadata": {},
   "outputs": [],
   "source": [
    "def kaprekar_loop(n):\n",
    "    r = n\n",
    "    \n",
    "    if r == 1000:\n",
    "        print(\"Ошибка! На вход подано число 1000\")\n",
    "        return\n",
    "    if len(set(numerics(r))) == 1:\n",
    "        print(\"Ошибка! На вход подано число {} - все цифры одинаковые\".format(r))\n",
    "        return\n",
    "    \n",
    "    print(r)    \n",
    "    \n",
    "    if n == 6174:\n",
    "        return\n",
    "\n",
    "    while r != 6174:\n",
    "        r_list = numerics(r)\n",
    "        r = kaprekar_step(r_list)\n",
    "        print(r)\n",
    "    return"
   ]
  },
  {
   "cell_type": "code",
   "execution_count": 8,
   "metadata": {},
   "outputs": [
    {
     "name": "stdout",
     "output_type": "stream",
     "text": [
      "Ошибка! На вход подано число 1000\n"
     ]
    }
   ],
   "source": [
    "kaprekar_loop(1000)"
   ]
  },
  {
   "cell_type": "code",
   "execution_count": 9,
   "metadata": {},
   "outputs": [],
   "source": [
    "def kaprekar_check(n):\n",
    "    s = list(str(n))\n",
    "    \n",
    "    if len(s) == 3 or len(s) == 4 or len(s) == 6:\n",
    "        if len(set(s)) != 1:\n",
    "            if n != 100 and n != 1000 and n != 100000:\n",
    "                return True\n",
    "    return False"
   ]
  },
  {
   "cell_type": "code",
   "execution_count": 10,
   "metadata": {},
   "outputs": [],
   "source": [
    "def kaprekar_loop(n):\n",
    "    \n",
    "    kap_nums = {495, 6174, 549945, 631764}\n",
    "    \n",
    "    if kaprekar_check(n):\n",
    "        print(n)\n",
    "        prev_numbers= set()\n",
    "        ka = n\n",
    "        \n",
    "        while (ka not in kap_nums):\n",
    "            ka_list = numerics(ka)\n",
    "            ka = kaprekar_step(ka_list)\n",
    "            if ka in prev_numbers:\n",
    "                print(\"Следующее число - {}, кажется процесс зациклился...\".format(ka))\n",
    "                return\n",
    "            else:\n",
    "                prev_numbers.add(ka)\n",
    "                print(ka)\n",
    "        \n",
    "        \n",
    "    else:\n",
    "        print(\"Ошибка! На вход подано число {}, не удовлетворяющее условиям процесса Капрекара\".format(n))\n",
    "    return"
   ]
  },
  {
   "cell_type": "code",
   "execution_count": 11,
   "metadata": {},
   "outputs": [
    {
     "name": "stdout",
     "output_type": "stream",
     "text": [
      "1234\n",
      "3087\n",
      "8352\n",
      "6174\n"
     ]
    }
   ],
   "source": [
    "kaprekar_loop(1234)"
   ]
  },
  {
   "cell_type": "code",
   "execution_count": null,
   "metadata": {},
   "outputs": [],
   "source": []
  }
 ],
 "metadata": {
  "kernelspec": {
   "display_name": "Python 3",
   "language": "python",
   "name": "python3"
  },
  "language_info": {
   "codemirror_mode": {
    "name": "ipython",
    "version": 3
   },
   "file_extension": ".py",
   "mimetype": "text/x-python",
   "name": "python",
   "nbconvert_exporter": "python",
   "pygments_lexer": "ipython3",
   "version": "3.7.7"
  }
 },
 "nbformat": 4,
 "nbformat_minor": 4
}
