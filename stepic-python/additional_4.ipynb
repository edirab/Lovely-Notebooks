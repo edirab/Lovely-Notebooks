{
 "cells": [
  {
   "cell_type": "markdown",
   "metadata": {},
   "source": [
    "### Факультатив недели №1\n",
    "\n",
    "#### 4.5 Таблица умножения двузначных чисел от \"Мудреца\""
   ]
  },
  {
   "cell_type": "code",
   "execution_count": 1,
   "metadata": {},
   "outputs": [],
   "source": [
    "def simple_multiplication(x, y):\n",
    "    step1 = (100 - ((100-x)+(100-y)))*100\n",
    "    step2 = (100 - x)*(100 - y)\n",
    "    # print(step1, step2)\n",
    "    return step1 + step2"
   ]
  },
  {
   "cell_type": "code",
   "execution_count": 2,
   "metadata": {},
   "outputs": [
    {
     "data": {
      "text/plain": [
       "9312"
      ]
     },
     "execution_count": 2,
     "metadata": {},
     "output_type": "execute_result"
    }
   ],
   "source": [
    "simple_multiplication(97,96)"
   ]
  },
  {
   "cell_type": "code",
   "execution_count": 3,
   "metadata": {},
   "outputs": [],
   "source": [
    "def multiplication_check(x, y):\n",
    "    if simple_multiplication(x, y) == x*y:\n",
    "        return True\n",
    "    return False"
   ]
  },
  {
   "cell_type": "code",
   "execution_count": 7,
   "metadata": {},
   "outputs": [],
   "source": [
    "def multiplication_check_list(start = 10, stop = 99):\n",
    "    pairs = list()\n",
    "    for i in range(start, stop+1):\n",
    "        for j in range(start, stop+1):\n",
    "            pairs.append([i, j])\n",
    "    # print(pairs)\n",
    "    \n",
    "    counter_right = 0\n",
    "    counter_wrong = 0\n",
    "    for p in pairs:\n",
    "        if multiplication_check(*p):\n",
    "            counter_right += 1\n",
    "        else:\n",
    "            counter_wrong += 1\n",
    "    print(\"Правильных результатов:\", counter_right)\n",
    "    print(\"Неправильных результатов:\", counter_wrong)\n",
    "    return"
   ]
  },
  {
   "cell_type": "code",
   "execution_count": 8,
   "metadata": {},
   "outputs": [
    {
     "name": "stdout",
     "output_type": "stream",
     "text": [
      "Правильных результатов: 9\n",
      "Неправильных результатов: 0\n"
     ]
    }
   ],
   "source": [
    "multiplication_check_list(11,13)"
   ]
  },
  {
   "cell_type": "code",
   "execution_count": 10,
   "metadata": {},
   "outputs": [
    {
     "data": {
      "text/plain": [
       "9009"
      ]
     },
     "execution_count": 10,
     "metadata": {},
     "output_type": "execute_result"
    }
   ],
   "source": [
    "99*91"
   ]
  },
  {
   "cell_type": "markdown",
   "metadata": {},
   "source": [
    "### Умножение по \"схеме мудреца\" с конкатенацией"
   ]
  },
  {
   "cell_type": "code",
   "execution_count": 32,
   "metadata": {},
   "outputs": [],
   "source": [
    "def wisdom_multiplication(x, y, length_check = True):\n",
    "    step1 = (100 - ((100-x)+(100-y)))\n",
    "    step2 = (100 - x)*(100 - y)\n",
    "    \n",
    "    out = str(step1)\n",
    "    \n",
    "    if length_check and len(str(step2)) == 1:\n",
    "            out += '0'\n",
    "            out += str(step2)\n",
    "    else:\n",
    "        out += str(step2)\n",
    "    return int(out)\n",
    "    \n",
    "    "
   ]
  },
  {
   "cell_type": "code",
   "execution_count": 33,
   "metadata": {},
   "outputs": [
    {
     "data": {
      "text/plain": [
       "9312"
      ]
     },
     "execution_count": 33,
     "metadata": {},
     "output_type": "execute_result"
    }
   ],
   "source": [
    "wisdom_multiplication(96, 97, length_check = True)"
   ]
  },
  {
   "cell_type": "markdown",
   "metadata": {},
   "source": [
    "### Пакетная проверка \"схемы мудреца\" с конкатенацией"
   ]
  },
  {
   "cell_type": "code",
   "execution_count": 39,
   "metadata": {},
   "outputs": [],
   "source": [
    "def multiplication_check(x, y, length_check):\n",
    "    #print(x, y, length_check)\n",
    "    if wisdom_multiplication(x, y, length_check) == x*y:\n",
    "        return True\n",
    "    return False\n",
    "\n",
    "\n",
    "def multiplication_check_list(start = 10, stop = 99, length_check = True):\n",
    "    pairs = list()\n",
    "    for i in range(start, stop+1):\n",
    "        for j in range(start, stop+1):\n",
    "            pairs.append([i, j])\n",
    "    # print(pairs)\n",
    "    \n",
    "    counter_right = 0\n",
    "    counter_wrong = 0\n",
    "    for p in pairs:\n",
    "        if multiplication_check(*p, length_check):\n",
    "            counter_right += 1\n",
    "        else:\n",
    "            counter_wrong += 1\n",
    "    print(\"Правильных результатов:\", counter_right)\n",
    "    print(\"Неправильных результатов:\", counter_wrong)\n",
    "    return"
   ]
  },
  {
   "cell_type": "code",
   "execution_count": 41,
   "metadata": {},
   "outputs": [
    {
     "name": "stdout",
     "output_type": "stream",
     "text": [
      "Правильных результатов: 536\n",
      "Неправильных результатов: 7564\n"
     ]
    }
   ],
   "source": [
    "#multiplication_check_list(98, 99, False)\n",
    "multiplication_check_list()"
   ]
  }
 ],
 "metadata": {
  "kernelspec": {
   "display_name": "Python 3",
   "language": "python",
   "name": "python3"
  },
  "language_info": {
   "codemirror_mode": {
    "name": "ipython",
    "version": 3
   },
   "file_extension": ".py",
   "mimetype": "text/x-python",
   "name": "python",
   "nbconvert_exporter": "python",
   "pygments_lexer": "ipython3",
   "version": "3.7.7"
  }
 },
 "nbformat": 4,
 "nbformat_minor": 4
}
