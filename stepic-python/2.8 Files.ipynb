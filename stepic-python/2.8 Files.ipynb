{
 "cells": [
  {
   "cell_type": "code",
   "execution_count": 5,
   "metadata": {},
   "outputs": [
    {
     "name": "stdout",
     "output_type": "stream",
     "text": [
      "[5 3 1 5 9 0 9 5 5 5]\n"
     ]
    }
   ],
   "source": [
    "# creating file\n",
    "import numpy as np\n",
    "\n",
    "\n",
    "data = np.random.randint(0, 10, size=10)\n",
    "print(data)\n",
    "\n",
    "f = open('1.txt', 'w')\n",
    "\n",
    "for i in data:\n",
    "    f.write(str(i)+'\\n')\n",
    "\n",
    "f.close()"
   ]
  },
  {
   "cell_type": "code",
   "execution_count": 6,
   "metadata": {},
   "outputs": [],
   "source": [
    "pycat 1.txt"
   ]
  },
  {
   "cell_type": "code",
   "execution_count": 8,
   "metadata": {},
   "outputs": [
    {
     "name": "stdout",
     "output_type": "stream",
     "text": [
      "1.txt\n",
      "47\n"
     ]
    }
   ],
   "source": [
    "i = input()\n",
    "f = open(i)\n",
    "data = f.read().split()\n",
    "data = list(map(int, data))\n",
    "print(sum(data))"
   ]
  },
  {
   "cell_type": "markdown",
   "metadata": {},
   "source": [
    "- Откройте файл, имя которого передаётся на вход.\n",
    "\n",
    "Выведите на печать предпоследнюю строку.\n",
    "\n",
    " \n",
    "Примечание1. Последняя строка может заканчиваться символом переноса строки.\n",
    "\n",
    "Примечание2. Если в конце файла 2 символа переноса строки, значит последняя строка будет содержать ТОЛЬКО символ переноса строки."
   ]
  },
  {
   "cell_type": "code",
   "execution_count": 14,
   "metadata": {},
   "outputs": [],
   "source": [
    "t1 = \"\"\"\n",
    "1\n",
    "2\n",
    "3\n",
    "\n",
    "\n",
    "\"\"\"\n",
    "\n",
    "f = open('2.txt', 'w')\n",
    "f.write(t1)\n",
    "f.close()"
   ]
  },
  {
   "cell_type": "code",
   "execution_count": 17,
   "metadata": {},
   "outputs": [
    {
     "name": "stdout",
     "output_type": "stream",
     "text": [
      "\n",
      "\n"
     ]
    }
   ],
   "source": [
    "f = open('2.txt')\n",
    "\n",
    "d = f.readlines()\n",
    "print(d[-2])"
   ]
  },
  {
   "cell_type": "code",
   "execution_count": 27,
   "metadata": {},
   "outputs": [
    {
     "name": "stdout",
     "output_type": "stream",
     "text": [
      "экзамен\n",
      "Аттила 2 (экзамен)\n",
      "Бонапарт Наполеон (неявка)\n",
      "Гассан Абдуррахман ибн Хоттаб 5 (автомат)\n",
      "Задойный Алексей Владимирович 5 (экзамен)\n",
      "Колонна-Валевский Александр Флориан Жозеф (недопуск)\n",
      "Цезарь Гай Юлий 4 (экзамен)\n"
     ]
    }
   ],
   "source": [
    "sheet=\"\"\"Аттила 2 (экзамен)\n",
    "Бонапарт Наполеон (неявка)\n",
    "Гассан Абдуррахман ибн Хоттаб 5 (автомат)\n",
    "Задойный Алексей Владимирович 5 (экзамен)\n",
    "Колонна-Валевский Александр Флориан Жозеф (недопуск)\n",
    "Цезарь Гай Юлий 4 (экзамен)\"\"\"\n",
    "\n",
    "\n",
    "# sheet = input().split()[-1][1:-1]\n",
    "status = sheet.split()[-1][1:-1]\n",
    "print(status)\n",
    "\n",
    "print(sheet)"
   ]
  },
  {
   "cell_type": "code",
   "execution_count": 29,
   "metadata": {},
   "outputs": [
    {
     "data": {
      "text/plain": [
       "['Аттила 2 (экзамен)',\n",
       " 'Бонапарт Наполеон (неявка)',\n",
       " 'Гассан Абдуррахман ибн Хоттаб 5 (автомат)',\n",
       " 'Задойный Алексей Владимирович 5 (экзамен)',\n",
       " 'Колонна-Валевский Александр Флориан Жозеф (недопуск)',\n",
       " 'Цезарь Гай Юлий 4 (экзамен)']"
      ]
     },
     "execution_count": 29,
     "metadata": {},
     "output_type": "execute_result"
    }
   ],
   "source": [
    "sheet.split('\\n')"
   ]
  },
  {
   "cell_type": "code",
   "execution_count": 33,
   "metadata": {},
   "outputs": [
    {
     "name": "stdout",
     "output_type": "stream",
     "text": [
      "Аттила 2 (экзамен)\n",
      "Задойный Алексей Владимирович 5 (экзамен)\n",
      "Цезарь Гай Юлий 4 (экзамен)\n",
      "3.6666666666666665\n"
     ]
    }
   ],
   "source": [
    "counter = 0\n",
    "sum_ = 0\n",
    "\n",
    "for line in sheet.split('\\n'):\n",
    "    \n",
    "    #print(line)\n",
    "    \n",
    "    stat = line.split()[-1]\n",
    "    if stat == '(экзамен)':\n",
    "        print(line)\n",
    "        counter += 1\n",
    "        sum_ += int(line.split()[-2])\n",
    "try:        \n",
    "    print(sum_/counter)\n",
    "except:\n",
    "    pass"
   ]
  },
  {
   "cell_type": "code",
   "execution_count": 42,
   "metadata": {},
   "outputs": [
    {
     "name": "stdout",
     "output_type": "stream",
     "text": [
      "Аттила 2 (экзамен)\n",
      "Бонапарт Наполеон (неявка)\n",
      "Гассан Абдуррахман ибн Хоттаб 5 (автомат)\n",
      "Задойный Алексей Владимирович 5 (экзамен)\n",
      "Колонна-Валевский Александр Флориан Жозеф (недопуск)\n",
      "Цезарь Гай Юлий 4 (экзамен)\n",
      "\n",
      "Аттила 2 (экзамен)\n",
      "Гассан Абдуррахман ибн Хоттаб 5 (автомат)\n",
      "Задойный Алексей Владимирович 5 (экзамен)\n",
      "Цезарь Гай Юлий 4 (экзамен)\n",
      "4.0 3.6666666666666665\n",
      "ERROR\n"
     ]
    }
   ],
   "source": [
    "f = open(\"sheet.txt\")\n",
    "fm = open(\"mean.txt\")\n",
    "\n",
    "data = f.read().strip()\n",
    "print(data)\n",
    "print()\n",
    "\n",
    "counter = 0\n",
    "sum_ = 0\n",
    "avg = 0\n",
    "\n",
    "for line in data.split('\\n'):\n",
    "    \n",
    "    #print(line)\n",
    "    \n",
    "    stat = line.split()[-1]\n",
    "    if stat == '(экзамен)'  or stat == '(автомат)':\n",
    "        print(line)\n",
    "        counter += 1\n",
    "        sum_ += int(line.split()[-2])\n",
    "try:        \n",
    "    avg = sum_/counter\n",
    "except:\n",
    "    pass\n",
    "\n",
    "mean = float(fm.read())\n",
    "\n",
    "print(avg, mean)\n",
    "\n",
    "if  mean == avg:\n",
    "    print(\"OK\")\n",
    "else:\n",
    "    print(\"ERROR\")\n",
    "        "
   ]
  }
 ],
 "metadata": {
  "kernelspec": {
   "display_name": "Python 3",
   "language": "python",
   "name": "python3"
  },
  "language_info": {
   "codemirror_mode": {
    "name": "ipython",
    "version": 3
   },
   "file_extension": ".py",
   "mimetype": "text/x-python",
   "name": "python",
   "nbconvert_exporter": "python",
   "pygments_lexer": "ipython3",
   "version": "3.7.7"
  }
 },
 "nbformat": 4,
 "nbformat_minor": 4
}
