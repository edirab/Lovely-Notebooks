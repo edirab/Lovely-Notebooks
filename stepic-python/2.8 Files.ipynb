{
 "cells": [
  {
   "cell_type": "code",
   "execution_count": 5,
   "metadata": {},
   "outputs": [
    {
     "name": "stdout",
     "output_type": "stream",
     "text": [
      "[5 3 1 5 9 0 9 5 5 5]\n"
     ]
    }
   ],
   "source": [
    "# creating file\n",
    "import numpy as np\n",
    "\n",
    "\n",
    "data = np.random.randint(0, 10, size=10)\n",
    "print(data)\n",
    "\n",
    "f = open('1.txt', 'w')\n",
    "\n",
    "for i in data:\n",
    "    f.write(str(i)+'\\n')\n",
    "\n",
    "f.close()"
   ]
  },
  {
   "cell_type": "code",
   "execution_count": 6,
   "metadata": {},
   "outputs": [],
   "source": [
    "pycat 1.txt"
   ]
  },
  {
   "cell_type": "code",
   "execution_count": 8,
   "metadata": {},
   "outputs": [
    {
     "name": "stdout",
     "output_type": "stream",
     "text": [
      "1.txt\n",
      "47\n"
     ]
    }
   ],
   "source": [
    "i = input()\n",
    "f = open(i)\n",
    "data = f.read().split()\n",
    "data = list(map(int, data))\n",
    "print(sum(data))"
   ]
  },
  {
   "cell_type": "markdown",
   "metadata": {},
   "source": [
    "- Откройте файл, имя которого передаётся на вход.\n",
    "\n",
    "Выведите на печать предпоследнюю строку.\n",
    "\n",
    " \n",
    "Примечание1. Последняя строка может заканчиваться символом переноса строки.\n",
    "\n",
    "Примечание2. Если в конце файла 2 символа переноса строки, значит последняя строка будет содержать ТОЛЬКО символ переноса строки."
   ]
  },
  {
   "cell_type": "code",
   "execution_count": 14,
   "metadata": {},
   "outputs": [],
   "source": [
    "t1 = \"\"\"\n",
    "1\n",
    "2\n",
    "3\n",
    "\n",
    "\n",
    "\"\"\"\n",
    "\n",
    "f = open('2.txt', 'w')\n",
    "f.write(t1)\n",
    "f.close()"
   ]
  },
  {
   "cell_type": "code",
   "execution_count": 17,
   "metadata": {},
   "outputs": [
    {
     "name": "stdout",
     "output_type": "stream",
     "text": [
      "\n",
      "\n"
     ]
    }
   ],
   "source": [
    "f = open('2.txt')\n",
    "\n",
    "d = f.readlines()\n",
    "print(d[-2])"
   ]
  },
  {
   "cell_type": "code",
   "execution_count": 27,
   "metadata": {},
   "outputs": [
    {
     "name": "stdout",
     "output_type": "stream",
     "text": [
      "экзамен\n",
      "Аттила 2 (экзамен)\n",
      "Бонапарт Наполеон (неявка)\n",
      "Гассан Абдуррахман ибн Хоттаб 5 (автомат)\n",
      "Задойный Алексей Владимирович 5 (экзамен)\n",
      "Колонна-Валевский Александр Флориан Жозеф (недопуск)\n",
      "Цезарь Гай Юлий 4 (экзамен)\n"
     ]
    }
   ],
   "source": [
    "sheet=\"\"\"Аттила 2 (экзамен)\n",
    "Бонапарт Наполеон (неявка)\n",
    "Гассан Абдуррахман ибн Хоттаб 5 (автомат)\n",
    "Задойный Алексей Владимирович 5 (экзамен)\n",
    "Колонна-Валевский Александр Флориан Жозеф (недопуск)\n",
    "Цезарь Гай Юлий 4 (экзамен)\"\"\"\n",
    "\n",
    "\n",
    "# sheet = input().split()[-1][1:-1]\n",
    "status = sheet.split()[-1][1:-1]\n",
    "print(status)\n",
    "\n",
    "print(sheet)"
   ]
  },
  {
   "cell_type": "code",
   "execution_count": 29,
   "metadata": {},
   "outputs": [
    {
     "data": {
      "text/plain": [
       "['Аттила 2 (экзамен)',\n",
       " 'Бонапарт Наполеон (неявка)',\n",
       " 'Гассан Абдуррахман ибн Хоттаб 5 (автомат)',\n",
       " 'Задойный Алексей Владимирович 5 (экзамен)',\n",
       " 'Колонна-Валевский Александр Флориан Жозеф (недопуск)',\n",
       " 'Цезарь Гай Юлий 4 (экзамен)']"
      ]
     },
     "execution_count": 29,
     "metadata": {},
     "output_type": "execute_result"
    }
   ],
   "source": [
    "sheet.split('\\n')"
   ]
  },
  {
   "cell_type": "code",
   "execution_count": 33,
   "metadata": {},
   "outputs": [
    {
     "name": "stdout",
     "output_type": "stream",
     "text": [
      "Аттила 2 (экзамен)\n",
      "Задойный Алексей Владимирович 5 (экзамен)\n",
      "Цезарь Гай Юлий 4 (экзамен)\n",
      "3.6666666666666665\n"
     ]
    }
   ],
   "source": [
    "counter = 0\n",
    "sum_ = 0\n",
    "\n",
    "for line in sheet.split('\\n'):\n",
    "    \n",
    "    #print(line)\n",
    "    \n",
    "    stat = line.split()[-1]\n",
    "    if stat == '(экзамен)':\n",
    "        print(line)\n",
    "        counter += 1\n",
    "        sum_ += int(line.split()[-2])\n",
    "try:        \n",
    "    print(sum_/counter)\n",
    "except:\n",
    "    pass"
   ]
  },
  {
   "cell_type": "code",
   "execution_count": 42,
   "metadata": {},
   "outputs": [
    {
     "name": "stdout",
     "output_type": "stream",
     "text": [
      "Аттила 2 (экзамен)\n",
      "Бонапарт Наполеон (неявка)\n",
      "Гассан Абдуррахман ибн Хоттаб 5 (автомат)\n",
      "Задойный Алексей Владимирович 5 (экзамен)\n",
      "Колонна-Валевский Александр Флориан Жозеф (недопуск)\n",
      "Цезарь Гай Юлий 4 (экзамен)\n",
      "\n",
      "Аттила 2 (экзамен)\n",
      "Гассан Абдуррахман ибн Хоттаб 5 (автомат)\n",
      "Задойный Алексей Владимирович 5 (экзамен)\n",
      "Цезарь Гай Юлий 4 (экзамен)\n",
      "4.0 3.6666666666666665\n",
      "ERROR\n"
     ]
    }
   ],
   "source": [
    "f = open(\"sheet.txt\")\n",
    "fm = open(\"mean.txt\")\n",
    "\n",
    "data = f.read().strip()\n",
    "print(data)\n",
    "print()\n",
    "\n",
    "counter = 0\n",
    "sum_ = 0\n",
    "avg = 0\n",
    "\n",
    "for line in data.split('\\n'):\n",
    "    \n",
    "    #print(line)\n",
    "    \n",
    "    stat = line.split()[-1]\n",
    "    if stat == '(экзамен)'  or stat == '(автомат)':\n",
    "        print(line)\n",
    "        counter += 1\n",
    "        sum_ += int(line.split()[-2])\n",
    "try:        \n",
    "    avg = sum_/counter\n",
    "except:\n",
    "    pass\n",
    "\n",
    "mean = float(fm.read())\n",
    "\n",
    "print(avg, mean)\n",
    "\n",
    "if  mean == avg:\n",
    "    print(\"OK\")\n",
    "else:\n",
    "    print(\"ERROR\")\n",
    "        "
   ]
  },
  {
   "cell_type": "code",
   "execution_count": null,
   "metadata": {},
   "outputs": [],
   "source": [
    "import os.path\n",
    "\n",
    "p = \"tmp/dir/text.txt\"\n",
    "\n",
    "if os.path.exists(p):\n",
    "    if os.path.isfile(p):\n",
    "        with open(p, 'r') as f:\n",
    "            data = f.read()\n",
    "            print(\"CONTENT:\")\n",
    "            print(data)\n",
    "    else:\n",
    "        print(\"ERROR:\")\n",
    "        print(\"Это каталог, а не файл\")\n",
    "else:\n",
    "    print(\"ERROR:\")\n",
    "    print(\"Файл не существует\")"
   ]
  },
  {
   "cell_type": "markdown",
   "metadata": {},
   "source": [
    "- Решило: 369\n",
    "- Успешных решений: 29% "
   ]
  },
  {
   "cell_type": "markdown",
   "metadata": {},
   "source": [
    "\n",
    "- event - переменная с текстом события\n",
    "- file_name - имя файла с логом\n",
    "\n",
    "Файл с логом содержит записи о некоторых событиях вида:\n",
    "\n",
    "    event 3 - 'git log -2'\n",
    "    event 2 - 'git log'\n",
    "    event 1 - 'git status'\n",
    "\n",
    "Пример нового события:\n",
    "\n",
    "    git fetch origin\n",
    "\n",
    "Дополните лог в файле так, чтобы новое событие было записано вверху. Не забудьте указать порядковый номер события.\n",
    "\n",
    "    event 4 - 'git fetch origin'\n",
    "    event 3 - 'git log -2'\n",
    "    event 2 - 'git log'\n",
    "    event 1 - 'git status'\n",
    "\n",
    "Если файл отсутствует или не содержит записей, начните нумеровать события с 1."
   ]
  },
  {
   "cell_type": "code",
   "execution_count": 16,
   "metadata": {},
   "outputs": [
    {
     "name": "stdout",
     "output_type": "stream",
     "text": [
      "event 3 - 'git log -2'\n",
      "event 2 - 'git log'\n",
      "event 1 - 'git status'\n"
     ]
    }
   ],
   "source": [
    "import os.path\n",
    "\n",
    "file_name = 'log1.txt'\n",
    "event = \"git fetch origin\"\n",
    "\n",
    "curr = \"\"\"event 3 - 'git log -2'\n",
    "event 2 - 'git log'\n",
    "event 1 - 'git status'\"\"\"\n",
    "\n",
    "f = open(file_name, 'w')\n",
    "f.write(curr)\n",
    "f.close()\n",
    "# Для отладки\n",
    "\n",
    "\n",
    "if os.path.isfile(file_name):\n",
    "    f = open(file_name, 'r')\n",
    "    prev_data = f.read()\n",
    "\n",
    "    # print(prev_data)\n",
    "    n = int(prev_data.split()[1])\n",
    "    f.close()\n",
    "\n",
    "    f = open(file_name, 'w')\n",
    "    f.seek(0)\n",
    "\n",
    "    data = \"event \" + str(n+1) + \" - '\" + event + \"'\\n\" + prev_data\n",
    "    f.write(data)\n",
    "    f.close()"
   ]
  },
  {
   "cell_type": "code",
   "execution_count": null,
   "metadata": {},
   "outputs": [],
   "source": []
  }
 ],
 "metadata": {
  "kernelspec": {
   "display_name": "Python 3",
   "language": "python",
   "name": "python3"
  },
  "language_info": {
   "codemirror_mode": {
    "name": "ipython",
    "version": 3
   },
   "file_extension": ".py",
   "mimetype": "text/x-python",
   "name": "python",
   "nbconvert_exporter": "python",
   "pygments_lexer": "ipython3",
   "version": "3.7.7"
  }
 },
 "nbformat": 4,
 "nbformat_minor": 4
}
