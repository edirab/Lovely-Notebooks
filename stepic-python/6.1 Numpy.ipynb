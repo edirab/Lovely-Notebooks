{
 "cells": [
  {
   "cell_type": "markdown",
   "metadata": {},
   "source": [
    "На вход подаётся список чисел (строка, где числа разделены запятой).\n",
    "\n",
    "Создайте и сохраните:\n",
    "\n",
    "- в переменную V1 Numpy вектор из этих чисел в том же порядке\n",
    "- в переменную V2 Numpy вектор, содержащий только предпоследнее число (это должен быть именно вектор!)\n",
    "- в переменную V3 Numpy вектор из этих чисел в обратном порядке\n",
    "- в переменную V4 Numpy вектор из этих чисел, начиная с 0-ого, через 2 (т.е. каждое третье число)\n",
    "- в переменную V5 Numpy вектор, созданный из генератора Range, содержащий столько элементов, сколько было передано чисел на вход\n",
    "\n",
    "Примечание. В этой задаче не нужно ничего выводить на печать. Только создать вектора."
   ]
  },
  {
   "cell_type": "code",
   "execution_count": 8,
   "metadata": {},
   "outputs": [
    {
     "name": "stdout",
     "output_type": "stream",
     "text": [
      "[0 1 2 3 4 5 6 7 8 9]\n"
     ]
    }
   ],
   "source": [
    "import numpy as np\n",
    "\n",
    "in_ = [1, 2, 3, 4, 5.0, 6, 7, 8, 9, 10]\n",
    "in_ = input().split(', ')\n",
    "in_ = list(map(float, in_))\n",
    "\n",
    "V1 = np.array(in_)\n",
    "V2 = np.array(in_[-2])\n",
    "V3 = np.array(in_[::-1])\n",
    "V4 = np.array(in_[::3])\n",
    "V5 = np.array(range(len(in_)))\n",
    "\n",
    "print(V5)"
   ]
  },
  {
   "cell_type": "markdown",
   "metadata": {},
   "source": [
    "[](https://ucarecdn.com/0f65b331-4667-4c48-99e7-b192bc3f65e6/)"
   ]
  },
  {
   "cell_type": "markdown",
   "metadata": {},
   "source": [
    "На вход подаётся 2 списка целых чисел (они представляют из себя вектора равной длины, т.е. с одинаковым количеством элементов).\n",
    "\n",
    "Используя векторные операции создайте и сохраните:\n",
    "\n",
    "- в переменную V1 Numpy вектор с числами из 1 строки\n",
    "- в переменную V2 Numpy вектор с числами из 2 строки\n",
    "- в переменную V3 Numpy вектор с покоординатными суммами V1 и V2\n",
    "- в переменную V4 Numpy вектор с покоординатными произведениями каждого второго числа V1 на каждое второе число V2, развёрнутого в обратном порядке\n"
   ]
  },
  {
   "cell_type": "code",
   "execution_count": 19,
   "metadata": {},
   "outputs": [
    {
     "data": {
      "text/plain": [
       "array([40, 60])"
      ]
     },
     "execution_count": 19,
     "metadata": {},
     "output_type": "execute_result"
    }
   ],
   "source": [
    "l1 = '1, 2, 3, 4'\n",
    "l2 = '10, 20, 30, 40'\n",
    "\n",
    "V1 = np.array(list(map(int, l1.split(', '))))\n",
    "V2 = np.array(list(map(int, l2.split(', '))))\n",
    "V3 = V1 + V2\n",
    "V4 = V1[::2] * V2[::-2]\n",
    "V4"
   ]
  },
  {
   "cell_type": "markdown",
   "metadata": {},
   "source": [
    "На вход подаётся 2 набора целых чисел.\n",
    "\n",
    "Создайте вектор V такой, что он будет содержать числа из 1 набора, делящиеся нацело на предпоследнее число из 2 набора и разделённые на это число.\n",
    "\n",
    "Если таких чисел не найдётся, то вектор V будет пустым (т.е. не будет содержать элементов).\n",
    "\n",
    " \n",
    "\n",
    "Примечание. В этой задаче не нужно ничего выводить на печать. Только создать вектора."
   ]
  },
  {
   "cell_type": "code",
   "execution_count": 26,
   "metadata": {},
   "outputs": [
    {
     "name": "stdout",
     "output_type": "stream",
     "text": [
      "[False False  True False False  True]\n"
     ]
    },
    {
     "data": {
      "text/plain": [
       "array([1., 2.])"
      ]
     },
     "execution_count": 26,
     "metadata": {},
     "output_type": "execute_result"
    }
   ],
   "source": [
    "l1 = '1, 2, 3, 4, 5, 6'\n",
    "l2 = '1, 2, 3, 4'\n",
    "\n",
    "V1 = np.array(list(map(int, l1.split(', '))))\n",
    "V2 = np.array(list(map(int, l2.split(', '))))\n",
    "\n",
    "V3_1 = np.array(V1 % V2[-2] == 0)\n",
    "print(V3_1)\n",
    "\n",
    "V3 =  V1[V1 % V2[-2] == 0] / V2[-2]\n",
    "V3"
   ]
  },
  {
   "cell_type": "markdown",
   "metadata": {},
   "source": [
    "В этой задаче нам даны 3 переменные: A1, A2, A3. Каждая содержит вектор с 2 координатами соответствующей вершины треугольника.\n",
    "\n",
    "Найдите площадь треугольника и выведите её на печать.\n",
    "Если все 3 точки лежат на одной прямой, то площадь треугольника равна 0.\n",
    "\n",
    "Ответ проверяется с точностью до 4 знака после запятой."
   ]
  },
  {
   "cell_type": "code",
   "execution_count": 41,
   "metadata": {},
   "outputs": [
    {
     "name": "stdout",
     "output_type": "stream",
     "text": [
      "0.0\n"
     ]
    }
   ],
   "source": [
    "from math import sqrt\n",
    "\n",
    "A1 = np.array((-1, 1))\n",
    "A2 = np.array((2, 5))\n",
    "A3 = np.array((5, -3))\n",
    "\n",
    "A1 = np.array((-1, 2))\n",
    "A2 = np.array((2, 3))\n",
    "A3 = np.array((5, 4))\n",
    "\n",
    "l1 = sqrt((A1[0] - A2[0])**2 + (A1[1] - A2[1])**2)\n",
    "l2 = sqrt((A1[0] - A3[0])**2 + (A1[1] - A3[1])**2)\n",
    "l3 = sqrt((A2[0] - A3[0])**2 + (A2[1] - A3[1])**2)\n",
    "\n",
    "#print(l1, l2, l3)\n",
    "p = (l1 + l2 + l3)/2\n",
    "\n",
    "S = sqrt(p*(p-l1)*(p-l2)*(p-l3))\n",
    "print(S)"
   ]
  },
  {
   "cell_type": "markdown",
   "metadata": {},
   "source": [
    "Переменная M1 содержит Numpy матрицу.\n",
    "\n",
    "Произведите операции последовательно:\n",
    "\n",
    "1. Замените значения в предпоследней строке на значения по формуле:\n",
    "\n",
    "sin(x⋅π6)\\LARGE sin(\\frac{x \\cdot \\pi}{6})sin(6x⋅π), где x - старое значение\n",
    "\n",
    "2. Замените значения в предпоследнем столбце на значения по форуме:\n",
    "\n",
    "ex\\LARGE e^xex\n",
    "\n",
    " \n",
    "\n",
    "Примечание. Для ячейки на пересечении предпоследнего столбца и предпоследней строки значение ячейки будет изменено по формуле: \n",
    "\n",
    "esin(x⋅π6)\\LARGE e^{sin(\\frac{x \\cdot \\pi}{6})}esin(6x⋅π​)"
   ]
  },
  {
   "cell_type": "code",
   "execution_count": null,
   "metadata": {},
   "outputs": [],
   "source": []
  }
 ],
 "metadata": {
  "kernelspec": {
   "display_name": "Python 3",
   "language": "python",
   "name": "python3"
  },
  "language_info": {
   "codemirror_mode": {
    "name": "ipython",
    "version": 3
   },
   "file_extension": ".py",
   "mimetype": "text/x-python",
   "name": "python",
   "nbconvert_exporter": "python",
   "pygments_lexer": "ipython3",
   "version": "3.7.7"
  }
 },
 "nbformat": 4,
 "nbformat_minor": 4
}
