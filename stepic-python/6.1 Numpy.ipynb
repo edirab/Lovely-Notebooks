{
 "cells": [
  {
   "cell_type": "code",
   "execution_count": 1,
   "metadata": {},
   "outputs": [
    {
     "name": "stdout",
     "output_type": "stream",
     "text": [
      "blas_mkl_info:\n",
      "    libraries = ['mkl_rt']\n",
      "    library_dirs = ['C:/Users/corsair/Anaconda3\\\\Library\\\\lib']\n",
      "    define_macros = [('SCIPY_MKL_H', None), ('HAVE_CBLAS', None)]\n",
      "    include_dirs = ['C:\\\\Program Files (x86)\\\\IntelSWTools\\\\compilers_and_libraries_2019.0.117\\\\windows\\\\mkl', 'C:\\\\Program Files (x86)\\\\IntelSWTools\\\\compilers_and_libraries_2019.0.117\\\\windows\\\\mkl\\\\include', 'C:\\\\Program Files (x86)\\\\IntelSWTools\\\\compilers_and_libraries_2019.0.117\\\\windows\\\\mkl\\\\lib', 'C:/Users/corsair/Anaconda3\\\\Library\\\\include']\n",
      "blas_opt_info:\n",
      "    libraries = ['mkl_rt']\n",
      "    library_dirs = ['C:/Users/corsair/Anaconda3\\\\Library\\\\lib']\n",
      "    define_macros = [('SCIPY_MKL_H', None), ('HAVE_CBLAS', None)]\n",
      "    include_dirs = ['C:\\\\Program Files (x86)\\\\IntelSWTools\\\\compilers_and_libraries_2019.0.117\\\\windows\\\\mkl', 'C:\\\\Program Files (x86)\\\\IntelSWTools\\\\compilers_and_libraries_2019.0.117\\\\windows\\\\mkl\\\\include', 'C:\\\\Program Files (x86)\\\\IntelSWTools\\\\compilers_and_libraries_2019.0.117\\\\windows\\\\mkl\\\\lib', 'C:/Users/corsair/Anaconda3\\\\Library\\\\include']\n",
      "lapack_mkl_info:\n",
      "    libraries = ['mkl_rt']\n",
      "    library_dirs = ['C:/Users/corsair/Anaconda3\\\\Library\\\\lib']\n",
      "    define_macros = [('SCIPY_MKL_H', None), ('HAVE_CBLAS', None)]\n",
      "    include_dirs = ['C:\\\\Program Files (x86)\\\\IntelSWTools\\\\compilers_and_libraries_2019.0.117\\\\windows\\\\mkl', 'C:\\\\Program Files (x86)\\\\IntelSWTools\\\\compilers_and_libraries_2019.0.117\\\\windows\\\\mkl\\\\include', 'C:\\\\Program Files (x86)\\\\IntelSWTools\\\\compilers_and_libraries_2019.0.117\\\\windows\\\\mkl\\\\lib', 'C:/Users/corsair/Anaconda3\\\\Library\\\\include']\n",
      "lapack_opt_info:\n",
      "    libraries = ['mkl_rt']\n",
      "    library_dirs = ['C:/Users/corsair/Anaconda3\\\\Library\\\\lib']\n",
      "    define_macros = [('SCIPY_MKL_H', None), ('HAVE_CBLAS', None)]\n",
      "    include_dirs = ['C:\\\\Program Files (x86)\\\\IntelSWTools\\\\compilers_and_libraries_2019.0.117\\\\windows\\\\mkl', 'C:\\\\Program Files (x86)\\\\IntelSWTools\\\\compilers_and_libraries_2019.0.117\\\\windows\\\\mkl\\\\include', 'C:\\\\Program Files (x86)\\\\IntelSWTools\\\\compilers_and_libraries_2019.0.117\\\\windows\\\\mkl\\\\lib', 'C:/Users/corsair/Anaconda3\\\\Library\\\\include']\n"
     ]
    }
   ],
   "source": [
    "import numpy as np\n",
    "\n",
    "np.show_config()"
   ]
  },
  {
   "cell_type": "code",
   "execution_count": 2,
   "metadata": {},
   "outputs": [
    {
     "data": {
      "text/plain": [
       "'1.18.1'"
      ]
     },
     "execution_count": 2,
     "metadata": {},
     "output_type": "execute_result"
    }
   ],
   "source": [
    "np.__version__"
   ]
  },
  {
   "cell_type": "markdown",
   "metadata": {},
   "source": [
    "На вход подаётся список чисел (строка, где числа разделены запятой).\n",
    "\n",
    "Создайте и сохраните:\n",
    "\n",
    "- в переменную V1 Numpy вектор из этих чисел в том же порядке\n",
    "- в переменную V2 Numpy вектор, содержащий только предпоследнее число (это должен быть именно вектор!)\n",
    "- в переменную V3 Numpy вектор из этих чисел в обратном порядке\n",
    "- в переменную V4 Numpy вектор из этих чисел, начиная с 0-ого, через 2 (т.е. каждое третье число)\n",
    "- в переменную V5 Numpy вектор, созданный из генератора Range, содержащий столько элементов, сколько было передано чисел на вход\n",
    "\n",
    "Примечание. В этой задаче не нужно ничего выводить на печать. Только создать вектора."
   ]
  },
  {
   "cell_type": "code",
   "execution_count": 3,
   "metadata": {},
   "outputs": [
    {
     "name": "stdout",
     "output_type": "stream",
     "text": [
      "[0 1 2 3 4 5 6 7 8 9]\n"
     ]
    }
   ],
   "source": [
    "in_ = [1, 2, 3, 4, 5.0, 6, 7, 8, 9, 10]\n",
    "# in_ = input().split(', ')\n",
    "in_ = list(map(float, in_))\n",
    "\n",
    "V1 = np.array(in_)\n",
    "V2 = np.array(in_[-2])\n",
    "V3 = np.array(in_[::-1])\n",
    "V4 = np.array(in_[::3])\n",
    "V5 = np.array(range(len(in_)))\n",
    "\n",
    "print(V5)"
   ]
  },
  {
   "cell_type": "markdown",
   "metadata": {},
   "source": [
    "[](https://ucarecdn.com/0f65b331-4667-4c48-99e7-b192bc3f65e6/)"
   ]
  },
  {
   "cell_type": "markdown",
   "metadata": {},
   "source": [
    "На вход подаётся 2 списка целых чисел (они представляют из себя вектора равной длины, т.е. с одинаковым количеством элементов).\n",
    "\n",
    "Используя векторные операции создайте и сохраните:\n",
    "\n",
    "- в переменную V1 Numpy вектор с числами из 1 строки\n",
    "- в переменную V2 Numpy вектор с числами из 2 строки\n",
    "- в переменную V3 Numpy вектор с покоординатными суммами V1 и V2\n",
    "- в переменную V4 Numpy вектор с покоординатными произведениями каждого второго числа V1 на каждое второе число V2, развёрнутого в обратном порядке\n"
   ]
  },
  {
   "cell_type": "code",
   "execution_count": 4,
   "metadata": {},
   "outputs": [
    {
     "data": {
      "text/plain": [
       "array([40, 60])"
      ]
     },
     "execution_count": 4,
     "metadata": {},
     "output_type": "execute_result"
    }
   ],
   "source": [
    "l1 = '1, 2, 3, 4'\n",
    "l2 = '10, 20, 30, 40'\n",
    "\n",
    "V1 = np.array(list(map(int, l1.split(', '))))\n",
    "V2 = np.array(list(map(int, l2.split(', '))))\n",
    "V3 = V1 + V2\n",
    "V4 = V1[::2] * V2[::-2]\n",
    "V4"
   ]
  },
  {
   "cell_type": "markdown",
   "metadata": {},
   "source": [
    "На вход подаётся 2 набора целых чисел.\n",
    "\n",
    "Создайте вектор V такой, что он будет содержать числа из 1 набора, делящиеся нацело на предпоследнее число из 2 набора и разделённые на это число.\n",
    "\n",
    "Если таких чисел не найдётся, то вектор V будет пустым (т.е. не будет содержать элементов).\n",
    "\n",
    " \n",
    "\n",
    "Примечание. В этой задаче не нужно ничего выводить на печать. Только создать вектора."
   ]
  },
  {
   "cell_type": "code",
   "execution_count": 5,
   "metadata": {},
   "outputs": [
    {
     "name": "stdout",
     "output_type": "stream",
     "text": [
      "[False False  True False False  True]\n"
     ]
    },
    {
     "data": {
      "text/plain": [
       "array([1., 2.])"
      ]
     },
     "execution_count": 5,
     "metadata": {},
     "output_type": "execute_result"
    }
   ],
   "source": [
    "l1 = '1, 2, 3, 4, 5, 6'\n",
    "l2 = '1, 2, 3, 4'\n",
    "\n",
    "V1 = np.array(list(map(int, l1.split(', '))))\n",
    "V2 = np.array(list(map(int, l2.split(', '))))\n",
    "\n",
    "V3_1 = np.array(V1 % V2[-2] == 0)\n",
    "print(V3_1)\n",
    "\n",
    "V3 =  V1[V1 % V2[-2] == 0] / V2[-2]\n",
    "V3"
   ]
  },
  {
   "cell_type": "markdown",
   "metadata": {},
   "source": [
    "В этой задаче нам даны 3 переменные: A1, A2, A3. Каждая содержит вектор с 2 координатами соответствующей вершины треугольника.\n",
    "\n",
    "Найдите площадь треугольника и выведите её на печать.\n",
    "Если все 3 точки лежат на одной прямой, то площадь треугольника равна 0.\n",
    "\n",
    "Ответ проверяется с точностью до 4 знака после запятой."
   ]
  },
  {
   "cell_type": "code",
   "execution_count": 6,
   "metadata": {},
   "outputs": [
    {
     "name": "stdout",
     "output_type": "stream",
     "text": [
      "0.0\n"
     ]
    }
   ],
   "source": [
    "from math import sqrt\n",
    "\n",
    "A1 = np.array((-1, 1))\n",
    "A2 = np.array((2, 5))\n",
    "A3 = np.array((5, -3))\n",
    "\n",
    "A1 = np.array((-1, 2))\n",
    "A2 = np.array((2, 3))\n",
    "A3 = np.array((5, 4))\n",
    "\n",
    "l1 = sqrt((A1[0] - A2[0])**2 + (A1[1] - A2[1])**2)\n",
    "l2 = sqrt((A1[0] - A3[0])**2 + (A1[1] - A3[1])**2)\n",
    "l3 = sqrt((A2[0] - A3[0])**2 + (A2[1] - A3[1])**2)\n",
    "\n",
    "#print(l1, l2, l3)\n",
    "p = (l1 + l2 + l3)/2\n",
    "\n",
    "S = sqrt(p*(p-l1)*(p-l2)*(p-l3))\n",
    "print(S)"
   ]
  },
  {
   "cell_type": "markdown",
   "metadata": {},
   "source": [
    "Переменная M1 содержит Numpy матрицу.\n",
    "\n",
    "Произведите операции последовательно:\n",
    "\n",
    "1. Замените значения в предпоследней строке на значения по формуле:\n",
    "\n",
    "sin(x⋅π6)\\LARGE sin(\\frac{x \\cdot \\pi}{6})sin(6x⋅π), где x - старое значение\n",
    "\n",
    "2. Замените значения в предпоследнем столбце на значения по форуме:\n",
    "\n",
    "ex\\LARGE e^xex\n",
    "\n",
    " \n",
    "\n",
    "Примечание. Для ячейки на пересечении предпоследнего столбца и предпоследней строки значение ячейки будет изменено по формуле: \n",
    "\n",
    "esin(x⋅π6)\\LARGE e^{sin(\\frac{x \\cdot \\pi}{6})}esin(6x⋅π​)"
   ]
  },
  {
   "cell_type": "code",
   "execution_count": 7,
   "metadata": {},
   "outputs": [
    {
     "data": {
      "text/plain": [
       "array([[1, 2, 3],\n",
       "       [4, 5, 6],\n",
       "       [7, 8, 9]])"
      ]
     },
     "execution_count": 7,
     "metadata": {},
     "output_type": "execute_result"
    }
   ],
   "source": [
    "M = np.array([\n",
    "    [1, 2, 3],\n",
    "    [4, 5, 6],\n",
    "    [7, 8, 9]\n",
    "])\n",
    "\n",
    "M"
   ]
  },
  {
   "cell_type": "code",
   "execution_count": 8,
   "metadata": {},
   "outputs": [
    {
     "data": {
      "text/plain": [
       "5"
      ]
     },
     "execution_count": 8,
     "metadata": {},
     "output_type": "execute_result"
    }
   ],
   "source": [
    "M[1, 1]"
   ]
  },
  {
   "cell_type": "code",
   "execution_count": 9,
   "metadata": {},
   "outputs": [
    {
     "data": {
      "text/plain": [
       "array([1, 2, 3])"
      ]
     },
     "execution_count": 9,
     "metadata": {},
     "output_type": "execute_result"
    }
   ],
   "source": [
    "M[0]"
   ]
  },
  {
   "cell_type": "code",
   "execution_count": 10,
   "metadata": {},
   "outputs": [
    {
     "data": {
      "text/plain": [
       "array([[1, 2, 3],\n",
       "       [4, 5, 6]])"
      ]
     },
     "execution_count": 10,
     "metadata": {},
     "output_type": "execute_result"
    }
   ],
   "source": [
    "M[:2]"
   ]
  },
  {
   "cell_type": "code",
   "execution_count": 11,
   "metadata": {},
   "outputs": [
    {
     "data": {
      "text/plain": [
       "array([[1, 2, 3],\n",
       "       [4, 5, 6]])"
      ]
     },
     "execution_count": 11,
     "metadata": {},
     "output_type": "execute_result"
    }
   ],
   "source": [
    "M[:2][:2]"
   ]
  },
  {
   "cell_type": "code",
   "execution_count": 12,
   "metadata": {},
   "outputs": [
    {
     "data": {
      "text/plain": [
       "array([[1, 2, 3]])"
      ]
     },
     "execution_count": 12,
     "metadata": {},
     "output_type": "execute_result"
    }
   ],
   "source": [
    "M[:2][:1]"
   ]
  },
  {
   "cell_type": "code",
   "execution_count": 13,
   "metadata": {},
   "outputs": [
    {
     "data": {
      "text/plain": [
       "array([1, 4, 7])"
      ]
     },
     "execution_count": 13,
     "metadata": {},
     "output_type": "execute_result"
    }
   ],
   "source": [
    "M[:, 0]"
   ]
  },
  {
   "cell_type": "markdown",
   "metadata": {},
   "source": [
    "### Скалярное произведение"
   ]
  },
  {
   "cell_type": "code",
   "execution_count": 14,
   "metadata": {},
   "outputs": [
    {
     "name": "stdout",
     "output_type": "stream",
     "text": [
      "[ 5 12 21 32] 70\n",
      "70\n"
     ]
    }
   ],
   "source": [
    "V1 = np.array((1, 2, 3, 4))\n",
    "V2 = np.array((5, 6, 7, 8))\n",
    "\n",
    "V3 = V1 * V2\n",
    "print(V3, np.sum(V3))\n",
    "print(V1.dot(V2))"
   ]
  },
  {
   "cell_type": "code",
   "execution_count": 15,
   "metadata": {},
   "outputs": [
    {
     "name": "stdout",
     "output_type": "stream",
     "text": [
      "[[1.00000000e+00 2.00000000e+00 2.00855369e+01 0.00000000e+00]\n",
      " [4.00000000e+00 5.00000000e+00 4.03428793e+02 0.00000000e+00]\n",
      " [0.00000000e+00 5.00000000e-01 1.64872127e+00 1.22464680e-16]\n",
      " [7.00000000e+00 8.00000000e+00 8.10308393e+03 0.00000000e+00]]\n"
     ]
    }
   ],
   "source": [
    "M1 = np.array((\n",
    "    (1., 2., 3., 0.),\n",
    "    (4., 5., 6., 0.),\n",
    "    (0., 1., 1., 6.),\n",
    "    (7., 8., 9., 0.)\n",
    "))\n",
    "\n",
    "M1[-2] = np.sin(M1[-2]*np.pi/6)\n",
    "M1[:, -2] = np.exp(M1[:, -2])\n",
    "print(M1)"
   ]
  },
  {
   "cell_type": "markdown",
   "metadata": {},
   "source": [
    "- Решило: 473\n",
    "- Успешных решений: 40% "
   ]
  },
  {
   "cell_type": "code",
   "execution_count": 17,
   "metadata": {},
   "outputs": [],
   "source": [
    "np.save('M1_array', M1)\n",
    "np.savetxt('M1_array.txt', M1)"
   ]
  },
  {
   "cell_type": "markdown",
   "metadata": {},
   "source": [
    "### 3.2\n",
    "\n",
    "Считайте строку, где значения заданы через пробел shape и dtype\n",
    "\n",
    "Последнее значение в строке может быть либо числом (тогда это последнее значение кортежа shape, либо строкой dtype)\n",
    "\n",
    "    shape - атрибут, задающий размеры матрицы нолей (позволяет вернуть вектор-строку, вектор-столбец, матрицу, куб и т.д.)\n",
    "    dtype - тип данных, использующихся для значений матрицы. По-умолчанию используется numpy.float64.\n",
    "\n",
    "Создайте матрицу Z размера shape, со значениями типа dtype (если dtype не указан, используйте numpy.float64)"
   ]
  },
  {
   "cell_type": "code",
   "execution_count": 30,
   "metadata": {},
   "outputs": [
    {
     "data": {
      "text/plain": [
       "array([[False, False, False],\n",
       "       [False, False, False]])"
      ]
     },
     "execution_count": 30,
     "metadata": {},
     "output_type": "execute_result"
    }
   ],
   "source": [
    "s = '2 3 bool'\n",
    "#s = input()\n",
    "attrs = s.split()\n",
    "\n",
    "Z = None\n",
    "type_ = arrts[-1]\n",
    "\n",
    "# if isdigit() type_ \n",
    "\n",
    "if len(attrs) == 1:\n",
    "    Z = np.zeros(int(attrs[0]), dtype=np.float64)\n",
    "elif len(attrs) == 2:\n",
    "    Z = np.zeros((int(attrs[0]), int(attrs[1])), dtype=np.float64)\n",
    "else:\n",
    "    Z = np.zeros((int(attrs[0]), int(attrs[1])), dtype=attrs[2])\n",
    "    \n",
    "Z"
   ]
  }
 ],
 "metadata": {
  "kernelspec": {
   "display_name": "Python 3",
   "language": "python",
   "name": "python3"
  },
  "language_info": {
   "codemirror_mode": {
    "name": "ipython",
    "version": 3
   },
   "file_extension": ".py",
   "mimetype": "text/x-python",
   "name": "python",
   "nbconvert_exporter": "python",
   "pygments_lexer": "ipython3",
   "version": "3.7.7"
  }
 },
 "nbformat": 4,
 "nbformat_minor": 4
}
