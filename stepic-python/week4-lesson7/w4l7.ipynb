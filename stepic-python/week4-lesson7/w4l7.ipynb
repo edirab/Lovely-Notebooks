{
 "cells": [
  {
   "cell_type": "markdown",
   "metadata": {},
   "source": [
    "# Математика\n",
    "## Теория Вероятности"
   ]
  },
  {
   "cell_type": "markdown",
   "metadata": {},
   "source": [
    "<hr>\n",
    "**Парадокс шевалье де Мере**\n",
    "\n",
    "Что вероятнее:\n",
    "- при бросании 4 игральных костей хотя бы на 1 получить 1\n",
    "- или при 24 бросаниях 2 костей хотя бы один раз получить две единицы?\n",
    "\n",
    "*Пишите в чат на какое событие вы готовы поставить*\n",
    "<hr>"
   ]
  },
  {
   "cell_type": "markdown",
   "metadata": {},
   "source": [
    "<a href=\"https://www.coursera.org/learn/probability-theory-basics/\">Курс \"Теория вероятностей для начинающих\"</a>\n",
    "\n",
    "### Классическое определение\n",
    "\n",
    "**Элементарное событие (исход)**\n",
    "\n",
    "- Пример 1 - выпадение орла или решки при броске монеты\n",
    "- Пример 2 - выпадение определённой стороны при броске игральной кости\n",
    "\n",
    "Исходы, обладающие свойствами \"образовывать полную группу событий\", \"быть попарно несовместными и равновероятными\", называются элементарными исходами.\n",
    "\n",
    "**Классическое определение вероятности**. Пусть различные исходы $ω_1,…,ω_n$ некоторого эксперимента являются элементарными. Тогда по определению вероятностью каждого такого исхода называют величину:\n",
    "\n",
    "$$P(ω_i)=\\frac{1}{n}.$$\n",
    "\n",
    "\n",
    "**Вероятность события**. Вероятность некоторого события $A$ полагают равной отношению количества элементарных исходов $k$, которые благоприятствуют событию, к количеству всех возможных элементарных исходов $n$:\n",
    "\n",
    "$$P(A)=\\frac{k}{n}.$$"
   ]
  },
  {
   "cell_type": "markdown",
   "metadata": {},
   "source": [
    "### Задача 1\n",
    "\n",
    "Брошено три монеты. Предполагая, что элементарные события равновероятны, найти вероятности событий:\n",
    "\n",
    "  а. А = {первая монета выпала «решкой» вверх},\n",
    "\n",
    "  б. В = {выпало ровно две «решки»},\n",
    "  \n",
    "  в. C = {выпало не больше двух «решек»}."
   ]
  },
  {
   "cell_type": "markdown",
   "metadata": {},
   "source": [
    "**а)** На 1-ю монету не влияют 2 остальные.\n",
    "\n",
    "Т.е. всего возможны 2 исхода (n=2):\n",
    "\n",
    "- 1я монета выпала \"орлом\"\n",
    "- 1я монета выпала \"решкой\"\n",
    "\n",
    "Из них благоприятен только 1 (k=1).\n",
    "\n",
    "$$P(A)=\\frac{k}{n} = \\frac{1}{2}$$"
   ]
  },
  {
   "cell_type": "markdown",
   "metadata": {},
   "source": [
    "**б)** Рассмотрим все возможные исходы (О = монета выпала Орлом, Р = монета выпала Решкой):\n",
    "\n",
    "| 1я монета | 2я монета | 3я монета |\n",
    "|-----------|-----------|-----------|\n",
    "| О         | О         | О         |\n",
    "| О         | О         | Р         |\n",
    "| О         | Р         | О         |\n",
    "| О         | Р         | Р         |\n",
    "| Р         | О         | О         |\n",
    "| Р         | О         | Р         |\n",
    "| Р         | Р         | О         |\n",
    "| Р         | Р         | Р         |\n",
    "\n",
    "Как видим всего возможны 8 исходов (n=8). Из них 3 благоприятных (k=3).\n",
    "\n",
    "$$P(B) = \\frac{k}{n} = \\frac{3}{8}$$"
   ]
  },
  {
   "cell_type": "markdown",
   "metadata": {},
   "source": [
    "**в)** Вероятность события \"не больше 2 решек\" равна (1 - вероятность события \"больше 2 решек\"). А что такое \"больше 2 решек? Это 3 решки.\n",
    "\n",
    "Как можно заметить в таблице из пункта б это 1 благоприятствующий исход из 8 возможных.\n",
    "\n",
    "$$P(C) = 1 - \\frac{1}{8} = \\frac{7}{8}$$"
   ]
  },
  {
   "cell_type": "code",
   "execution_count": null,
   "metadata": {
    "collapsed": true
   },
   "outputs": [],
   "source": []
  },
  {
   "cell_type": "code",
   "execution_count": null,
   "metadata": {
    "collapsed": true
   },
   "outputs": [],
   "source": []
  },
  {
   "cell_type": "markdown",
   "metadata": {},
   "source": [
    "### Задача 2\n",
    "\n",
    "Брошено 2 игральные кости (D6☺). Найдите вероятность получить на них в сумме\n",
    "\n",
    "а. **7 и более** очков.\n",
    "\n",
    "б. **ровно 7* очков.\n",
    "\n",
    "<table  style=\"font-size: 200%;\">\n",
    "    <thead>\n",
    "    <tr>\n",
    "        <th colspan=6>\n",
    "            Возможные исходы для 1 кости:\n",
    "        </th>\n",
    "    </tr>\n",
    "    </thead>\n",
    "    <tbody>\n",
    "    <tr>\n",
    "        <td>\n",
    "            1\n",
    "        </td>\n",
    "        <td>\n",
    "            2\n",
    "        </td>\n",
    "        <td>\n",
    "            3\n",
    "        </td>\n",
    "        <td>\n",
    "            4\n",
    "        </td>\n",
    "        <td>\n",
    "            5\n",
    "        </td>\n",
    "        <td>\n",
    "            6\n",
    "        </td>\n",
    "    <tr>\n",
    "    </tbody>\n",
    "</table>\n",
    "\n",
    "<table  style=\"font-size: 200%;\">\n",
    "    <thead>\n",
    "    <tr>\n",
    "        <th colspan=6>\n",
    "            Возможные исходы для 2 кости:\n",
    "        </th>\n",
    "    </tr>\n",
    "    </thead>\n",
    "    <tbody>\n",
    "    <tr>\n",
    "        <td>\n",
    "            1\n",
    "        </td>\n",
    "        <td>\n",
    "            2\n",
    "        </td>\n",
    "        <td>\n",
    "            3\n",
    "        </td>\n",
    "        <td>\n",
    "            4\n",
    "        </td>\n",
    "        <td>\n",
    "            5\n",
    "        </td>\n",
    "        <td>\n",
    "            6\n",
    "        </td>\n",
    "    <tr>\n",
    "    </tbody>\n",
    "</table>\n",
    "\n",
    "**а)** **7 и более** очков.\n",
    "\n",
    "**Все исходы:**\n",
    "\n",
    "<table  style=\"font-size: 200%;\">\n",
    "    <tbody>\n",
    "    <tr>\n",
    "        <td>\n",
    "            1 + 1\n",
    "        </td>\n",
    "        <td>\n",
    "            2 + 1\n",
    "        </td>\n",
    "        <td>\n",
    "            3 + 1\n",
    "        </td>\n",
    "        <td>\n",
    "            4 + 1\n",
    "        </td>\n",
    "        <td>\n",
    "            5 + 1\n",
    "        </td>\n",
    "        <td style=\"background-color: green;\">\n",
    "            6 + 1\n",
    "        </td>\n",
    "    </tr>\n",
    "    <tr>\n",
    "        <td>\n",
    "            1 + 2\n",
    "        </td>\n",
    "        <td>\n",
    "            2 + 2\n",
    "        </td>\n",
    "        <td>\n",
    "            3 + 2\n",
    "        </td>\n",
    "        <td>\n",
    "            4 + 2\n",
    "        </td>\n",
    "        <td style=\"background-color: green;\">\n",
    "            5 + 2\n",
    "        </td>\n",
    "        <td style=\"background-color: green;\">\n",
    "            6 + 2\n",
    "        </td>\n",
    "    </tr>\n",
    "    <tr>\n",
    "        <td>\n",
    "            1 + 3\n",
    "        </td>\n",
    "        <td>\n",
    "            2 + 3\n",
    "        </td>\n",
    "        <td>\n",
    "            3 + 3\n",
    "        </td>\n",
    "        <td style=\"background-color: green;\">\n",
    "            4 + 3\n",
    "        </td>\n",
    "        <td style=\"background-color: green;\">\n",
    "            5 + 3\n",
    "        </td>\n",
    "        <td style=\"background-color: green;\">\n",
    "            6 + 3\n",
    "        </td>\n",
    "    </tr>\n",
    "    <tr>\n",
    "        <td>\n",
    "            1 + 4\n",
    "        </td>\n",
    "        <td>\n",
    "            2 + 4\n",
    "        </td>\n",
    "        <td style=\"background-color: green;\">\n",
    "            3 + 4\n",
    "        </td>\n",
    "        <td style=\"background-color: green;\">\n",
    "            4 + 4\n",
    "        </td>\n",
    "        <td style=\"background-color: green;\">\n",
    "            5 + 4\n",
    "        </td>\n",
    "        <td style=\"background-color: green;\">\n",
    "            6 + 4\n",
    "        </td>\n",
    "    </tr>\n",
    "    <tr>\n",
    "        <td>\n",
    "            1 + 5\n",
    "        </td>\n",
    "        <td style=\"background-color: green;\">\n",
    "            2 + 5\n",
    "        </td>\n",
    "        <td style=\"background-color: green;\">\n",
    "            3 + 5\n",
    "        </td>\n",
    "        <td style=\"background-color: green;\">\n",
    "            4 + 5\n",
    "        </td>\n",
    "        <td style=\"background-color: green;\">\n",
    "            5 + 5\n",
    "        </td>\n",
    "        <td style=\"background-color: green;\">\n",
    "            6 + 5\n",
    "        </td>\n",
    "    </tr>\n",
    "    <tr>\n",
    "        <td style=\"background-color: green;\">\n",
    "            1 + 6\n",
    "        </td>\n",
    "        <td style=\"background-color: green;\">\n",
    "            2 + 6\n",
    "        </td>\n",
    "        <td style=\"background-color: green;\">\n",
    "            3 + 6\n",
    "        </td>\n",
    "        <td style=\"background-color: green;\">\n",
    "            4 + 6\n",
    "        </td>\n",
    "        <td style=\"background-color: green;\">\n",
    "            5 + 6\n",
    "        </td>\n",
    "        <td style=\"background-color: green;\">\n",
    "            6 + 6\n",
    "        </td>\n",
    "    </tr>\n",
    "    </tbody>\n",
    "</table>\n",
    "\n",
    "Легко посчитать, что \n",
    "- всего исходов 6х6=36\n",
    "- благоприятных исходов (выделены зелёным) 6+5+4+3+2+1=21\n",
    "\n",
    "$$P(A) = \\frac{21}{36} = \\frac{7}{12}$$\n",
    "\n",
    "\n",
    "\n",
    "\n",
    "\n",
    "**б)** \n",
    "\n",
    "**Все исходы:**\n",
    "\n",
    "<table  style=\"font-size: 200%;\">\n",
    "    <tbody>\n",
    "    <tr>\n",
    "        <td>\n",
    "            1 + 1\n",
    "        </td>\n",
    "        <td>\n",
    "            2 + 1\n",
    "        </td>\n",
    "        <td>\n",
    "            3 + 1\n",
    "        </td>\n",
    "        <td>\n",
    "            4 + 1\n",
    "        </td>\n",
    "        <td>\n",
    "            5 + 1\n",
    "        </td>\n",
    "        <td style=\"background-color: green;\">\n",
    "            6 + 1\n",
    "        </td>\n",
    "    </tr>\n",
    "    <tr>\n",
    "        <td>\n",
    "            1 + 2\n",
    "        </td>\n",
    "        <td>\n",
    "            2 + 2\n",
    "        </td>\n",
    "        <td>\n",
    "            3 + 2\n",
    "        </td>\n",
    "        <td>\n",
    "            4 + 2\n",
    "        </td>\n",
    "        <td style=\"background-color: green;\">\n",
    "            5 + 2\n",
    "        </td>\n",
    "        <td>\n",
    "            6 + 2\n",
    "        </td>\n",
    "    </tr>\n",
    "    <tr>\n",
    "        <td>\n",
    "            1 + 3\n",
    "        </td>\n",
    "        <td>\n",
    "            2 + 3\n",
    "        </td>\n",
    "        <td>\n",
    "            3 + 3\n",
    "        </td>\n",
    "        <td style=\"background-color: green;\">\n",
    "            4 + 3\n",
    "        </td>\n",
    "        <td>\n",
    "            5 + 3\n",
    "        </td>\n",
    "        <td>\n",
    "            6 + 3\n",
    "        </td>\n",
    "    </tr>\n",
    "    <tr>\n",
    "        <td>\n",
    "            1 + 4\n",
    "        </td>\n",
    "        <td>\n",
    "            2 + 4\n",
    "        </td>\n",
    "        <td style=\"background-color: green;\">\n",
    "            3 + 4\n",
    "        </td>\n",
    "        <td>\n",
    "            4 + 4\n",
    "        </td>\n",
    "        <td>\n",
    "            5 + 4\n",
    "        </td>\n",
    "        <td>\n",
    "            6 + 4\n",
    "        </td>\n",
    "    </tr>\n",
    "    <tr>\n",
    "        <td>\n",
    "            1 + 5\n",
    "        </td>\n",
    "        <td style=\"background-color: green;\">\n",
    "            2 + 5\n",
    "        </td>\n",
    "        <td>\n",
    "            3 + 5\n",
    "        </td>\n",
    "        <td>\n",
    "            4 + 5\n",
    "        </td>\n",
    "        <td>\n",
    "            5 + 5\n",
    "        </td>\n",
    "        <td>\n",
    "            6 + 5\n",
    "        </td>\n",
    "    </tr>\n",
    "    <tr>\n",
    "        <td style=\"background-color: green;\">\n",
    "            1 + 6\n",
    "        </td>\n",
    "        <td>\n",
    "            2 + 6\n",
    "        </td>\n",
    "        <td>\n",
    "            3 + 6\n",
    "        </td>\n",
    "        <td>\n",
    "            4 + 6\n",
    "        </td>\n",
    "        <td>\n",
    "            5 + 6\n",
    "        </td>\n",
    "        <td>\n",
    "            6 + 6\n",
    "        </td>\n",
    "    </tr>\n",
    "    </tbody>\n",
    "</table>\n",
    "\n",
    "- всего исходов 6х6=36\n",
    "- благоприятных исходов (выделены зелёным) 6\n",
    "\n",
    "$$P(B) = \\frac{6}{36} = \\frac{1}{6}$$"
   ]
  },
  {
   "cell_type": "code",
   "execution_count": null,
   "metadata": {
    "collapsed": true
   },
   "outputs": [],
   "source": []
  },
  {
   "cell_type": "markdown",
   "metadata": {},
   "source": [
    "### Геометрическое определение вероятности"
   ]
  },
  {
   "cell_type": "markdown",
   "metadata": {},
   "source": [
    "<img src=\"data:image/png;base64,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\">"
   ]
  },
  {
   "cell_type": "markdown",
   "metadata": {},
   "source": [
    " - $\\Omega$ - Множество всех исходов, площадью $S$\n",
    " - $A$ - множество интересующих нас исходов (вероятность которых мы ищем), площадью $s$\n",
    " \n",
    "$$P(A) = \\frac{s}{S}$$\n",
    " \n",
    "Например, какова вероятность попадания случайно капли дождя (бесконечно малого размера, т.е. точки) в дыру площью $s$ на крыше площадью $S$."
   ]
  },
  {
   "cell_type": "code",
   "execution_count": null,
   "metadata": {
    "collapsed": true
   },
   "outputs": [],
   "source": []
  },
  {
   "cell_type": "markdown",
   "metadata": {},
   "source": [
    "### Задача 3\n",
    "\n",
    "Метровую ленту случайным образом разрезают ножницами. Найти вероятность того, что длина обрезка составит не менее 80 см."
   ]
  },
  {
   "cell_type": "markdown",
   "metadata": {},
   "source": [
    "<img src=\"http://mathprofi.ru/m/geometricheskoe_opredelenie_verojatnosti_clip_image034.jpg\">"
   ]
  },
  {
   "cell_type": "markdown",
   "metadata": {},
   "source": [
    "$$P = P_L + P_R = \\frac{0.2}{1} + \\frac{0.2}{1} = 0.4$$"
   ]
  },
  {
   "cell_type": "code",
   "execution_count": null,
   "metadata": {
    "collapsed": true
   },
   "outputs": [],
   "source": []
  },
  {
   "cell_type": "markdown",
   "metadata": {},
   "source": [
    "#### Рассмотрим 2 события: A и B"
   ]
  },
  {
   "cell_type": "markdown",
   "metadata": {},
   "source": [
    "<img src=\"\n",
    "data:image/png;base64,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\">"
   ]
  },
  {
   "cell_type": "markdown",
   "metadata": {},
   "source": [
    "<img src = \"data:image/png;base64,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\">"
   ]
  },
  {
   "cell_type": "markdown",
   "metadata": {},
   "source": [
    "$$P(A\\cup B) = P(A) + P(B) - P(A \\cap B)$$"
   ]
  },
  {
   "cell_type": "markdown",
   "metadata": {},
   "source": [
    "### Что же такое вероятность A при условии выполнения B ($P(A|B)$)?\n",
    "\n",
    "Фактически это переход к новому пространству всех событий.\n",
    "\n",
    "Теперь **не все события из $\\Omega $** доступны, а только, входящие в B. Значит, новым пространством всех событий становится B.\n",
    "\n",
    "А событиями A|B становятся лишь те из A, которые входят в B (их может и не быть вовсе):"
   ]
  },
  {
   "cell_type": "markdown",
   "metadata": {},
   "source": [
    "<img src=\"\n",
    "data:image/png;base64,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\">"
   ]
  },
  {
   "cell_type": "markdown",
   "metadata": {},
   "source": [
    "Отсюда напрямую следует определение условной вероятности:\n",
    "    \n",
    "$$P(A \\mid B) = \\frac{P(A\\cap B)}{P(B)}$$"
   ]
  },
  {
   "cell_type": "markdown",
   "metadata": {},
   "source": [
    "### Задача 4\n",
    "\n",
    "В супермаркете 60% яблок из Турции и 40% яблок из Индии. 10% турецких и 15% индийских яблок — червивые. Какова вероятность, что яблоко, купленное в этом магазине, окажется червивым? Запишите ответ от 0 до 1 с двумя знаками после десятичной точки.\n",
    "\n",
    "<img src=\"data:image/png;base64,iVBORw0KGgoAAAANSUhEUgAAAesAAAEzCAYAAAARnivjAAAAIGNIUk0AAHolAACAgwAA+f8AAIDpAAB1MAAA6mAAADqYAAAXb5JfxUYAAAAJcEhZcwAADsQAAA7EAZUrDhsAAFweSURBVHhe7Z0LnFTz+8efIrlTQim2shslVHLbSjehCyqElFTs+rmVO/GXX/rl/muTy6+kKEJRUe1S0kXlWkKSdqlFlPstRJz/fJ75npkzszM7l52ZPTPzeXsde+acM/dv8/k+z/e51LA8CCGEEEJcS03zlxBCCCEuhWJNCCGEuByKNSGEEOJyKNaEEEKIy6FYE0IIIS6HYk0IIYS4HIo1IYQQ4nIo1oQQQojLoVgTQgghLodiTQghhLgcijUhhBDicijWhBBCiMuhWBNCCCEuh2JNCCGEuByKNSGEEOJyKNaEEEKIy6FYE0IIIS6HYk0IIYS4HIo1IYQQ4nIo1oQQQojLoVgTQgghLqeG5cHsE0KynN9//93s+Xnrrbdk06ZNUqNGDXMkNH/++ac8+eST8ttvv0W8Nlng5ywnJ0dOP/10cyQQnG/btq00bdrUHAlkt912M3uEuAuKNSEZzpYtW+SPP/4IENDy8nJ5+eWXpWZNv3Pt22+/lRdeeEH37Wvx8/DVV1/pfqZQq1Yt2X///c0tP//8848ceuih0rlzZ3PEe6xr16563P6pbNy4sf4lJJVQrAlJY7777jv58MMPVVz/+usvmTp1qmzbti1AhBcsWCA//vhjgFjH8s++ffv2svPOO5tboYGo7brrrjJw4EBXWKdPP/20fPPNNwGfg83atWt1YhILzslLt27dpE6dOhXeM87tsccecswxx+i1hCQSijUhLgWiC5GAIC9cuNAnGM8//7xauxCiL7/8UrfK2GmnnWSXXXYxt7yCA2uxQYMG5ojfgjz88MPNEe91EKMjjjjCHMkM8NnhM3NOXmzwnp966in56aeffEK/YsUK2bhxo+/6UEsFTuBmB/hM4W7v0aOHPm6jRo104oN9iDohsUCxJqSa2L59u3zxxRcqAhCAZ599Vtd9cXv58uWyYcMG3Ydo//rrr+ZeFcnNzVVhqF27tpx//vkqsMD+p927d2/Zd999dR/g+IEHHmhukUjgu/n55599Yj1v3jyf1Q5vxjPPPOPzZuDazZs363WhwOeOzx8Cjv2OHTtKs2bNdDJ18MEHm6sIqQjFmpAUAOsMQvz+++/L0qVL9Ye9tLRUb0cC4tuuXTuf+Pbr18/3o49gqlatWulxiIktKCS1YLIEINqLFi3S7wbfBWIDXnzxRd3funWruuBDge/4tNNO0+uOP/54Oe6449QjAkvctvBJdkOxJiRB2Nbva6+9phYzXKnTp0+XHTt2yAcffKDngtlzzz31h3733XeXM888U9eGcfvkk0+Www47TH/0995777DRyyR9wGRt3bp18v3336sXBcL8xhtv6KQN3zmCAIPBEgQC4po3b66Bb5ikdenSRceJ7UEh2QHFmpAYgfjaa5izZ8+Wr7/+Wrfi4mK1grAfDNzQ9erVU1E+77zz9Ae4ZcuWvmAk/PgiaIlkFxBwTOrgPsdYglt9zZo18uabb2pQYKhAOIwjjCdM7iDmsL6xFILxSDIXijUhlfDZZ5/p2jH+mUybNk3XLmE1r1q1ylxRkaOOOkoOOOAAqVu3rlxwwQV6XxxDyg9/UEk0YMxg7RvjDBPAmTNnamDcDz/8EHLswXWO8YXIdASyHX300eYMyRQo1oQYbCFetmyZWjT4gcRtuC2D2WuvvfQHtWfPnmoRIzgIhThwDBHVzuhrQhIF3OVY90ahGoj2Sy+9pCKOYEUnmBx26NBBjjzySOnVq5eOVyynkPSFYk2yEvzoYa0QUdfIU/7oo4/0BxCCDTe3E0Trwm2NSGu4seFyzM/P13P77bef/iWkOkCcBCLTEcSGcYyJJtzqKIRjg7gITB5POeUULe6CZRh4frCR9IFiTbICuLKxzoxAryVLlui68ttvv23O+sF6INaR69evL2effbaKc6dOnRiRS9IGeIWw5o1AR6x/L168WNfGnSBQDQFrAwYM0DXvffbZx5whboViTTIKDGdYFmVlZfqDBTchRBopNMG5ynALQpy7d++uRSpgOUOksRGSKXz66ae6/j1jxgxZv369z4Nk07BhQy2Ig9xvpI9RuN0JxZqkPRBmiDHqWsOSQO4yBDuYFi1a6FoeXNhYY0ZBChQSgfVMSLaAIDXkgpeUlGjqGNLJbLCsgyhzuMvPOussTR8k7oBiTdIODFkUFpkzZ46uNcPNh5QXJ7AW7AhsBH4hwAbuPkJIILC0UT9+/vz5Kt5O4CpHBTzkdiPVkFQfFGviepBvClc21uAgzBDojz/+2Jz1gohsRL02adLEF0DD4C9CYgNBaiifCqsbXqq///5bjyNArU2bNvpvC//OYHmT1EKxJq4D62nIb547d65GbMO9HZw+lZeXp1W9YDW3bt1ai0NwrY2QxACRRjAm2qhCvCHcNlg6wlISosthdTubv5DkQbEmrgAR2rCe8cOAvxBpJ+gQhShtBMCg9OJJJ50UsW0jISQxwFWOYE2I98qVK81Rj4DUqCF9+vSRG264QQuzkORBsSbVAto+wmJGByO43pBa5QRubbjaEKF67rnnqlsbkduEkOrFdpWjvO7q1avNUW8hlksvvVQuuugiV/Q0zzQo1iRlIEobDQyQSoJgll9++cWcEXVhIxjsjDPOUBc31sWQWoXOQ4QQ9wFXOXqrQ7TRA9wuJoQIcqRDXnLJJZqBQRIDxZokDQwtFB5ZuHChWtDBkaawnBFtCssZ68/sLEVIeoL1baSDPfjgg/LJJ5/oMQSlDRo0SPr27avr2ywsVDUo1iShIIfzlVde0fUtlD5EDrQNXGPo04t1Z+RwoooS6xUTkjkgOHTq1Km6to0Jus2xxx4r1113nbZ+RYMbEjsUa1JlUFQBkduojoR/oM62fugAhAIk/fv3l1NPPVVd3ISQzAeT9f/+97/y+uuv+9rGIp1y6NChcsUVV+jvAokeijWJGTTBgDAj5xklDPGP0gksZpQvRN3hE088UXvvEkKyE3QFmzhxojzyyCOydetWPQaPGjI6xo4dq41xSGQo1iRqUOUI7m1EcaN1pN0cAEFgaMWH4LB+/fpp5Pb++++v5wghBKA7GNK+YG2jbj/aeiKw9OKLL5arrrpKDjnkEHMlCQXFmlQK0jQQ7Yk1KASQ2MCdhWph6EyFdahWrVoxcpsQEhVI1US0uO2Vg/etsLBQLr/8crrHw0CxJhWw620jzQolPu0hgr64iOpE9Ha7du20/jYhhMQL6vvfe++9vkIrCD678sor5fbbb9fbxA/FmigoUoIqYrCgkTP522+/6XGkW8DFPWzYMBVqCjQhJJFAgrC0NmbMGF+PeVRDu+aaazTti5UKDRBrkp14BNoqKSmxBg0aZB1wwAGYtPm2Y445xrrzzjutt956y9qxY4e5RwZQWmTlO95n7Fu+VVRqHqvaKbWK8p2vrcAqNmeCKS5wXufZCsJdWZGq3FcpLvDeL7/I84oJCc33339v3XrrrQG/Rccee6w1ffp0659//jFXZS8U6ywDg94ze7Xuuusu65BDDvH/AHu2evXqWbfccouez1gcYh2gObagOLbQ510g1hVea3iR9r9fxzVRv5diq8B+DvNh+IW7kud0Yj8/hZpEyZdffmmNHDkyQLTPO+88a+3ateaK7IRinQX8/fffOtDvuOMOq1WrVlbNmjV9/wgaNGhgXXzxxdZzzz1nff311+YeGYwRjwrGYSSxBnpNdYq1Qzw9W36kF+KYmARe67TIw4mu8xrHe3Z+ThEF2H6MKIWdEAdbtmyxzj33XN94q127tjVkyJCsFW2KdQYDK3rmzJnWiSee6P+BNdv555+v53755RdzdZYAAQslMtGItYpPNYm1Q3ijnTA43dfB7yXAtV3xjYZ/vhheh/0coR6ekGhZunSpdfrpp5sx5xXtsWPHWtu2bTNXZAcs1pqBIAf6lltu0T7P55xzjlYQQloVCpXcc8892lBj+vTpmnaFCO9so2W/nhJfGYZc6dmvpdlPIWXjpF3ecPHGy+ZLUekKGRbxDZTInIlmNxIT53iuDqRs/gzzfKClNAv5fCtlxnx/OVknZePaSQ/P83ssepnQ3RwkJA5QPOXFF1/UAFh04UN+9tVXX6297J3VEjMeI9okA3jllVesnj17WnXq1PHNQvfZZx/rxhtvtMrKysxVJCRRWdbVQWAQWUTXt03A+6loAZcW5TvOV3yvgeedbuwoXPG29U2TmiSBq666ytpll110/DVs2NCaPXu2OZPZ0LJOc9A4AxWBkFaF4iRoPYljaJgxefJkee+99+Suu+7SDlck/SgbN0iG+0zcArk1skmtlERtVntZuyG0hRw7JVKoXoACKaZJTZLAuHHjtJJiy5YtZfPmzdKnTx/toY2WnZkMxToNQW3uVatWycCBA9XVfe2112obSrSkKygo0FaUcH0PHjxYcnJyzL1I+lEi9/qV2mMgr5XRNWpIjYCtsIIL2yPxsmGt2Y2SletKzZ6X3GZOd/9a8Wl52QbPLZt86dczcPJQUthDJqqrfoJQqkmyQGvdd955R8uUohbEE088obnZOJapUKzTCKzVYFC2bdtWB+aTTz4p5eXl0rx5c7njjjvk3XfflQkTJug59o7NAErmeITPT37LW+UJb1CoFBeYg54renhEu7CiYsfG2g0eiXfQ/Xopyjf7TkrX+dey8/uJU6v969RPBK6plxQGTTDaybhEGfIka6ldu7Za2dOmTZN69eqpAdO+fXsZOXKkuSLD8HrDiZvBevPw4cOto446yrdWiA1pDbNmzbJ+++03cyWJGxeuWQdEbFd4PYFrx4HryoHr3B75jLhmHTINyxn5bZ7c/5qC0rHCrFP7n8e8BsdjRr3+TkgENm/eHBAx3qdPH+vzzz83ZzMDirWLmTt3rtWlSxdrzz339A3CRo0aWQUFBdabb75priIJwXViHVlwg8XcL34JEmsl+LE8W4UPxp44BAm48zP13Sfw8ar3MyaZBoo92XUkUENi0qRJ5kz6Q1+pC0Gd3I4dO2pqwquvviq//vqrdOvWTR544AFNu4KrGwFkJLvJaxHopw5ed46Jls3CpLPlyrAVXte7bwsIHCuTce1Cr1M7g9zyW+SZvVxxLodPnFNV/z0hfm688UZ56623tAsg+mij/SZa99q9DtIZirWLgEijm1Xv3r19reOQG40+0tjQjaZOnTp6nLgY5EUHrNEGb4lZsw0MAvPgW3cOFMRo8ItpbNjR6hXWqSvJ8w6YZITI8SakKhxzzDEq2Jdeeqnenjt3rnTo0EGDcNMZirULQLoVLGmINFrFoSH7DTfcoAFjr7zyilrVJNsIFtyVEtFwdljH3Xv7ItBCUrrOEWXuoWXoqieVU1IoeVDqgmJZEWVKGSGpoFatWvLII4/I7NmzpX79+rJ69Wo588wz1ehJVyjW1Qh6uUKke/XqpZY0GrCjLRxyo++++2515ZA0JHeYrHC6jSts0VQgq+jmjpQLHWAd57UQ/70jCX2B9I45z6pECr2h31LKfGriUmAArVmzRnr27Cm///67ttxMVwubYp1isI6Cxur5+fmazG+L9PXXX6+W9P3338/caKLkDrvVI6N+Kl+TDsp59kwYbq3cuPZT0DvGnGjHOvUTw3zWfCDdxWncO197gFUf83MTEhsHHnigPPfccyrY27ZtUwsba9tph2emT1KAR6Qr9GpFKdAbbrgh41IM0hKXlhsNjNoOjLZ2ngudBuVP7wo874zIDorgjgL7eSN+PhGjwStGqROSLLZv3255hNo3JocOHWrOpAcU6ySzdetWy2NJB4g0andfc8011qZNm8xVpLqpkMqEzSV5RQGvzfeaHHnWlb1OX16zQ5R9IhqHWNr3jfKz8b925lmT6gedCB9//HEzJkXbA6cLFOskgQbqEOn69ev7Bkbr1q11oGzcuNFcRaqb4FzlkJsrRDtEvnPUYhtNrnQU2EIdsY91EA6B9m60qEn1Mm3aNKtGjRo6HtPFwq6B/3leMEkgjz76qNx6663y9ddf6+1jjz1Whg8fLv369ZOdd95ZjxFCCKk+UKZ00KBBGvSJfGz8brsZinUCQZ40OmDZOdKo4Y0ULEQgop80IYQQ9zB16lQVbOB2waZYJwBEcaP7y/Lly/U2orv/9a9/yejRo9lQgxBCXAwaIl144YVqYQ8dOlQmTZpkzrgLinUVKC0t1RKg6IT1yy+/yN57760tKocNGyaNGjUyVxFCCHEzsLDRExtyeMkll8jEiWHK71UjFOs4QHL9TTfdJJMnT9a63QBVxvAFN27cWG8TQghJH9wu2BTrGPjrr7/k6aeflvvuu08++OADPdapUydNsD/ttNP0NiGEkPTEGXTmNsGmWEcJGpvjy8P6NGjYsKFcccUVamETQgjJDLCsid96GGfFxcXSvbs7auxRrCOAOt0oAfrUU0/JP//8o0XhL7vsMg0gq1evnrmKEEJIpoCOXWhFvNdee2kzEHQ/rG4o1mH4+eefNVAMbpG///5bj6GW90MPPSQNGjTQ24QQQjIPxCKde+65alnvvvvumpZ78sknm7PVA8U6BC+99JJcfvnl8umnn+ptdG659tprpX379nqbEEJIZvPHH3/I2WefrS2MkY67YcMG2X///c3Z1EOxdrB161YZOXKkuj9Abm6ujB8/nsFjhBCShUAT8vLyNDUXxa2ef/55cyb1sGKHYd68eXL88cf7hBrVbBBMRqEmhJDsBO01sWa96667yqxZszT4rLrIerFG/W5EdZ9++ulSXl4uRxxxhMyYMUPLzu25557mKkIIIdkIgssQUAyQh7127VrdTzVZ7QZHQ/Lbb79dPvzwQ72NgDLkTDOAjBBCiJMzzjhD5s6dK61bt9Z17FTrRFaKtR3p/fjjj+vtgw8+WN3fbsmnI4QQ4i4++ugjXRb97LPPpLCwUP73v/+ZM6kh68R6wYIF6tJApHeNGjW0cPvdd98tdevWNVcQQgghFXn11Vd9OdepLpiSNWvWW7Zs0WImp556qgo1Ir0RVIa1aQo1IYSQSHTp0kW9sgBNm7777jvdTwVZYVlDlNHCcuPGjXobpeTQd5oBZIQQQmLhm2++kc6dO2usUypbama0WG/fvl3GjRunQWOgRYsWGlB2zjnn6G1CCCEkVhBodtZZZ2n98JUrV8qJJ55oziSPjBXrb7/9Vs4880z9IAEsa4j2QQcdpLcJIYSQeIFVjTbJ6LyI9evddtvNnEkOGblm/eyzz8qxxx6rQo3ycPfcc49a2BRqQgghiQDGX506dWTJkiXaMyLZZJRlja5Y6I41ePBgbb5x+OGHyzPPPCNHH320uYIQQghJDOh3jTSumjVrypo1a+TII480ZxJPxljWWDvAWvSFF16oQj1w4EBZvXo1hZoQQkhSGDBggDRr1kwNRaQAJ5OMEGvMaLDYj9qtqOF60003aQ3XZK8hEEIIyV7QPnPq1Km6P3PmTF81zGSQ9mKNIicIo0d0XsOGDbWE6J133qkFTwghhJBkggZQaKP8559/qvYki7Res0Zy+gMPPKD7EGw04KhXr57eJoQQQlLB22+/Lfn5+bLzzjvLO++8ow2hEk1aWtabNm3S6jG2UKPICSxrCjUhhJBUg+yjXr16yR9//CF33XWXOZpY0s6yLisr85UMBQ8//LCvfRkh2QZcbx988EGFvwD/Vn766Sfdd4IKTGhGEMwhhxyiqY7B7LPPPlqeFyDadZdddqnwl5BsBxY1iqNAUt99992ER4anlVgjn23IkCFaNrR58+Yyfvx4X1F1QjIVjPePP/5Y1q1bp39XrVolv//+u952C6gOiIDOY445Rg477DC9jb9NmjQxVxCS+fTp00fmzJkjF1xwgQaeIaUrUaSNWI8dO1auueYa3T/qqKPkxRdflJycHL1NSCaAZjMQYluUkeVgW8vpim19t2rVyifiEPT69eubKwjJHN566y1du0aUOLxX++67rzlTddJCrJ1CjbSs2267jWlZJO2Bmxot95YvXy6vv/663o6VUC5p2/0G1zVc2MHA1R3qnz0yKOAiDwaudPu1hXK5xzOZwGuDy7B9+/baych2sxOS7px00kn6bxoxVVdccYU5WnVcL9ZFRUVy9dVX6z7KuyVr8Z6QZANBtoUZf0MJYyjgSna6lmGZYrK6xx57mCuqn23btqlrHp4Bp8ve7nQXCUwgINy2gKeiMQIhyQBxVJdffrn+u0VhrkRZ164V6++//17uvfdenzhTqEm6AYsUyzXY5s+fr2JWGXANQ4htUYbrGFbyV199Za5IPxo0aKDWN1z6tohD0OHyrwxMRnr27ClnnHGGbqE8BIS4EUSEw1O0efNm/Xffo0cPc6ZquFKsIdSnn366r2MWXN/JTDYnJFFgnQqFedBMButXlYF/0LYbGJZkrVq1zJnMB+WB4WGwlwEiLQEcd9xxcu6558rZZ5+tUeuEuBn0p3j88cdVx55//vmE/Nt2nVjDGsGMesWKFdrRZPjw4bpGTYhbgbU4e/ZsFWhYkeGA1WwLM0T6t99+M2cIAnLsJQIIOKzvcMDbAOFG5C28EIS4jfXr1+s43bFjh05EDz30UHMmflwl1rCokViOf7BYw0KP0LZt25qzhLgHTCqnTZumXXfCCTSCvbp16+Zz5W7fvt2cIZGoXbu2bwlh4cKFYYPY8IOIAklo3ENXOXELGK8oQ4rln/vvv98XIF0VXCPWTtc3hZq4laVLl8ojjzyiVnQoIBjwDMFdC6H+7rvvzBkSL/vtt58KNpYXsAYYqtALgLWNAkkdO3Y0RwipPuD+xu8AvGioEbLTTjuZM/HhCrF2CjX+YZaUlGj5NkLcAFquQqAffPBBDZIKBgJtu2Uh0F988YU5QxJNo0aNVLjtZYdQwo3gPKTMQLir+gNJSLzA/Z2Xl6edIOF9q2p6oivEGrMPzEJoURM3gWAxiPR///vfkG5YWNBwv8LF/fXXX5ujJFUccMAB6ibHcgQs7mCwDAH3I0SbQWkk1WDZC1Y1ypCiVgjir6pCtYu1nUeNsmwIKjvhhBPMGUKqBwQ3QaQfe+wxc8QPJpRYI4UAIHiEuAN0O8J3hhiCUPnrQ4cO1e8MQX6EpIr//Oc/cuutt0q7du00gLIqVGvXrXHjxvkKnlx//fUUalKtIBiksLBQPTvBQo3UoWeeeUZzntHljULtLvB94HvB94PvCd+XE3yf+F7x/eJ7JiQVIGAaNQPee++9kEtosVBtlrWzMtkNN9wgd999t+4TkmqQemWvSQcDF7fdipWkH1dddZW6yoOx17SZ+kWSTZs2bbQL13333SfXXnutORo71WJZowSbs4QohZpUF3CbHn300RWEun///porSaFOb/D94XvE9+kE3ze+d3z/hCSTs846S/++9tpr+jdeUm5Zf/LJJ1p+bcOGDRpYNnPmTHOGkNQBawuz3ODKWYjqRhEeN9XdJokB9ctHjRpVIe0OUbrIhYUXhZBE8+GHH2p201577SXvv/++HHjggeZMbKRUrL/99lut3mSHtL/00kvStGlTc5aQ5IMSoFdeeWWFUqBY45wwYYJWzSOZzQ8//KBr16HGAHrkB693E1IVMN5QIx/R4WvXrpUjjjjCnImNlLrBYbFAqJEH+corr1CoSUrBcguqCjl/pNE8A03iZ8yYQaHOEvA94/vG9+7sq41xgfGBtUVCEgUCzJDCBcIVU4qGlIn1ddddp0E8AP8YmPdIUgVSJo466ihtCGODHFxkIJSWlmr/2dhYLCMaN5bGIxab25FZPMJzPe5jbym6r7J4hPd+fSdLuTmU1pRPlr7OzyPmra9M9nwQ+N7x/WMcYDzY4DbGC1JJCakqKIpiW9PoyBUvKRFrDHoUlkBzewR2IJydkFTw0EMPSYcOHQLqd6OYCdaR0HM2lnKg5ZP7mh/7wTLdHIuIEZbB0/vLlE2bZBO2Kf1Fpg/2iUZ4vJOCwXiy/lP0vrir974jPGejAM+PB2hzmyydNURyzOFMof8U85nan2sQkc7j+8c4wHg47bTTzFHR8QJrCOOHkKqC+CzwwgsvhK1zH4mki/Ubb7yhgRtYGj/nnHP0HwYhyQYZB3BpIkXHBmVBn3rqKf0Bjr5lXblM7uu1yDqOWm2ORQmEsuMowb3a3FYonb1HRToXym1tsLNaRnUMJ7p4XntS0EZuK/Teu3M3W3Cmy+CIlrLnMa7G83smChkq1GN8H2oUdB4TUrABxsP//vc/HR/OhiAYPxhHGE+ExMu+++6rf1HpMN5qh0kVa7QAhDij9nenTp00gIeQZIPStfn5+QFr02jugEhMVBKKHghmR4lVo20WT/AKNTi8iVMqc6TJ4WYXohvKrV2+SOaFet6muR7pNqyeJ4sqUevFI7yvvf+UMf6JQqbQ5jYx85fY8E2UQoPxgZxYZzMQjCOMJ4wrQuKhSZMm0qpVK/nxxx81XisekirWY8aM0RkpZqpYWLdnF4QkC+Ttw+Vkt6PEWuTo0aPliSeeUO9ObOTIkFl+N2oYoywMi2VhtL7y6QsrWNfli+b5hN4j9RKg9T5Wy7wwag2Xvdf7vTQ26zNNOLxX1zg9BTnStZdvphQSlD7GeMG4sdeyMZ4wrjC+CImVPffc0xdQjRTCeEiaWKMnNYqXg4cffliL7hOSTAYMGCD33HOPueXtvoRObjieCJrmVmKSBbN4oWNdu43kBiU+BD7WdFkYbcxYThOPdEegfLJc7TWpZdaQTHN+e8gZImOq8L5yhoyRaO6OcYPxg3Fkg/GVqPFEsgu7MM+TTz6pf2MlKWKNmQMqlMENjuotKDRBSLKA9wZFB7DeaINuWHBn1qtXzxxJLYujNqu9rN9Y+epz9CyWEbpO3l+mJNGk9gfb+be+IaLlQl0XaYs12D2ZYPxgHGE82WCcYbxxHZvEAprNgL/++kv/xkpSxBqR32+++aYmgiNNiz1lSbJYtmyZnHLKKdqGzgYpWnfccUc1tq0sl43rzW6UrC771Ox5yfEvantYLz4tL9/ouWXTRnp1DTQRF49AUFobuW1pstapvRHqGmyHCHPHEsHqUR09YhsiYM5Esnu3KZ5phBNHlPympZWuJ1cXGEcYT87UP4w3jDuMP0KiASlcEGyIdTwR4QkXa3S0QfETgPZgmCkTkgzQ+xyBQHb6FdYXp0yZIpdeeqneTivWbwyM7A4XCPVpmX8tu00vcWq1f516bKCb186z9m2RUsbC4YxQ98jslf4I886Ft5nAt+kyOECwD/dFskcmR4aMvU2q1qI/eWBcYXzZ69gYdxh/c+fO1duEVEbXrl0lJydHq5gFV8+LhoSK9T///CMXXnih7vfu3Vsuuugi3Sck0cyZM0fzpW3q1q0rCxYskM6dMyWayitcXgFcLaMmeOXP714PSscKs06tbmhN1Ia17bFel+IxkTIW2m1dGeWTr3ZExgetwwespU+X8eaxo10f9pEzRIa4+CvE+MI4w3izQWoqxiMhlWG7waGT8ZBQsUaTbRQTOOigg3xFUAhJNC+//LL06dPH3BKthodll4zz4niEa5btGtZCKM4CKU43d5h1ao9F7csN73+lVzRzukovY7HDbR39+nC5LArIJQsXoe5l9bxFgZ6CDALfA8Yb0nFsMB4xLgkJB7JR0MwD/PzzzzFXM0uYWG/cuFHGjRun++gh6xzIhCSKxYsXB1SaQsck/HBGX+TEpRzexG8lBxCYPqZbQOCY7ZquuE7tDHJr4zODnTneyBqLVq0/lTKnVkdidZnnHpkLxhsixTH+bDAuMT4JCQWM1/POO0/3p02bFnO8Q8LEGpY0or/RVeuyyy4zRwlJHChbi3Ufm4YNG8qiRYt8OdXuIVAQo8EvprFhu6YrrFN7rO1wAekBaWMhcrxDEhDYFg2OoLgMBeMO4w/j0AbjkzXFSThsV/iOHTvk77//1v1oSYhYw/0zadIk3UdQmW3qE5Io3n77bY2+tQub7L///vpDmcIOrzHhLwsamk+DzNTACmdRYru5U5FPHU1+dwCVu8kzBYy/JUuW6Hi0b2OcYrwSEoz9ewUrO9Zl4iqLNZ789ttvV/87kr6dZfoISQS//vqruo/guQGoiAehRiqEa3GWBZXVEpSZFUR/6RZzUNViGWE36EhJibKmEktNGGmT67lHdgCXOMajXVMc4xR9EH766Se9TYiNnbKFMVO7dm3dj5YqizXSZ9CsA6VE77//fi3VR0giQX35Tz/1qh16wyIad++999bbriVniFwZbXnS/t1izIl2rFOPDdego7M4jXtnHneAVR/1c6NMZyVqHeQmbxN3OdD0BOMR4xLjE5SXl2vsDiFOmjdvrq7wsrIyee+998zR6KiSsiIEHW5vcMkllwQ0cickEUyePFmmTp1qbok888wzcuCBB5pb7qbzGH8BkMAKZc6iKbFXGrPXqftPmVVpWlRoV7zzuf3dvKIhZ8iVvvdT+Zp0f7ky2W55F4JxOXPmTHNLdNw++uij5hYh3tQ/WNTIs54/f745Gh1VEuuSkhKtAV6nTh255pprzFFCEgOiJYcOHWpuiVx//fVy9NFHm1upZrFM8CcZe5k+PkJxkc4yRvOakSY1wR/ItXiCyVeOo9KYY506osZ3HiNL7coq9mt1dPOqGJQWCf/7gWt/1NV2i067FSeI8J4CaqaDxAWilYcoGxd9tHtiaNmypY5Tm4KCAlY5Iz7gBrfXrWN1g9fw3DGuCB1Es5100kkq1jfccIPcfffd5gwhVQfr1BBm2/193HHHyWuvvSZfffWV3k4NMbTIRO5zWPUM8TiVXh8GVCKz16lj6U/t6KvtBYJauVUeicUjTM63k0jvyX79IYi5N7WDkK8lmHg+7zhBmWW0BMZvI0C3Jbg80XmJZDcoXYu0ZsQ1oKjTvHnzzJnIxC3WMOF79eqlEW2ffPIJ86pJQsGyip1hgGpRaKYQ51AlJOXgd7F169bayx8MHjxYl3RIdlMVsY7bDX7nnXfqX0R/O/MMCakqL774ok+oAeoxU6hJOoHxinFrg32Ma0LiJS6x/uyzz+T999/XfZQYtQvbE1JVfv/9dxk+fLi5JTJs2LBqXKcmJH4wbp2xPBjXWN4hJB7iEut7771XfvnlFzn55JOlS5cu5ighVeehhx7S0rUAHpvRo0frPiHpyL///W+f5xHj+pFHHtF9QmIlZrHGzBD5hADrMLFWYSEkHFiXdkbSjh8/3tf+kpB0BOP34YcfNrdEg3E//vhjc4uQ6IlZrNFVa8OGDVoEpVu3buYoIVXH2d4STRHatImlZBYh7gTucGfzGVrXJB5iEmsUHrdniUhNsOvhEpIInOUZ6f4mmYRzPKM74Zo1a8wtQqIjJrH+5ptvZMaMGbp/8803619CqgqiZIMLBHz++edmj5D0p169enL22WebW7SuSezEJNZz587VCiyob9qiRQtzlJCq0b59e1+Be4CezchRJSSTQLCZzcSJE3052IREQ0xibQdGtGrVitV4SMJwWhm777672SMks9hjjz24dk3iJmqxRtOOWbNm6X6PHj30LyGJwPmjxSpPJJNB3QAbijWJhajFGnWZv/jiC117QXAZIYlg6dKlsnnzZt1HGb4TTjhB9wnJRLCEaJdmxrjH+CckGqIW6+eee07++usvOfHEE6VRo0bmKCFVY9q0aWZPpH//aBtAE5K+OMe5c/yT7CLWEspRi/WqVav0b58+ffQvIYkAk0CbgQMHmj1CMhfnOHeOf5L5OEtzx1pQLCqxXrdunbZ4Q4AEo8BJokADdju3+sgjj5Rdd91V9wnJZDDOMd4Bxr/dSpNkPsiv/+OPP+TUU0+VAQMGmKPREZVYo3c1WnohArxt27bmKCFV49VXXzV7wmp4JKtwRoVz3Tp7WLlypQZr16lTR/bbbz9zNDoiijX6b5aVlek+mqijihkhicDZMpANYUg2gdbCNmydmT3YbnDoaKxaGlGs4ap84YUXdB+zQbbDJIkAA9V2/+20004BP16EZDqYnGLcA/w7oBGUHdj6uX37dg3YjoUaVoSQtJdeekm6d+9ubhFCCCGkKqDHRq9eveTggw82RyIT0bIOrtlMCCGEkPhBR8FYhBpEFGtGKhJCCCGJY9u2bWYveiK6wRGlu3jxYo1g++yzz1gQhSSE8847T5599lndf+aZZ1i5jGQdb7zxhv47AOeee67+OyCZy7x58+TMM89Uixrfff369c2Z6IjKDe6MYCMkEWDiZ3PIIYeYPUKyB+e4d/57IJkJAgph9O67774xCzWIKNaEJIMtW7aYPYlr4BKS7jjHvfPfA8lM7CXleL2IFGtSLTh7+datW9fsEZI97LPPPmbPW8mMZDbLli3Tv+ivEQ8Ua1ItOH+cfvzxR7NHSPbgrFnx559/mj2SiWzcuFFLdqPUbMOGDc3R2KBYE0JINfDdd9+ZPZFff/3V7JFM5Msvv1SjBP01OnToYI7GBsWaEEKqAWdtaPRdIJnL888/r3/bt2/vq1wXKxRrUi041+sQHUlItuF0fbOMc+aCsqLoXAn69u0rO++8s+7HCsWaVAvOoDJnsBkh2YIzbsM5eSWZxebNm30dBjt16qR/4yGiWCO3GrlhgLM/kiiYtkKSzV85OWbPnTB9MTtAMRRY161atapS5ktEsUaFHXTbQqEz25QnpKqwIARJNrXKy82eO2FhoOzAXq8+/fTTqxSbEFGsEWbeoEED3V+wYIH+JaSqUKxJtkOxznyQsvXuu+9KjRo1pHfv3uZofEQU6x07dugG6AYniaJFixZmT+ixIVmJc9w7/z2QzOH+++/X2IRTTz1VWrdubY7GR0Sxxnq1XRM83pBzQoI55phjzJ7IqlWrzB4h2YNz3Dv/PZDM4Pfff5eFCxfqfv/+/dW6rgoRxRpJ3HXq1NF9JHVHaNJFSFQEW9YHHHCAuUVI5oPxTss6s5kxY4Zs2LBBl5J79OhhjsZPRLE+6aSTdFYAnnvuOdm+fbvuE1IV4KWxa+TCc2OnNhCSDSxdutTnscS/A3otMwtY1XfeeafuX3PNNQEFcOIloljDdK9Z03uZncJFSCI444wzzJ7I8uXLzR4hmQ/E2qZnz55mj2QKsKo//vhj1c6zzz7bHK0aEcUa2DNAPHG81VcICQal92zmz59v9gjJfJzjvWPHjmaPZALIqb7nnnt0HxXL4m3cEUxUYo3qOli3/uOPP7QgOSGJAGJtV2764IMPdHwRkulgnGO8A4x/56SVpD/Tp0/XeIRGjRrJI488krAljqjEOi8vT9q0aaNdYpzuG0KqitNFNG3aNLNHSOaCH3ObRLlIiTuARt511126f9VVV0m9evV0PxFEJdYAC+aAvYdJIhk4cKDZC/wRIyRTcU5K7eBdkhnceuutsn79enV9X3LJJeZoYoharOF7B0899ZT+JSQRYL3OXtNBtZ+PPvpI9wnJRDC+Mc4Bxn2XLl10n6Q/paWlvonYY489lvBuglGLdePGjfUvUwxIovnXv/5l9kTGjRtn9gjJPJzj2znuSfozaNAg2bZtm3Tu3FlOOeUUczRx1LCirHKC5O78/HypVauWrFy5Upo0aWLOEFI10CLTmYf44YcfajEeQjIJ/JAfccQR5pZ3fbMqXZiIe7jpppvk7rvv1oDBd955R3Jzc82ZxBG1Zd2sWTPZe++9ta3b119/bY4SUnXwg1VQUGBuiYwcOdLsEZI5jBo1yuyJjncKdWawZMkSFWqkNt9xxx1JEWoQtWWNXOuWLVvq4jnC0S+99FJzhpCqs2bNmoBC9+hUY5e5dQ+LZUTjwTK9/xTZNKazORaexSMay+BIMXNtbpOls4ZIqM7LFe4f5fP6WDxCGuMBKnmOdKJ8cl/pOGq1uVUJ+n67yqK+HSW6y5fKrCHJ/XR++OGHCuMb/Y1JegMrulevXrJ161YZOnSoTJo0yZxJPFFb1lirPuuss3R/8eLF+peQRIEfriuuuMLcErn55pvNXvUDkUDMRmMItTkWmcWyMIqL2/TqGkJEMSkwQg2B3rRJpiBoePpgz2sY4TkbBeWTpW8GCTXIGTJLP4tNm5bKbW3MQQf9p+CcZ9P3myNDZpnb+uEF01+m6GNtSrpQA+d4xjinUKc/n3/+udb8hlCjZKxdXjRZRC3WoHnz5mrqww3OAhYk0TgDbl566SVZu3atuZV8/poT/INeLpP7QqAbR2fNBbN4YRTC3kZ6dQ0WCjyvPSloI7cVei3pzt3s1zddBved7LmqMjyPcfUoWQ1ByhChDiRHmhxudn30l27hnA6du3nOBtG/m8Tgo6gSGMcYzzYMLEt/4GlGze9vvvlGjjvuOCkpKZH999/fnE0OMYk1Itwg1vDRM9+aJBp0HnLOTgsLCxNSAD8aavV2SisEMzoXajgWR2NW979SKhh15YtkXqjnbZrrkW7D6nmyqBK1XjzC+9r7TxmTMkEiocH4xTi2wfhmh630BkKN+hBobLXLLrvIvffe66vEmExiEmuAiixo7sFKZiQZwOrIyfEq2ObNm33BZlXtBRsbDheqZwvpRa0UuMA9VvFS/2OE3EKsP5cvmuexiG0OlyYhzeLVMi+MWsNl7/V+L5VYlrczmcUjYlm+SCwYvxjHAOOaVnV6g2ZWF154oTz99NO6NIy6I+hMmQpiEmuY+UjiR0wai1eQZIAZ6gMPPGBuifz3v/9VN+LFF19sjqSeprkhFkgrAy7wNr2kgoe7KuQ08Uh3BMony9Vekzol67BpweIRkYP8kgTGLcavDcZ1KiwwkhxgUQ8YMEArLSKFGZ21UlkuNmbL+vjjj9e/yIUlJBmgdebgwYPNLZF+/frJwoULzS23Uy6Tx3vUYfUo6ahBaWYbkeygzMUyoqNZp06iSe0PtvNvfSdXtPJDXRdpS/hHZILs+k+ZUnHNOsnAEwQLzAbj2dkSlqQXWPa1LWoINf7aVT1TRcxibbdze+WVV5hvTZLG2LFjfe7w3377Tf+mBeHWnDWSO7Io5QRETq2XjbYOlm/03LKpGJjmdfXC9Z6sdWpvhLoG2yHC3LjysUSwelRHz/sKEaVuItm9W7Bg+qOxw0V3Vw0TZOd5DaleDmjQoIFccMEFWuwHYBxjPJP0BOlZiN6HRQ3XN/7amVGpJGaxbtq0qRZIwUxj2bJl5ighiQXuQhQacIL0CLcTuOYcmumDPaIdLqK7c2Fo4fq0zP+4QS52/zr12MCANeRZmwmCd+srIYzgKHBGqCMuzh9h3rnwNhP4Nl0GBwj24b5I9sjkyJCxt0kiS0mUT75aRq1OrpchHGjmsHz5cnNLZOrUqXR/pylvvvmmdO/eXcrLyzUwMNWubycxi/Vee+2lSeDg7bff1r+EJBqkRPznP/8xt7x89dVXLo+VKJdFIc3qEMBNHlKwvcLlFcDVMmqCV/780eVB6Vhh1qnVDa2LtSbQbSke0/N4HUO7rSvDK3zmhudRcpuaXRCwlj5dxpvHzhkypmKke2XkDJEhidJV85lURzQ8xieig21QQCpVAUgksdxyyy1a5/vbb79VQ+G1115LuevbScxiDdq1a6d/X3jhBa13S0iiQTDj+++/r8GMTs455xwtQuBOAqPI7W1pOB+vR7CNFgfiEa5ZtmvYuM9Vd9Wt7BSgMOvUHovalxtup4fldJVe5mXAbR39+nDwBCRchLqX1fMWhfYYpAzvZ+KZoaTc/Y1xifFpgzVOVnpMP2BFw3oeM2aMtoaGcTpv3rxqLw8bl1hjloEf048//lgbfBCSTCZOnCiNGjXS/V9//VXdUj///LPeTgf8lbcqBjpNXxhONUMIf4D62K7piuvUzhzvNj4zOLCQSPjnDeZTKYvSWaCsLvPco/rQtfs2t8nYFEfDYzxiXGJ8AoxXrlOnH48++qi0b99enn/+eQ0SvP/++2Xu3LmuqOMel1jXr19fDjjgAN2nK5wkGzRxnzlzpuy+++56G4E7Xbt2lb/++ktvpw+dZUxwMNX6jXFZorZrusI6tceyDFePJSAFbfrCigFhoQgIbIsGR1BcqtE0Lc/kZWxqq7ZhHKJglB1QhnGK8cpGHenDF198ITfeeKM2WMH+0UcfLW+99ZZWKXMLcYk1Zhx9+vTRfcxAduzYofuEJIsTTjhBS/rZxVGwpt2pUyfZeeed9Xb6AIu5iqlEtps7FfnU0eR3B1C5mzx5TJfBg6eHmLwkF4w/TBzRjRBgfGKcYrwS94MiJ1ibhjjfc889emzYsGFqhLZt21Zvu4W4xBr07t1b/7766qu+gUpIMkGgzqJFi8wtb4UzCLZtcacPncUu9R26kUdlLJYR3tBvWZqSRdmmElNNmDa5nntUEyl2f2PcYfx99tln5ojIggULGFCWJqBcKCZVWJuGVwT7MD6Lioo0l9ptxC3WaOpx1FFHqVUNnz4hqQDRmc6mCGVlZZKfn+8el7gvXSqaNKlQjTwqw7FOHdbV658IgNVl/hXkT52Lz1E3ssiRrnZkWiiC3OSxTz4SRVCUfJLBeMO4w/izmT9/vpx88snmFnEr69at04qICAaEBY367Ui3q+5o70jELdaYVdopXLNmzdK/hKSCU089VWbPnm1ueQUblfUQhFW9mOplSmVpUt515VhdtvY6df8psyq9n79Dl5Ny2ehTVY/YR50D7ZHrIVc63PaVrUn3lytT6YOuJjDOMN6cQo3xiHaJxJ3A3Y2caUTno6/4Y489psdvuukmee+99+SOO+5w/ZJa3GINMAvBGg0W4p2uIEKSDZZhnIINNxaCfBLfa32xTLDToGymjw9jNVe0QrW6V0A+tdc6Xn/b0tjWmx3r1BG9353H+NPF7NfqqKwW+7puZxmjedrAMwm52n4/nveirThBxaj0ACq0DK1KIFqoILrpEjbAPVS70mgD7ILA+HIGkwGMQ3tZkLgPuLaRwQQ394QJE+TPP//UCT+WcNEFrWHDhuZKd1PDCk5kjQG86WOOOUYL1uNDQCQdIakEVfQwafzuu+/MEZHRo0drwf34gaBG2SITuc/B6oma1Jr/HAqIWuWWcQXgWrfXqWNx9VZ4HXE8dxCLR5icbyehPgMn9usPQf8pm6LOh0ahl6h6i+vn1FUWRfkdokNZNBMn1IO++eabzS1v+0t4FblG7T7QdAOTKDRSef31181RUe8HIrwRFJhuVEmsAXz9qDSFN4964YSkmtWrV2vPYNTwtbnooovk4YcfZv16UmWQpnrZZZfJ448/bo6IRgrDQGnTJpboO5Js8BsAkUYgKtzeAG2dEV8AkbZ7W6QjVXKDA3SSqV27tn4wGzduNEfdQ9m4duqqj7i1Gydlnv/GtQtxLsTWbpx/vapaKRsn7fQ1FUqJORSOksKg91EY6R5+qnJfpaTQez/9nBMLfjARKHLmmWeaI6I/rFhX/OOPP8wRQmIH4wfjyCnUiNXBeKNQuwMsSaCvNIrSHHvssRrdDT2CSP/f//2frkmj2mY6CzWosljjw0FXGVTuQdqC28gdtkJLVlpWqRTlm4MOCopxzrOtGCa5nv+GrTC3i0O59AukWB/LkhXDEtl2IF5KpDBvuKw0t8JiBL3HRP/r1/c3sYdHQNtJ5fMOz3PofT27BcV6X/1o9L6RJwgKnh8PkF8kpfo5J4c5c+bItddea26JfPDBB2oBJX4dm2QDGDcYPxhHNhhfzH6pflAG9I033tBlCQSMYdkLWSIIfEYFMuRMo1zxqFGj5KCDDjL3Sm+qLNawlq666irdR5ck97YzzJVmLc2ujwLp3d3sBtO9t+dsEAW9JdzlqQdegB4CDa0UCKUR9Pyi6/2vv/v1ZvKyUobnhRNd53PkS9H13nt3721/MhOlR0RL2fMYg/D8nolCEoXa5r777tMWdjaYRKKX8NVXX52G+dikOsA4wXjBuLHLhwKMK4wvUj0gonvlypWqN5hEIWjsrrvu0uDmww8/XJcqVq1apSlY119/vbYqzSSqLNYAvT0R9g43OILNSPIpGzdIhkc0qT128b1+y7tlM6dUOicvHtEN5dYumy8zQj1HXguPdBtWzpD5lah1SWGevs6C4gkpm+icf/75GlSCHrQ2WMc64ogjdH2bkHBgfGCcODMNMI4wnjCuSGpBx6tp06bJ6aefrlXG0ERq/PjxmiuN5VdE4aOeN763hx56SEU7U0mIWKOpB5qtA6wXZAIlhVFYrdVFSaHkRaPUHnt5TrRvYuKcCtZ12fwZDhd7SwnQeh8rZUYYtUa8gNf7XSoTUuySQJrGu+++q24wG5QoReQ4ZubpV1ecJBOMB4wLjA+MExuMH4wjlg9NDfjsP/zwQxk5cqROjiC+6F6GrlcwBLHkikCxBx98UD799FOdVKHAyW677WYeIXNJiFjvtNNO+oEBNF3/8ccfdT9t8YihrtG6EbP+W1BcXNFNH0zJHMeEI19a5JldQ14L5yL+RJkTbcxYbjOPdEfA8zoHeU3qal3fR4AJYiny8vxv/sUXX1TrCTNypN+Q7AXfP8YBxgPGhQ3GC8YNxg9JLogJQD11GHwtW7bUDZOkZ555RlMyDzvsMC1mUuz5zUMhGnTCuvzyyzNmLTpaEiLWAIv8cBfhw8WsJ22JRQxTjln/9QhgNJZqSdRmtZe1GxIVp20HvhVIcapN6hB069ZNI0KRYmiDGgG4jZn7ihUrzFGSTeB7x/ePcYDxYIPbGC8YNySxbNu2TWsjTJ482bf2DPc28p8RE4BUy1133VXLtiJIDKlYcHE/8sgjGu2dfo17EkfCxHqPPfbQVoYAhQIQDJB+xCaGqUbXf6VISqN6cWWyIcbwgZXrSs2el9yAiLy14tPysg2eWzb50q9noOXsXULIl6LS1K1TRwJushEjRmhKx3HHHWeOepuBYEaPaNIffvjBHCWZDL5nfN/43vH922BcYHxgnGSDWzUVwFWN9WW4tfF5H3rooZpCNXToUF17RkAYvBsQbEyS0FoU5VwXLlyoQWIousXAUC8JE2tw2mmnyd57761rPOlYIMUbtOUOazAY7/pvkiOq124IjOz2RYwHUbrOv5ad30+cWu1fp35CArzfdp61b4uUMpYc7B9k5F02adLEHPUu38A7hB9q5mZnJvhe8f3ie8b3bYNxgPEQPJEjsYHui0h3mzp1qq79o6QnxBlLDHBrw3LeunWrWs5oyHPDDTeoYQcxX7NmjX43Z599thx44IHmEYmThIp106ZNZciQIbqPWVJaWddmjTWVUctRowFlUg2Waq4Me6LIRH6vlOH3ehe1/e71oMlDmHVqLUyjQQCwti2xSvGYSBmrvuIyKOaDWT+qnDnBDwpco7fffjtFO0PA94jvE9+rM60P4PvHOMB4INGBJQOktCGvGev9+M3HBAhFYrp06SKDBg3SwC+s+desWVMtZ6TBYd15yZIlukaNutxI9e3Tp48GKJPIVLncaDAbNmzQgADw8ssva9F7t4AqXIGBYx6xsSCAKPzRQ9YWlTpExnss8PJisVJudYd6bSD49dnvxQY50t60KS8QyhUB1i5ENCCqPGzRkuDH8lDhs7BfT9DrgEVtf+i++wQ+HgrTVKczAzN7rImFirXATB/Rp9kWzJIJfPnll1obGn2Lg7niiivkX//6l7Ro0cIcIaEoLy9XcUZgFwQW4ouiMIjaRlpVMDDYEHB87rnnyj777KPr/gcffLDUrVvXXEHiJaGWNTjkkEO0DitIl0o/usbqEaonAsTQDUDUPK8tyFJNGi2bhXGxOyq72VuAuprXGWKd2hnklu8LRw8sUDMx6jD05IAfbKyfIZgFa2lO8EOP8Yw0ElRMatSokTlD3Ai+H3xP+L7wvQULNb5ffM/4vinUftD4AlYvamojKh69nuFtgDeiWbNmGgCGgjAI+vroo49UqCHGCATr16+fVg9EtDbOffzxx9py8rrrrtO1aAp1Yki4ZQ0Qho8vt06dOpob5xarJKRlXYxOLGsrWJ2eq6tmWSOqvNJSoBUt3Qo4rdKo8Vu2ge83smWNfOh4JgX241S8f+Bn6Dwf+NzBXoHqBUEvsLTtnrdO6tevr93lYJVt377dHCXVDQpk4DubOHGirp0GA5HGd4aApWwFueQo04nUWggrYkcg0PAs7dixQ/+GYs8995RddtlFa+/jc4Y4w7W97777qnFGUkPCLWuAQDPUZ0XUJdxQ7mWiR6g99mBwMFSG4C8LGprSdYFTicAKZ1Gi6+mex0mV9Z8C8IM+adIkXctERCrcejYQAgTLwIJDricaOmRaWcN0AZ87Pn98D/g+8L04hRrfG74/fI/4PrNFqGF/wbrFkmRRUZEu46CmOd4/gumQx4yJC9aQkcuMGtoQaqwdYwkT6VTIZcZvNwLGEJ0NNzjSrTAhQnDYUUcdRaFOMUmxrAGCD5AXt9dee6l17YYvtqJl7SHsOm0VLetEUEXLOti6D14bDvw84rFuzWcU5WeYLpZ1MHAR4kdq3Lhx+qMVDNx8WNvGBpchSS4QIbi3saHjUjC5ubkybNgwFSTnRCsTgcv/p59+UisZ/bbttWREtlcGot7h+UTkNdaXIQOok9GwYUNzBXEbSRNrPGyHDh208ABmdW4ogB8+wCwULhDrSgl+faHfi/M9VyrWMb83O0iscnd+uOeo2nNXHwiyQQ93Z0N7JxBueJYg3AiuQZEgUjXgckXeLcQZRkAogQZo7DB69GiNSM4UEHUNFzX6LqCJBUQZVjPWlhHs5ewI5gQuamTjwEiCJYzfY9TXhgcC+1ivx2OR9CFpYg3stWvkXqPea3UH52SjWDuvC1xTdkZkx27Z2pZxxEjuiNHgUazduxBYM+hxjDXScGt9WOeDYCNQBxvXuKMHa6MIdMIGoXZWGHMC0UEMwUUXXaQBT+nKL7/8Ip9//rkKKSzkn3/+WfeRAgXBRuUviHYwqJWNNWVcCwsZ1jKsY0xYcAwFRfBZkvQnqWIN9+FJJ52kM8Lqt65DiK+HsGIT0gUdu6glj2jF2oPPHe64xvf+4hBL+75RTl78Lm/zXOJ3z8cb1OYmINaw+p599tmwwg2wZogfUViAiOlwbzvZ1ANRQaESeCzgvUCQXzgg0BAmeC/SLaIbgougLgR7oRAI2jnCQoZrv7Q0sIJgMF27dtUJINacbTGG9xJiTTKfpIo1QNRhz549qy0yPHBttBJ03bWnzA/OJw5D9YtMDGKtOK1ZQzyeAluow65Th6FCdHx6WtSRQG9dW7jfeustczQ0COaBaKP8Iv7iRztbgIsW4rx06VL9C9duZWCN1RZotwc22WVrkSKGVCa4m/Ee4bKGAQNhDgVc16h9jUIhKHdaq1YtQQoaJjJYe2c8RHaTdLEGmP1hsLpl7ZqQVABXue3KnT9/vqbNVAbclxAliDi2I488UoN+vvjiC3NF+oGlL1iQECoIMjZMYpw1uUMBscIk315CcKOLGxMOeFIgxlhLx7oyXNbIOcbPKlzZoYA3ABMzVPxC6008Dr5r5CTjsbBsSEgwKRFre+0akeEoQcfesCQbgYvXdvXir7NvcmUguhk/8BBw/MUPO8QLlpdbgFsXkxMIsy3KELJQ0fOhQNoQvAv2EgH+uglMLtDzAGI6Y8YMTRGDBY3UsXDAPQ13NcQYf1EjG+vH8KQQEispEWsMVvwDxI8UrGys2WSTy4+QUEDQbDcwNlhmsQJBgIjDEoWQY00TYg4g8qEsUhwP1XMebthQ4goRto/DQkawF4QYngK8B1iTsYJ8X/wmYIN44T24AaQ9QZCRxYL3DIGGJwDCHGpyBQMEkyZ4EBBMiJ9TpKzCVY/vBKU2CUkEKRFrgOT6Xr16aVANojtRpo4Q4gfWG4TBtkwhjLBUsc6ZrmCtFa58TCBs9z5c/W7I58XaMZp8YJIE7x8mMFiugFgjOjsYTIawpgwLuVOnTj5hRjwOOkm5ydNBMo+UiTVAoYIHHnhABzrEmxASGVh4sGRt1zJE3GntugHbiocw26IMccNxN4CfORQKQYvGZcuWyXvvvad/4b4PBSL3YS1j/XjgwIEqxPAKZnqRFeJeUirW6OCCWSlyBh966CG57LLLzBlCSDzABQ0Rh0saQg4XNcQcQMwh6sGEOw6xDSWuzuOwkOFqhxDDzQtRdlvqENzVEGH0SobljOh8FKcJNbmpV6+edoqCAYHlOtS/RlUvuOlhRRPiFlIq1gD1e0eOHKn/SLBOh3/shBASLyi4BFc2ou4xeUG3P+QzB/cjb9y4sa7LI9gL3aQw4UAENlKjGEND3E7KxRpPh0Lxq1ev1pSMF154wZwhhJDKgfWLoDwEfKFf/vr169WdHQzc1lhPxt8BAwaoSMO1jYAwQtKRlIs1gJuudevWGsiBf3CY6RJCSDCoA47AOwR+YYKPymboouUEgoya7HBhH3rooVo4BS5sdoUimUS1iDVA0MaTTz6p60WobIb1L0JIdoNsEVT9QslRuLch0kincgLrGMtnsJyxtmwHtcGdTUimUm1ijeo+WC9Cr9RLLrlEGyIQQrILpKUhdgXBp5i84/cguEY2CqYgFzs/P19d2ShZ7JYoc0JSRbWJNUB/4OHDh6sbC7PovLw8c4YQkonArY3qXyjJCY8aCiVBoJ3Ur1/fVyjlnHPO0ehsCDYh2Uy1ijXSTFAoBUVSUChh3rx5/EdJSIaBlDK0f3zmmWe0sQ9Sq5w/O7CSUenrggsu0GUxlCPmshghgVSrWIP3339f156+/PJLtbLHjh1rzhBC0hHkOC9atEjTqdCbGaU7EcVtg8IisJxPO+00dW2joQXFmZDKqXaxBnYbTYDAks6dO+s+ISQ9wGR79uzZKtAoQoI1aBvkMDdo0EDFGRu8aIzUJiQ2XCHWoLCwUIPMULgA7eZYLIUQd4MUKuQ8oxgJamtv377dnBHZb7/9tP8ylrnQBwDBpOg4RQiJD9eINWbmaKOJmr3Il8TsnOX+CHEPqAqGgDC0uX3llVd0CQupVjaoCIb6CRDodu3aseMUIQnENWINUCwFM3C8pEmTJsnQoUPNGUJIdWDXGkf09vPPP6850DZ77LGHurdRhAQCDaFmrnNiKCmsIT2iyWYtKBZrQndzIwxl46Rd3nBZaW56yZei0hUyLFwGXEmh1Ah6AQXFlkR6KpJEINZu4u6778bkwapbt661ZMkSc5QQkkreeOMN69prr7VatWql/x7tbZdddrE6d+5seSbT1saNG62//vrL3IMkmtKi/IDPHmppzlhF+Y7jns13KgDHdfYFpUVWvuN++UWl3uM+HPfJL/LcAsVWgX2f0E9EUoDrxHrbtm3WKaecogNj7733trZu3WrOEEKSyZdffmmNHDkypED37NnTeuihh6z169ebq0nSKS4I+B4ChTJIsH3C6qe4wD6fb/k12SG8uhV4jvgJfR9ovH/iQL2uHlzXagZuNLjbkM6BKmeobob2f4SQxIP850ceeUTjRJo3by7//ve/Zc2aNdrHuWvXrlJUVCSffPKJ1kBAS1sGfrqFXGnW0uyGoqTQ4UZvKc187u7ucr1H5W3yi673HDE475PfT3o6XOS5jiebOHqcuKeTevbgyr5w6I97//33a+4lIk0h2ISQxIA86KlTp0rv3r01YhsibLeXRNok4kXeffddDSIbNmyYNGrUyNwz+0B3r7vvvls3NB4Ktd100016PrjBSHIpkw1rzS5o2cwj335K5jjWm/NbiLM2ZO6wFRoXhG2FY9E64D7B5LUQn8SvnCHzqdapR+1rl7JgwQJrn332sXbaaSfrySefNEcJIfFQUlJiDR8+3PJY0D6XJjaPYFtXXHGF9eGHH5oryTvvvGOdc845AZ9TNNvJJ59sLVy40DxKFQnrBo/kAo/sIq9I0H0ibHSFpx5XizXwWNg6OGrWrGlNmzbNHCWERMO3335r3XvvvVaXLl0CfmwPPPBAy2MRWkuXLrU8FrW5moCCgiCRjGPDY1SZYLEOtYVUzcrXpUMTdJ+oBJ6kEteL9fbt263BgwfrAELA2ZYtW8wZQkg4Xn/9dWvAgAHWQQcd5PsBxr+fHj16WNOnT+e/oxB8//331jHHHOMXrCpueCw8ZtxUFmAWFNUdKMjBYh0YLBaaeASepBLXi7VNmzZtdBC1bdvW+vrrr81RQojNDz/8oBHbwYLTunVr68Ybb7Q2bdpkriTBRBJqfH4zZswwV/vBMZwLdR9sVRLsSqPBPQQLts8aDuHSjui3rngfurrdRdqI9Zo1a3xWAoSbKV2EWNaff/5prVq1yrrooous/fbbz/dDW6tWLevCCy9UKxrXkMrBWrP92Tk3rFtHI7a4JtwaN47HRaxi7bSGK7jQw1jXxcW++1TI6w5jXRcXRGOpk0STNmIN3nvvPatBgwY6kGBhf/PNN+YMIdnFjh07NOjS9jjZ26GHHmqNHTtWJ7ckOu66666Az9DecDxWwj3WhAkTzBXRE74oiiFYkAPWmUMFjIXInc73CLLvWLArHFugYCMPmxZ39ZBWYg2CBZsucZJNfPrpp9aDDz6oY9/+Qd1tt920aMmiRYusn376yVxJouGTTz6x6tSp4/ss7Q2u7XgJ5RbHc8TqDvcXKDGbUyWjspxDia9jCxVEVsFaD9wqVjwjqSLtxBq8//77Ppc4frToEieZzmeffablPxEkZv9w7r///lpx7PPPPzdXkVgJFfmNdeaqEmr9OxZLvYJQV7JFEtCK7u1I1nFkq5ykHlc18ogFdOdCb9wtW7bIscceqy360JaPkExixYoVWrAE7WN//PFHPYZ+0N27d9e2smikQeIDBU8OPfRQ/evknXfeEY/YmlvxgYIy3bp1M7e8eKxr8VjX5hYhMaKSnaZgXa5hw4Y686NLnGQSL730kuX5sXdYNmJ16NDBmj17trmCVBWsIzs/X2xxB4OFIFTQWqiIckKiwZXlRqMF7TQffPBB2WuvvXQ2jH7Y33zzjTlLSHrx3XffSXFxsXh+5NVrtHDhQi2926lTJ7Wuly1bpiVCSWKA9RuMR6zNXtUpKCgwe35WrVpl9giJjbR1gztBHWO4Bbdu3UqXOEk7MMF89NFHtaHGF198occg0ujnfsUVV0hubrimw6Qq1K1bN8AFnmg3NR4bz+EE7nUYFoTESkaINcAaNgT7q6++krZt28rMmTOlcePG5iwh7gOW9IQJE9Q7hHEL0HUOIn311VdLkyZN9BhJPKGEFFb1jBkzzK3EgN+iYGs6Q35ySYpJaze4E7jEX3rpJQ24wcy1VatW8vTTT5uzhLgHiPQ999yjY/SWW25RoUZLSljRaE/5wAMPUKiTTCh3dNOmTc1e4sCSRjCp7c5FMoWMEWtw1FFH6Zpfu3bt5KeffpKBAwfKs88+a84SUv1gHfrEE0+UG2+8UV3eiLe46qqrdII5fvx4yctzNjMkySI4AhzADZ5oQj0mxZrEQ0aJNYC1snz5crnooovk77//lvPPP1+eeuopc5aQ6uHll1+WU089VU455RQpLS1Vd7dtSY8bN44inWKqU6wJiYeME2ubyZMny6BBg3R9aMCAAXLWWWdp031CUgmCHe3o7gULFmjg2OWXX65BkbCkk+F6JYRkHhkr1jVq1JApU6bI448/LrVr15ZZs2ZpMQmkvxCSTL799lt57rnntCgG0gkXLVoke+yxhwwbNkxFGgFlzZo1M1eT6qA6J0m0tkk8ZKxYAwg2rOvZs2dL/fr11eV4xhlnaIoMIYkGaT933nmnBjsishh5vLvttpu6u5GtUFRUxDQslxBKMEO5xqtKqtztJPPJaLG2QUoXhLpLly4aeHbZZZfJlVdeyQIqJCHAkkZ0N0R6xIgR8uWXX2rgGNzdGHdwd6OsJXEPoSzrVIg1hJpLHyQeskKswYEHHqhVoO677z69DVckonI/+ugjvU1IrLz11lvSv39/ad26tS+6GxkJjz32mKxevZrubhcD0Qyu/52MKO3gxwyVylWtlI2TdoUl5gZxM1kj1gDrhtdee63mXx9++OHyySefyAknnKACzuAzEg2///67xkL069dPjj/+eB1LEGlY1Tj+5ptvypAhQ+juTgOChTNU+dGqEvyYVW0QEi9l49rpsmCFLW+G9Lu+u7mKuBpUMMtGPD+wVufOnX0F9tHSjk0SSDjKysq08UOLFi18Y6ZmzZrWgAEDrGeffdbyTPbMlSRdWLhwoe+7tLd33nnHnK06eKxkPn5UsD91xpC1Ym0zd+5cq0GDBjpwPTNN6+KLL7Z++eUXc5ZkO8XFxdall15q7brrrr4fuCZNmlge61m7vpH0pmnTpr7vFduNN95ozlQdPJbzsT2WvDmTKoqtAsfzB28U6vQi68UafPvtt9agQYN8gzg3N9d66KGHzFmSbXz++efWvffea5144okBP255eXlWUVGR9eOPP5orSboT3CazTp061vfff2/Oxg8eA4/lfGxY8qmkuMA8d0GxOULSGYq1gzlz5gTMtE8//XTrtddeM2dJprNgwQLrwgsvtOrWresbA/Xq1dNxsHjxYmv79u3mSpJJJMO6vuuuuwIes7qsalrPmUPGdN1KFD///LNMnDhRU3DsoLPbbrtN070QUU4yC6RdTZo0SXPxEd1tg8BDFDUpLCyUhg0bmqMkE0EQGL5rJ6jVHm8wGJqEoNuWk6o8XlyUFEqN0S2kdMUwYahjhqCSTSqA9UgEneEjwuYRamvUqFHWN998Y64g6cqWLVusKVOmWOeee651wAEH+L7j3XbbTWMWnnvuOevvv/82V5NsIHh9Gdb2J598Ys5GD+4TbKnDyo6PUqso3/84ETeHuxsucJ9VXVxQ4dpIFndpUX6F+4TfCjx2fEVCPUa45/W57CtsQY8d9F78j1fZZ4XHqGT9Pr/Ic2/3Q7GuBPxgP/nkk1arVq18XyyC0UaPHm1t3brVXEXSgX/++ceaMWOGCvRee+0V8I+1efPm1vjx462PPvrIXE2ykXPOOSdgXMQq2KGEuqCgwJyNlWBxybecOldB3ALWpSFc3ut91zkEyX/f0CLrQyPJKxfL0I/heO0xPG+F9xQsonhufZ+Bn43/rYcQ7IDHCCHYabSeT7GOgj///NN64oknrNatW/u+ZIj2v//9b4q2i0E6Fdaab7755oAJF7acnBy1opcsWWL99ttv5h4k28HasnOcIEgsmsAwXBMcUFaVdepgqzTYIg0WtsDzEKUCq8jxGIFaDhG271uZYHsfJ+B8sFhXELtAwYzleStY4oF39k1AgkXXeVnljxHpc3M3FOsYQIDRU089FeAer1+/vnXDDTdYy5YtM1eR6uSrr75SF/eIESOsZs2aBfzDxI/p8OHDNZCMEd0kHMGCjQ0WcqgocVjTwRY5NhyrCsGiEqyJlZ8PtiADrfLg8+EFK3axDhTL2J63UqH1WdVefNcGWd+Vi3Xw51Lxc3UzFOs4sN3jRx99dMAX37t3b+uVV16xfv75Z3MlSQWbN2+2Zs6cafXr18/ae++9A74TrEN36dLFmjx5svXZZ5+Ze5BsJ5QgR9pCubQT9TjBxGohBpyuUAgl2IoNEq1gd7OPWMU62A0d2/OGfc/6foKFPzSVfW7Bnxm2oI/V1WRVudFEUbNmTbngggvk7bfflieeeEL69u0rO+20k8yZM0dLGKJW9NixY+X999/HZMjciySKP/74Q2tvo3kGorbxeaPL1YwZMzSa/5BDDpGLL75YlixZot2u0KJy8ODBcvDBB5tHIMTd5A57QjzC52diD2k3rszcSDAr10mp2a0apbJupdmNhkjP63nP3pKow0WKnpBhVQlrLymUHlIsHsFOWyjWVaBWrVpy4YUXyvPPP6+pGQMHDpQGDRpozfFrrrlGjj32WK0fPXr0aNmwYYO5F4mH8vJyeeGFFzSVCh2s8LmieQZqcX/99deSk5Mjw4cPl5dfflknSY8++qh07NhR8vLyzCMQkk7kyrAV8HwWi60vK4fn+Wp695hoDoYit5m0NLvRsVY2JGIeULbB80ixEOF5C4rFYynrrv+9F0rsbUdKpLCHSPGE9K6BTrFOEK1atZKpU6fKunXr1MI788wz5c8//1Tr+//+7/+0cUinTp203zHaJpLKQbeiZcuWqTifeuqp2lawd+/emgOPFpQ7duyQdu3ayQMPPCDz5s3TyRC8Gaeccorss88+5lEISXOCBTC/SEotK4KFmCctnFZ5RFpKs0QkY8c8SYj8vBU8DDJRerQbJ7HMLUq8Si1p367E6w0nyQC52sjN7tChg7XTTjsFrJV4rG6NRkbVtGyPRsb7x2f1+OOPWyNHjtTPJnjt2f7MLrroIssjztYHH3xg7k1I5hK8BmsHZVUeYBZ8PhPWrB3HPVu4teYKj4HNcXGkz83NUKxTxPr16y2PVa2R5DvvvHPAgEFEucci1Ajm5cuXa23qTAVpcB6rWaPn8X4vu+wyff+77LJLwGeCDQ0zzjrrLGvMmDEq5uxsRbKLIHFziF9E0QkQ1SDRDBI/X1S27z7OFKlYxDpYLKN8XkNYsfYQ/H4rTgS8VBTrwOso1iQmVq9erdHLffv2DaigZW+IYO7Tp48W8EBXMOQCQ+zTjU2bNulrRw7qwIEDrbPPPttq06ZNhfdrb/BAIHL7sccesxYtWmTt2LHDPBIhWUglwhgsOhXTryrJdw4p5IHX6+NBXIOt7ghi7bnAMcEIiuAOEOuKYluZWAc+bqjzXip/jGg+N/dCsa5mkBe8atUq67rrrlMrcvfddw9pZeI4hK5nz56ahgRBmzRpkqYj/frrr7qlCli49nNie/311/W14HVdcskl+jrbtm0b0pWNDZMRdLAaOnSoddNNN+n7p1ubECcVxcmvO9EJV8B1vvNOUQ4UU6eQQcQgfMEPG5WF6xRln9iHf16biI8dPFHwbMFiW/ljRPu5uRM28nAZiGxGatKsWbPk448/Fo9VqqlipaWhkxwQTLXrrrvKP//8I4cddpi0b98eEzBz1jMaPfu1a9eW8847T6+LlqVLl4rHmtcITBvs4/GKi4tly5Yt+rrA1q1b9W8wngmGRsfjefH8nkmItGjRQo477jjZY489dCOEBFI2rp3kDQ/KgUJgmTblKJHCGj0kZDB4QbFYISKeQz5eyGsDH9sjhLLCly9VyfNKgRRbFQO4SgpDRK2HeY0hr1Wcj10m49rlSfBb8T5mXuhzCh6jt8wJ9/p9n627oVi7HIgwWLFihXaIgpgj2hzC+eOPP2qHn+oGaVO5ubn6Wjt06KB5zxhWLVu21DQrvFan6BNCCIkNinUaA3FETrEthLCEUQDEtnidvPPOO/LRRx9FJZoYEkiLQrqUEzzfQQcdJH369DFHvNdCrOvUqWOOEEIISTQU6wwC+ceo2BVKkJcvX65Vv0IJeTAQZfT3bd68uTniBUMFooyqYYQQQlIHxZoQQghxOaxgRgghhLgcijUhhBDicijWhBBCiMuhWBNCCCEuh2JNCCGEuByKNSGEEOJyKNaEEEKIy6FYE0IIIS6HYk0IIYS4HIo1IYQQ4nIo1oQQQojLoVgTQgghLodiTQghhLgcijUhhBDicijWhBBCiMuhWBNCCCEuh2JNCCGEuByKNSGEEOJyKNaEEEKIy6FYE0IIIS6HYk0IIYS4HIo1IYQQ4mpE/h/kNCoJGSSMugAAAABJRU5ErkJggg==\">"
   ]
  },
  {
   "cell_type": "markdown",
   "metadata": {},
   "source": [
    "Запишем вероятности событий:\n",
    "    \n",
    "- P(Т) = 60%\n",
    "- P(И) = 40%\n",
    "- P(Ч|Т) = 10%\n",
    "- P(Ч|И) = 15%\n",
    "\n",
    "\n",
    "\n",
    "\n",
    "- P(Ч∩Т) = P(Ч|Т) P(Т) = 0.6 \\* 0.1 = 0.06\n",
    "- P(Ч∩И) = P(Ч|И) P(И) = 0.4 \\* 0.15 = 0.06\n",
    "\n",
    "P(Ч) = P(Ч∩Т) + P(Ч∩И) = 0.06 + 0.06 = 0.12"
   ]
  },
  {
   "cell_type": "code",
   "execution_count": null,
   "metadata": {
    "collapsed": true
   },
   "outputs": [],
   "source": []
  },
  {
   "cell_type": "markdown",
   "metadata": {},
   "source": [
    "$$P(A \\mid B) = \\frac{P(A\\cap B)}{P(B)}$$\n",
    "\n",
    "Это даёт возможность формализировать определение независимых событий.\n",
    "\n",
    "2 случайных события называются независимыми, если наступление одного из них не изменяет вероятность наступления другого. \n",
    "\n",
    "Т.е.\n",
    "\n",
    "- $$P(A \\mid B) = P(A)$$\n",
    "\n",
    "- $$P(B \\mid A) = P(B)$$"
   ]
  },
  {
   "cell_type": "markdown",
   "metadata": {},
   "source": [
    "Отсюда легко получить классическую формулу:\n",
    "    \n",
    "$$P(A\\cap B) = P(B)\\cdot P(A)$$"
   ]
  },
  {
   "cell_type": "markdown",
   "metadata": {},
   "source": [
    "Тогка 2 независимых события удобно геометрически изобразить в виде прямоугольных областей:\n",
    "    \n",
    "<img src=\"\n",
    "data:image/png;base64,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\">"
   ]
  },
  {
   "cell_type": "markdown",
   "metadata": {},
   "source": [
    "### Примечание\n",
    "\n",
    "Это позволяет по новому взглянуть на задачу про яблоки:\n",
    "    \n",
    "<img src=\"data:image/png;base64,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\">\n",
    "\n",
    "**То из какой яблоко страны и то червивое ли оно не независимые события!**"
   ]
  },
  {
   "cell_type": "markdown",
   "metadata": {},
   "source": [
    "Эта парадигма идеально подходит для задачи про группы крови!\n",
    "\n",
    "### Задача 5\n",
    "В следующей таблице представлены данные о совместимости групп крови при переливании плазмы:\n",
    "<table style=\"font-size: 200%;\">\n",
    "   <tbody>\n",
    "      <tr>\n",
    "         <td></td>\n",
    "         <td>O(I)</td>\n",
    "         <td>A(II)</td>\n",
    "         <td>B(III)</td>\n",
    "         <td>AB(IV)</td>\n",
    "      </tr>\n",
    "      <tr>\n",
    "         <td>O(I)</td>\n",
    "         <td style=\"background-color: green;\">+</td>\n",
    "         <td style=\"background-color: green;\">+</td>\n",
    "         <td style=\"background-color: green;\">+</td>\n",
    "         <td style=\"background-color: green;\">+</td>\n",
    "      </tr>\n",
    "      <tr>\n",
    "         <td>A(II)</td>\n",
    "         <td>-</td>\n",
    "         <td style=\"background-color: green;\">+</td>\n",
    "         <td>-</td>\n",
    "         <td style=\"background-color: green;\">+</td>\n",
    "      </tr>\n",
    "      <tr>\n",
    "         <td>B(III)</td>\n",
    "         <td>-</td>\n",
    "         <td>-</td>\n",
    "         <td style=\"background-color: green;\">+</td>\n",
    "         <td style=\"background-color: green;\">+</td>\n",
    "      </tr>\n",
    "      <tr>\n",
    "         <td>AB(IV)</td>\n",
    "         <td>-</td>\n",
    "         <td>-</td>\n",
    "         <td>-</td>\n",
    "         <td style=\"background-color: green;\">+</td>\n",
    "      </tr>\n",
    "   </tbody>\n",
    "</table>\n",
    "\n",
    "Какова вероятность того, что плазму одного случайно выбранного австралийца можно перелить другому случайно выбранному австралийцу?\n",
    "\n"
   ]
  },
  {
   "cell_type": "markdown",
   "metadata": {},
   "source": [
    "<table style=\"font-size: 200%;\">\n",
    "   <tbody>\n",
    "      <tr>\n",
    "         <td></td>\n",
    "         <td>0.49</td>\n",
    "         <td>0.38</td>\n",
    "         <td>0.1</td>\n",
    "         <td>0.03</td>\n",
    "      </tr>\n",
    "      <tr>\n",
    "         <td>0.49</td>\n",
    "         <td style=\"background-color: green;\">0.49\\*0.49</td>\n",
    "         <td style=\"background-color: green;\">0.49\\*0.38</td>\n",
    "         <td style=\"background-color: green;\">0.49\\*0.1</td>\n",
    "         <td style=\"background-color: green;\">0.49\\*0.03</td>\n",
    "      </tr>\n",
    "      <tr>\n",
    "         <td>0.38</td>\n",
    "         <td>-</td>\n",
    "         <td style=\"background-color: green;\">0.38\\*0.38</td>\n",
    "         <td>-</td>\n",
    "         <td style=\"background-color: green;\">0.38\\*0.03</td>\n",
    "      </tr>\n",
    "      <tr>\n",
    "         <td>0.1</td>\n",
    "         <td>-</td>\n",
    "         <td>-</td>\n",
    "         <td style=\"background-color: green;\">0.1\\*0.1</td>\n",
    "         <td style=\"background-color: green;\">0.1\\*0.03</td>\n",
    "      </tr>\n",
    "      <tr>\n",
    "         <td>0.03</td>\n",
    "         <td>-</td>\n",
    "         <td>-</td>\n",
    "         <td>-</td>\n",
    "         <td style=\"background-color: green;\">0.03\\*0.03</td>\n",
    "      </tr>\n",
    "   </tbody>\n",
    "</table>"
   ]
  },
  {
   "cell_type": "code",
   "execution_count": 1,
   "metadata": {},
   "outputs": [
    {
     "data": {
      "text/plain": [
       "0.6597"
      ]
     },
     "execution_count": 1,
     "metadata": {},
     "output_type": "execute_result"
    }
   ],
   "source": [
    "0.49*0.49+0.49*0.38+0.49*0.1+0.49*0.03+0.38*0.38+0.38*0.03+0.1*0.1+0.1*0.03+0.03*0.03"
   ]
  },
  {
   "cell_type": "code",
   "execution_count": null,
   "metadata": {
    "collapsed": true
   },
   "outputs": [],
   "source": []
  },
  {
   "cell_type": "markdown",
   "metadata": {
    "collapsed": true
   },
   "source": [
    "### Задача 6\n",
    "\n",
    "В трамвайном парке имеются 15 трамваев маршрута №1 и 10 трамваев маршрута №2. Какова вероятность того, что вторым по счету на линию выйдет трамвай маршрута №1?"
   ]
  },
  {
   "cell_type": "markdown",
   "metadata": {
    "collapsed": true
   },
   "source": [
    "$P = P(1∩1) + P(1∩2)$\n",
    "\n",
    "- $P(1∩2) = P(2) P(1|2)$\n",
    "\n",
    "- $P(1∩1) = P(1) P(1|1)$\n",
    "\n",
    "Посчитаем все вероятности по отдельности:\n",
    "\n",
    "- всего исходов для выбора 1 трамвая 10+15\n",
    "- благоприятных исходов для выбора 1 траймая маршрута №1 15 => $P(1)=\\frac{15}{10+15}$\n",
    "- благоприятных исходов для выбора 1 траймая маршрута №2 10 => $P(2)=\\frac{10}{10+15}$\n",
    "\n",
    "\n",
    "- всего исходов для выбора 2 трамвая 10+15-1 (т.к. 1 трамвай уже ушёл)\n",
    "- благоприятных исходов для выбора 2 траймая маршрута №1, если 1 трамвай был №1 15-1 => $P(1|1)=\\frac{15-1}{10+15-1}$\n",
    "- благоприятных исходов для выбора 2 траймая маршрута №1, если 1 трамвай был №2 15 => $P(1|1)=\\frac{15}{10+15-1}$\n",
    "\n",
    "\n",
    "$P = P(1∩1) + P(1∩2) = P(1) P(1|1) + P(2) P(1|2) = \\frac{15}{10+15} \\frac{15-1}{10+15-1} + \\frac{10}{10+15} \\frac{15}{10+15-1}$"
   ]
  },
  {
   "cell_type": "code",
   "execution_count": 2,
   "metadata": {},
   "outputs": [
    {
     "data": {
      "text/plain": [
       "0.6000000000000001"
      ]
     },
     "execution_count": 2,
     "metadata": {},
     "output_type": "execute_result"
    }
   ],
   "source": [
    "15./(10.+15.) * (15.-1.)/(10.+15.-1.) + 10./(10.+15.) * (15.)/(10.+15.-1.)"
   ]
  },
  {
   "cell_type": "code",
   "execution_count": null,
   "metadata": {
    "collapsed": true
   },
   "outputs": [],
   "source": []
  },
  {
   "cell_type": "code",
   "execution_count": null,
   "metadata": {
    "collapsed": true
   },
   "outputs": [],
   "source": []
  },
  {
   "cell_type": "code",
   "execution_count": null,
   "metadata": {
    "collapsed": true
   },
   "outputs": [],
   "source": []
  },
  {
   "cell_type": "code",
   "execution_count": null,
   "metadata": {
    "collapsed": true
   },
   "outputs": [],
   "source": []
  },
  {
   "cell_type": "code",
   "execution_count": null,
   "metadata": {
    "collapsed": true
   },
   "outputs": [],
   "source": []
  },
  {
   "cell_type": "code",
   "execution_count": null,
   "metadata": {
    "collapsed": true
   },
   "outputs": [],
   "source": []
  },
  {
   "cell_type": "code",
   "execution_count": null,
   "metadata": {
    "collapsed": true
   },
   "outputs": [],
   "source": []
  },
  {
   "cell_type": "code",
   "execution_count": null,
   "metadata": {
    "collapsed": true
   },
   "outputs": [],
   "source": []
  },
  {
   "cell_type": "markdown",
   "metadata": {
    "collapsed": true
   },
   "source": [
    "### Задача 0 (Парадокс шевалье де Мере)\n",
    "\n",
    "Что вероятнее: при бросании четырех игральных костей хотя бы на одной получить единицу или при 24 бросаниях двух костей хотя бы один раз получить две единицы?\n",
    "\n",
    "**Те, кто выбрали 1 событие (получить хотя бы 1 единицу в 4 бросках) выиграли**\n",
    "\n",
    "Нам потребуется <a href=\"https://ru.wikipedia.org/wiki/%D0%A1%D1%85%D0%B5%D0%BC%D0%B0_%D0%91%D0%B5%D1%80%D0%BD%D1%83%D0%BB%D0%BB%D0%B8\">формула Бернулли</a>:\n",
    "\n",
    "$$C_{n}^{k}p^{k}(1-p)^{n-k}$$\n",
    "\n",
    "k успехов в n испытаниях"
   ]
  },
  {
   "cell_type": "markdown",
   "metadata": {},
   "source": [
    "Событие получить 1 или более единиц на 6 бросках - это обратное событию не получить ни одной единицы. А Это событие 4 неудачи из 4 испытаний с вероятностью 1/6:\n",
    "\n",
    "- $n = 4$\n",
    "- $k = 0$\n",
    "- $p = \\frac{1}{6}$\n",
    "- $P_{\\geqslant 1} = \\overline{P_{0}} = 1 - P_{0} =  1 - C_{4}^{0}(\\frac{1}{6})^{0}(1-\\frac{1}{6})^{4-0} =1 - (\\frac{5}{6})^{4}$\n",
    "\n",
    "\n",
    "Вероятность события получить 2 единицы при бросании 2 костей (по правилу умножения вероятностей) $(\\frac{1}{6})^{2}$\n",
    "\n",
    "Событие получить 1 и более раз по 2 единицы (при бросании 2 костей за раз) в течение 24 испытаний - это обратное событие не получить ни разу 2 единицы.\n",
    "\n",
    "- n = 24\n",
    "- k = 0\n",
    "- $p = (\\frac{1}{6})^{2}$\n",
    "- $P_{\\geqslant 1} = \\overline{P_{0}} = 1 - P_{0} = 1 - C_{24}^{0}((\\frac{1}{6})^{2})^{0}(1 - (\\frac{1}{6})^{2})^{24-0} = 1 - (1 - \\frac{1}{36})^{24} = 1 - (\\frac{35}{36})^{24}$\n",
    "\n",
    "\n",
    "Остаётся сравнить величины $1 - (\\frac{5}{6})^{4}$ и $1 - (\\frac{35}{36})^{24}$\n",
    "\n",
    "$P_{4 броска} - P_{24 броска по 2} = (1 - (\\frac{5}{6})^{4}) - (1 - (\\frac{35}{36})^{24}) = (\\frac{35}{36})^{24} - (\\frac{5}{6})^{4} = (\\frac{35}{36})^{24} - (\\frac{25}{36})^{2} = \\frac{35^{24}-36^{22}25^{2}}{36^{24}}$\n",
    "\n",
    "Т.к. нас интересует только знак этой разности, то мы можем отбросить знаменатель дроби $36^{24}$, а числитель разложить как разность квадратов:\n",
    "\n",
    "$P_{4 броска} - P_{24 броска по 2} \\sim 35^{24}-36^{22}25^{2} = (35^{12}-36^{11}25)\\cdot(35^{12}+36^{11}25) \\sim 35^{12}-25\\cdot36^{11} = 35^{12}-5^{2}\\cdot6^{22} = (35^{6}-5\\cdot 6^{11}) \\cdot (35^{6}+5\\cdot 6^{11}) = (5^{6} \\cdot 7^{6} -5\\cdot 6^{11}) \\cdot (35^{6}+5\\cdot 6^{11}) = 5 \\cdot (5^{5} \\cdot 7^{6} - 6^{11}) \\cdot (35^{6}+5\\cdot 6^{11}) \\sim 5^{5} \\cdot 7^{6} - 6^{11}$ \n",
    "\n",
    "Получившиеся 2 числа мне не удалось как-то разложить и уменшить дальше. Однако они уже по крайней мере вмещаются в окошко калькулятора и могут быть точно вычислены, а значит и сравнены:"
   ]
  },
  {
   "cell_type": "code",
   "execution_count": 4,
   "metadata": {},
   "outputs": [
    {
     "data": {
      "text/plain": [
       "367653125"
      ]
     },
     "execution_count": 4,
     "metadata": {},
     "output_type": "execute_result"
    }
   ],
   "source": [
    "5**5 * 7**6"
   ]
  },
  {
   "cell_type": "code",
   "execution_count": 5,
   "metadata": {},
   "outputs": [
    {
     "data": {
      "text/plain": [
       "362797056"
      ]
     },
     "execution_count": 5,
     "metadata": {},
     "output_type": "execute_result"
    }
   ],
   "source": [
    "6**11"
   ]
  },
  {
   "cell_type": "code",
   "execution_count": 6,
   "metadata": {},
   "outputs": [
    {
     "data": {
      "text/plain": [
       "True"
      ]
     },
     "execution_count": 6,
     "metadata": {},
     "output_type": "execute_result"
    }
   ],
   "source": [
    "5**5 * 7**6 > 6**11"
   ]
  },
  {
   "cell_type": "markdown",
   "metadata": {},
   "source": [
    "Разность вероятностей $P_{4 броска} - P_{24 броска по 2} > 0$, а значит вероятность выбросить хотя бы одну 1 при 4 бросках больше."
   ]
  },
  {
   "cell_type": "code",
   "execution_count": null,
   "metadata": {
    "collapsed": true
   },
   "outputs": [],
   "source": []
  },
  {
   "cell_type": "code",
   "execution_count": null,
   "metadata": {
    "collapsed": true
   },
   "outputs": [],
   "source": []
  },
  {
   "cell_type": "code",
   "execution_count": null,
   "metadata": {
    "collapsed": true
   },
   "outputs": [],
   "source": []
  },
  {
   "cell_type": "code",
   "execution_count": null,
   "metadata": {
    "collapsed": true
   },
   "outputs": [],
   "source": []
  },
  {
   "cell_type": "markdown",
   "metadata": {},
   "source": [
    "### P.S. Почему эффективный тест в задаче про рак груди показывает такие странные результаты?"
   ]
  },
  {
   "cell_type": "markdown",
   "metadata": {},
   "source": [
    "<img style=\"width: 70%;\"  src=\"data:image/png;base64,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\">"
   ]
  },
  {
   "cell_type": "markdown",
   "metadata": {},
   "source": [
    "- \\+ \\> тест человек болен\n",
    "- \\- \\> человек не болен\n",
    "- \"+\" \\> тест показал, что человек болен\n",
    "- \"-\" \\> тест показал, что человек не болен\n",
    "\n",
    "\n",
    "\n",
    "- жёлтая зона > \"+\"|+ > тест показал, что человек болен для больного\n",
    "- оранжевая зона > \"+\"|- > тест показал, что человек болен для здорового\n",
    "\n",
    "В задаче нас интересует +|\"+\", т.е. отношение жёлтой зоны к сумме жёлтой и оранжевой, т.е. довольно низкая"
   ]
  },
  {
   "cell_type": "code",
   "execution_count": null,
   "metadata": {
    "collapsed": true
   },
   "outputs": [],
   "source": []
  }
 ],
 "metadata": {
  "kernelspec": {
   "display_name": "Python 2",
   "language": "python",
   "name": "python2"
  },
  "language_info": {
   "codemirror_mode": {
    "name": "ipython",
    "version": 2
   },
   "file_extension": ".py",
   "mimetype": "text/x-python",
   "name": "python",
   "nbconvert_exporter": "python",
   "pygments_lexer": "ipython2",
   "version": "2.7.13"
  }
 },
 "nbformat": 4,
 "nbformat_minor": 2
}
