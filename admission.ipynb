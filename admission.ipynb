{
 "cells": [
  {
   "cell_type": "code",
   "execution_count": 20,
   "metadata": {},
   "outputs": [],
   "source": [
    "def func():\n",
    "    for i in range(1001):\n",
    "        s = list(str(i))\n",
    "        su = sum([int(x) for x in s])\n",
    "        if su % 3 == 0 and s[-1] not in ['0', '5'] and su < 10:\n",
    "            print(i)\n",
    "    return"
   ]
  },
  {
   "cell_type": "code",
   "execution_count": 21,
   "metadata": {},
   "outputs": [
    {
     "name": "stdout",
     "output_type": "stream",
     "text": [
      "3\n",
      "6\n",
      "9\n",
      "12\n",
      "18\n",
      "21\n",
      "24\n",
      "27\n",
      "33\n",
      "36\n",
      "42\n",
      "51\n",
      "54\n",
      "63\n",
      "72\n",
      "81\n",
      "102\n",
      "108\n",
      "111\n",
      "114\n",
      "117\n",
      "123\n",
      "126\n",
      "132\n",
      "141\n",
      "144\n",
      "153\n",
      "162\n",
      "171\n",
      "201\n",
      "204\n",
      "207\n",
      "213\n",
      "216\n",
      "222\n",
      "231\n",
      "234\n",
      "243\n",
      "252\n",
      "261\n",
      "303\n",
      "306\n",
      "312\n",
      "321\n",
      "324\n",
      "333\n",
      "342\n",
      "351\n",
      "402\n",
      "411\n",
      "414\n",
      "423\n",
      "432\n",
      "441\n",
      "501\n",
      "504\n",
      "513\n",
      "522\n",
      "531\n",
      "603\n",
      "612\n",
      "621\n",
      "702\n",
      "711\n",
      "801\n"
     ]
    }
   ],
   "source": [
    "func()"
   ]
  }
 ],
 "metadata": {
  "kernelspec": {
   "display_name": "Python 3",
   "language": "python",
   "name": "python3"
  },
  "language_info": {
   "codemirror_mode": {
    "name": "ipython",
    "version": 3
   },
   "file_extension": ".py",
   "mimetype": "text/x-python",
   "name": "python",
   "nbconvert_exporter": "python",
   "pygments_lexer": "ipython3",
   "version": "3.7.7"
  }
 },
 "nbformat": 4,
 "nbformat_minor": 4
}
