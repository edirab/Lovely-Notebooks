{
 "cells": [
  {
   "cell_type": "markdown",
   "metadata": {},
   "source": [
    "### Начало работы с Докер\n",
    "\n",
    "- Регистрируемся и скачиваем `Docker Desktop` с официального сайта\n",
    "- Потребуется включить гипервизор на Windows. В командной строке от Администратора:\n",
    "\n",
    "\t    DISM /Online /Enable-Feature /All /FeatureName:Microsoft-Hyper-V\n",
    "\n",
    "- Перезагрузить ПК\n",
    "- Запускаем Docker-deamon (если не выбрали автозагрузку)\n"
   ]
  },
  {
   "cell_type": "markdown",
   "metadata": {},
   "source": [
    "\n",
    "- Создание нового контейнера и одновременный запуск: \n",
    "\n",
    "    `docker run -it <image_name> -c \"/bin/bash\"`\n",
    "    \n",
    "    \n",
    "- Просмотреть имеющиеся образы: `docker images`\n",
    "\n",
    "- Посмотреть запущенные контейнеры: в новом терминале выполнить `docker ps`\n",
    "- Посмотреть все имеющиеся контейнеры: `docker ps -a`\n",
    "- Останавливаем контейнер: `docker stop 7bf968cba455`\n",
    "- `Ctrl+D` - Заверщить интерактивый сеанс с контейнером\n",
    "\n",
    "\n",
    "### Повторный запуск уже созданного контейнера\n",
    "\n",
    "- `docker ps -a` Посмотреть все окнтейнеры\n",
    "- `docker start <long-hash>` Запустить имеющийся контейнер\n",
    "- `docker attach <long-hash>` Подключиться в режиме терминала\n",
    "- или `docker exec -it <long-hash> /bin/bash`\n",
    "\n"
   ]
  }
 ],
 "metadata": {
  "kernelspec": {
   "display_name": "Python 3",
   "language": "python",
   "name": "python3"
  },
  "language_info": {
   "codemirror_mode": {
    "name": "ipython",
    "version": 3
   },
   "file_extension": ".py",
   "mimetype": "text/x-python",
   "name": "python",
   "nbconvert_exporter": "python",
   "pygments_lexer": "ipython3",
   "version": "3.8.5"
  }
 },
 "nbformat": 4,
 "nbformat_minor": 4
}
