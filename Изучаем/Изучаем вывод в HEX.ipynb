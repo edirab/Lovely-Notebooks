{
 "cells": [
  {
   "cell_type": "markdown",
   "metadata": {},
   "source": [
    "### Требуется сгенерировать таблицу значений синусоиды в шестнадцатеричном виде"
   ]
  },
  {
   "cell_type": "code",
   "execution_count": 20,
   "metadata": {},
   "outputs": [
    {
     "name": "stdout",
     "output_type": "stream",
     "text": [
      "3.141592653589793\n",
      "[0.         0.12822827 0.25645654 0.38468481 0.51291309 0.64114136\n",
      " 0.76936963 0.8975979  1.02582617 1.15405444 1.28228272 1.41051099\n",
      " 1.53873926 1.66696753 1.7951958  1.92342407 2.05165235 2.17988062\n",
      " 2.30810889 2.43633716 2.56456543 2.6927937  2.82102197 2.94925025\n",
      " 3.07747852 3.20570679 3.33393506 3.46216333 3.5903916  3.71861988\n",
      " 3.84684815 3.97507642 4.10330469 4.23153296 4.35976123 4.48798951\n",
      " 4.61621778 4.74444605 4.87267432 5.00090259 5.12913086 5.25735913\n",
      " 5.38558741 5.51381568 5.64204395 5.77027222 5.89850049 6.02672876\n",
      " 6.15495704 6.28318531]\n"
     ]
    }
   ],
   "source": [
    "import numpy as np\n",
    "\n",
    "print(np.pi)\n",
    "\n",
    "t = np.linspace(0, 2* np.pi)\n",
    "print(t)"
   ]
  },
  {
   "cell_type": "code",
   "execution_count": 32,
   "metadata": {},
   "outputs": [
    {
     "name": "stdout",
     "output_type": "stream",
     "text": [
      "[1.28000000e+02 1.44368277e+02 1.60467787e+02 1.76034177e+02\n",
      " 1.90811847e+02 2.04558148e+02 2.17047366e+02 2.28074430e+02\n",
      " 2.37458274e+02 2.45044816e+02 2.50709485e+02 2.54359268e+02\n",
      " 2.55934236e+02 2.55408526e+02 2.52790773e+02 2.48123958e+02\n",
      " 2.41484711e+02 2.32982049e+02 2.22755584e+02 2.10973235e+02\n",
      " 1.97828467e+02 1.83537119e+02 1.68333852e+02 1.52468304e+02\n",
      " 1.36200988e+02 1.19799012e+02 1.03531696e+02 8.76661481e+01\n",
      " 7.24628814e+01 5.81715326e+01 4.50267654e+01 3.32444164e+01\n",
      " 2.30179514e+01 1.45152888e+01 7.87604198e+00 3.20922724e+00\n",
      " 5.91473543e-01 6.57643263e-02 1.64073172e+00 5.29051481e+00\n",
      " 1.09551843e+01 1.85417263e+01 2.79255702e+01 3.89526335e+01\n",
      " 5.14418521e+01 6.51881533e+01 7.99658234e+01 9.55322133e+01\n",
      " 1.11631723e+02 1.28000000e+02]\n"
     ]
    }
   ],
   "source": [
    "f = 128 * (1 +np.sin(t))\n",
    "print(f)"
   ]
  },
  {
   "cell_type": "code",
   "execution_count": 22,
   "metadata": {},
   "outputs": [
    {
     "data": {
      "text/plain": [
       "array([128, 144, 160, 176, 190, 204, 217, 228, 237, 245, 250, 254, 255,\n",
       "       255, 252, 248, 241, 232, 222, 210, 197, 183, 168, 152, 136, 119,\n",
       "       103,  87,  72,  58,  45,  33,  23,  14,   7,   3,   0,   0,   1,\n",
       "         5,  10,  18,  27,  38,  51,  65,  79,  95, 111, 127], dtype=uint8)"
      ]
     },
     "execution_count": 22,
     "metadata": {},
     "output_type": "execute_result"
    }
   ],
   "source": [
    "f = f.astype(np.uint8)\n",
    "f"
   ]
  },
  {
   "cell_type": "code",
   "execution_count": 23,
   "metadata": {},
   "outputs": [
    {
     "name": "stdout",
     "output_type": "stream",
     "text": [
      "0A\n"
     ]
    }
   ],
   "source": [
    "print(\"{:02X}\".format(10))"
   ]
  },
  {
   "cell_type": "code",
   "execution_count": 24,
   "metadata": {},
   "outputs": [
    {
     "name": "stdout",
     "output_type": "stream",
     "text": [
      "80 90 A0 B0 BE CC D9 E4 ED F5 FA FE FF FF FC F8 F1 E8 DE D2 C5 B7 A8 98 88 77 67 57 48 3A 2D 21 17 0E 07 03 00 00 01 05 0A 12 1B 26 33 41 4F 5F 6F 7F "
     ]
    }
   ],
   "source": [
    "for e in f:\n",
    "    print(\"{:02X}\".format(e), end=\" \", sep = \" \")"
   ]
  },
  {
   "cell_type": "code",
   "execution_count": 31,
   "metadata": {},
   "outputs": [
    {
     "name": "stdout",
     "output_type": "stream",
     "text": [
      "0A\n"
     ]
    },
    {
     "data": {
      "text/plain": [
       "'80 90 A0 B0 BE CC D9 E4 ED F5 FA FE FF FF FC F8 F1 E8 DE D2 C5 B7 A8 98 88 77 67 57 48 3A 2D 21 17 0E 07 03 00 00 01 05 0A 12 1B 26 33 41 4F 5F 6F 7F'"
      ]
     },
     "execution_count": 31,
     "metadata": {},
     "output_type": "execute_result"
    }
   ],
   "source": [
    "def to_hex(elem):\n",
    "    return \"{:02X}\".format(elem)\n",
    " \n",
    "print(to_hex(10))\n",
    "\n",
    "data = \" \".join(map(to_hex, f))\n",
    "data"
   ]
  }
 ],
 "metadata": {
  "kernelspec": {
   "display_name": "Python 3",
   "language": "python",
   "name": "python3"
  },
  "language_info": {
   "codemirror_mode": {
    "name": "ipython",
    "version": 3
   },
   "file_extension": ".py",
   "mimetype": "text/x-python",
   "name": "python",
   "nbconvert_exporter": "python",
   "pygments_lexer": "ipython3",
   "version": "3.7.9"
  }
 },
 "nbformat": 4,
 "nbformat_minor": 4
}
