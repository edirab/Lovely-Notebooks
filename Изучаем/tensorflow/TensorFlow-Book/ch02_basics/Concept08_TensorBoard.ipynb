{
 "cells": [
  {
   "cell_type": "markdown",
   "metadata": {},
   "source": [
    "# Ch `02`: Concept `08`"
   ]
  },
  {
   "cell_type": "markdown",
   "metadata": {},
   "source": [
    "## Using TensorBoard"
   ]
  },
  {
   "cell_type": "markdown",
   "metadata": {},
   "source": [
    "TensorBoard is a great way to visualize what's happening behind the code. \n",
    "\n",
    "In this example, we'll loop through some numbers to improve our guess of the average value. Then we can visualize the results on TensorBoard. \n",
    "\n",
    "Let's just set ourselves up with some data to work with:"
   ]
  },
  {
   "cell_type": "code",
   "execution_count": 1,
   "metadata": {},
   "outputs": [
    {
     "name": "stdout",
     "output_type": "stream",
     "text": [
      "WARNING:tensorflow:From E:\\Anaconda3\\envs\\tf-2-gpu\\lib\\site-packages\\tensorflow_core\\python\\compat\\v2_compat.py:88: disable_resource_variables (from tensorflow.python.ops.variable_scope) is deprecated and will be removed in a future version.\n",
      "Instructions for updating:\n",
      "non-resource variables are not supported in the long term\n"
     ]
    }
   ],
   "source": [
    "import tensorflow.compat.v1 as tf\n",
    "tf.disable_v2_behavior()\n",
    "import numpy as np\n",
    "\n",
    "raw_data = np.random.normal(10, 1, 100)"
   ]
  },
  {
   "cell_type": "markdown",
   "metadata": {},
   "source": [
    "The moving average is defined as follows:"
   ]
  },
  {
   "cell_type": "code",
   "execution_count": 2,
   "metadata": {},
   "outputs": [],
   "source": [
    "alpha = tf.constant(0.05)\n",
    "curr_value = tf.placeholder(tf.float32)\n",
    "prev_avg = tf.Variable(0.)\n",
    "\n",
    "update_avg = alpha * curr_value + (1 - alpha) * prev_avg"
   ]
  },
  {
   "cell_type": "markdown",
   "metadata": {},
   "source": [
    "Here's what we care to visualize:"
   ]
  },
  {
   "cell_type": "code",
   "execution_count": 3,
   "metadata": {},
   "outputs": [],
   "source": [
    "avg_hist = tf.summary.scalar(\"running_average\", update_avg)\n",
    "value_hist = tf.summary.scalar(\"incoming_values\", curr_value)\n",
    "\n",
    "merged = tf.summary.merge_all()\n",
    "writer = tf.summary.FileWriter(\"./logs\")"
   ]
  },
  {
   "cell_type": "markdown",
   "metadata": {},
   "source": [
    "Time to compute the moving averages. We'll also run the `merged` op to track how the values change:"
   ]
  },
  {
   "cell_type": "code",
   "execution_count": 4,
   "metadata": {},
   "outputs": [
    {
     "name": "stdout",
     "output_type": "stream",
     "text": [
      "9.353868518041374 0.46769342\n",
      "9.154254661837268 0.90202147\n",
      "11.0770951621286 1.4107752\n",
      "11.624468984857806 1.9214599\n",
      "8.61709597139961 2.2562418\n",
      "11.09842879219681 2.6983511\n",
      "10.900097455865566 3.1084385\n",
      "9.785057964097547 3.4422693\n",
      "9.895798840157497 3.7649457\n",
      "9.61201422854318 4.057299\n",
      "9.194844530926115 4.314176\n",
      "11.242882025334643 4.6606116\n",
      "8.353064518702539 4.845234\n",
      "11.07904233271007 5.1569242\n",
      "10.122407699023832 5.405198\n",
      "9.771751945426894 5.6235256\n",
      "8.144167630667452 5.7495575\n",
      "12.548423168386947 6.0895004\n",
      "10.067553004915734 6.2884026\n",
      "10.352081897108668 6.4915867\n",
      "10.325463374475818 6.6832805\n",
      "9.935243586399562 6.8458786\n",
      "9.922982083275414 6.9997334\n",
      "8.779181342866385 7.088706\n",
      "9.557395554274636 7.2121406\n",
      "10.26481764198489 7.364774\n",
      "9.21208316578867 7.4571395\n",
      "11.912206984514896 7.6798925\n",
      "9.878564917564791 7.7898264\n",
      "10.534320486163912 7.927051\n",
      "11.026333718383379 8.082015\n",
      "9.959057272847335 8.175867\n",
      "9.577151328349194 8.245932\n",
      "10.981270178730341 8.382698\n",
      "9.092167768727428 8.418171\n",
      "9.646443090031102 8.479585\n",
      "11.049325558949871 8.608071\n",
      "10.138050953828142 8.68457\n",
      "11.585235868937373 8.829603\n",
      "8.164247446670764 8.796335\n",
      "8.37401198368435 8.775219\n",
      "8.851030091934563 8.77901\n",
      "8.340301481637054 8.757074\n",
      "10.26574092146143 8.832508\n",
      "10.217787365373894 8.901772\n",
      "10.21356641181813 8.967361\n",
      "9.651307832167216 9.001558\n",
      "9.154415394503934 9.009201\n",
      "11.231160587228658 9.120298\n",
      "11.120815762402486 9.2203245\n",
      "9.89277467745181 9.253946\n",
      "11.465970250975982 9.364548\n",
      "8.255307076234086 9.309086\n",
      "11.407774293925401 9.414021\n",
      "9.06602670682043 9.396621\n",
      "9.92751546062098 9.423165\n",
      "9.5052642028936 9.427271\n",
      "8.261670313604132 9.36899\n",
      "10.091244821019876 9.405103\n",
      "9.103444476377963 9.39002\n",
      "10.963118979856418 9.468675\n",
      "10.879561054597056 9.539219\n",
      "9.39979779858975 9.532248\n",
      "9.861688079329006 9.548719\n",
      "10.453444387753999 9.593956\n",
      "9.444650493805385 9.586491\n",
      "10.878551336357818 9.6510935\n",
      "10.69712303901676 9.703395\n",
      "12.724393750239074 9.854445\n",
      "11.569722626219791 9.940209\n",
      "10.124184272510359 9.949409\n",
      "9.433090601417762 9.923593\n",
      "10.32353916919453 9.94359\n",
      "10.28708351314676 9.960764\n",
      "9.753044593104926 9.950377\n",
      "11.625579613417063 10.034138\n",
      "11.278433675175725 10.096353\n",
      "10.748004304120236 10.128935\n",
      "9.917384569230087 10.118358\n",
      "10.961891016705065 10.160535\n",
      "10.063232730550114 10.155669\n",
      "9.419830573292904 10.118876\n",
      "13.487232845054107 10.287293\n",
      "11.25699218766835 10.335778\n",
      "10.176370290180682 10.327807\n",
      "11.856842966420206 10.404259\n",
      "10.75591586311723 10.421842\n",
      "9.903461835792209 10.395923\n",
      "9.935819939416872 10.372917\n",
      "12.334163713851552 10.470979\n",
      "9.300273350799225 10.412443\n",
      "9.398673810877279 10.361754\n",
      "8.335236205187698 10.260428\n",
      "10.62840079359986 10.278827\n",
      "10.843161049755446 10.307043\n",
      "8.349361736432877 10.209159\n",
      "11.560519941985735 10.276727\n",
      "10.803582603994796 10.303069\n",
      "8.727371823774327 10.224284\n",
      "10.052331339109056 10.215687\n"
     ]
    }
   ],
   "source": [
    "init = tf.global_variables_initializer()\n",
    "\n",
    "with tf.Session() as sess:\n",
    "    sess.run(init)\n",
    "    for i in range(len(raw_data)):\n",
    "        summary_str, curr_avg = sess.run([merged, update_avg], feed_dict={curr_value: raw_data[i]})\n",
    "        sess.run(tf.assign(prev_avg, curr_avg))\n",
    "        print(raw_data[i], curr_avg)\n",
    "        writer.add_summary(summary_str, i)"
   ]
  },
  {
   "cell_type": "markdown",
   "metadata": {},
   "source": [
    "Check out the visualization by running TensorBoard from the terminal:\n",
    "\n",
    "    $ tensorboard --logdir=path/to/logs"
   ]
  },
  {
   "cell_type": "code",
   "execution_count": 9,
   "metadata": {},
   "outputs": [
    {
     "name": "stdout",
     "output_type": "stream",
     "text": [
      "The tensorboard extension is already loaded. To reload it, use:\n",
      "  %reload_ext tensorboard\n"
     ]
    },
    {
     "data": {
      "text/plain": [
       "Reusing TensorBoard on port 6006 (pid 10688), started 0:01:47 ago. (Use '!kill 10688' to kill it.)"
      ]
     },
     "metadata": {},
     "output_type": "display_data"
    },
    {
     "data": {
      "text/html": [
       "\n",
       "      <iframe id=\"tensorboard-frame-9c4ad5b633e6e1b7\" width=\"100%\" height=\"800\" frameborder=\"0\">\n",
       "      </iframe>\n",
       "      <script>\n",
       "        (function() {\n",
       "          const frame = document.getElementById(\"tensorboard-frame-9c4ad5b633e6e1b7\");\n",
       "          const url = new URL(\"/\", window.location);\n",
       "          url.port = 6006;\n",
       "          frame.src = url;\n",
       "        })();\n",
       "      </script>\n",
       "  "
      ],
      "text/plain": [
       "<IPython.core.display.HTML object>"
      ]
     },
     "metadata": {},
     "output_type": "display_data"
    }
   ],
   "source": [
    "%load_ext tensorboard\n",
    "%tensorboard --logdir logs"
   ]
  },
  {
   "cell_type": "code",
   "execution_count": 6,
   "metadata": {},
   "outputs": [],
   "source": [
    "#made the logs be written successfully\n",
    "writer.close()"
   ]
  },
  {
   "cell_type": "code",
   "execution_count": null,
   "metadata": {},
   "outputs": [],
   "source": []
  },
  {
   "cell_type": "code",
   "execution_count": null,
   "metadata": {},
   "outputs": [],
   "source": []
  }
 ],
 "metadata": {
  "kernelspec": {
   "display_name": "Python [conda env:tf-2-gpu]",
   "language": "python",
   "name": "conda-env-tf-2-gpu-py"
  },
  "language_info": {
   "codemirror_mode": {
    "name": "ipython",
    "version": 3
   },
   "file_extension": ".py",
   "mimetype": "text/x-python",
   "name": "python",
   "nbconvert_exporter": "python",
   "pygments_lexer": "ipython3",
   "version": "3.7.9"
  }
 },
 "nbformat": 4,
 "nbformat_minor": 1
}
