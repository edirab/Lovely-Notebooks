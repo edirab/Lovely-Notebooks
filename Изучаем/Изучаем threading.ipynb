{
 "cells": [
  {
   "cell_type": "markdown",
   "metadata": {},
   "source": [
    "https://geekbrains.ru/posts/python_threading_part1"
   ]
  },
  {
   "cell_type": "code",
   "execution_count": 3,
   "metadata": {},
   "outputs": [
    {
     "name": "stdout",
     "output_type": "stream",
     "text": [
      "Время выполнения:  0:00:04.858422\n"
     ]
    }
   ],
   "source": [
    "from datetime import datetime\n",
    "import threading\n",
    "def factorial(number): \n",
    "    fact = 1\n",
    "    for n in range(1, number+1): \n",
    "        fact *= n \n",
    "    return fact\n",
    "\n",
    "number = 100000 \n",
    "\n",
    "thread = threading.Thread(target=factorial, args=(number,))\n",
    "thread2 = threading.Thread(target=factorial, args=(number,))\n",
    "\n",
    "startTime = datetime.now() \n",
    "thread.start()\n",
    "thread2.start()\n",
    "\n",
    "thread.join()\n",
    "thread2.join()\n",
    "\n",
    "endTime = datetime.now() \n",
    "print(\"Время выполнения: \", endTime - startTime)"
   ]
  }
 ],
 "metadata": {
  "kernelspec": {
   "display_name": "Python 3",
   "language": "python",
   "name": "python3"
  },
  "language_info": {
   "codemirror_mode": {
    "name": "ipython",
    "version": 3
   },
   "file_extension": ".py",
   "mimetype": "text/x-python",
   "name": "python",
   "nbconvert_exporter": "python",
   "pygments_lexer": "ipython3",
   "version": "3.7.6"
  }
 },
 "nbformat": 4,
 "nbformat_minor": 4
}
