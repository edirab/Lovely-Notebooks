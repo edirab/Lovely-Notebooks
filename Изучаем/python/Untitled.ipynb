{
 "cells": [
  {
   "cell_type": "markdown",
   "metadata": {},
   "source": [
    "### Popular Words\n",
    " Elementary+\n",
    "https://py.checkio.org/en/mission/popular-words/\n",
    "\n",
    " Example:\n",
    "\n",
    "```python\n",
    "popular_words('''\n",
    "When I was One\n",
    "I had just begun\n",
    "When I was Two\n",
    "I was nearly new\n",
    "''', ['i', 'was', 'three', 'near']) == {\n",
    "    'i': 4,\n",
    "    'was': 3,\n",
    "    'three': 0,\n",
    "    'near': 0\n",
    "}\n",
    "\n",
    "```"
   ]
  },
  {
   "cell_type": "code",
   "execution_count": 8,
   "metadata": {},
   "outputs": [
    {
     "name": "stdout",
     "output_type": "stream",
     "text": [
      "['when', 'i', 'was', 'one', 'i', 'had', 'just', 'begun', 'when', 'i', 'was', 'two', 'i', 'was', 'nearly', 'new']\n"
     ]
    },
    {
     "data": {
      "text/plain": [
       "{'i': 1, 'was': 1, 'three': 1, 'near': 1}"
      ]
     },
     "execution_count": 8,
     "metadata": {},
     "output_type": "execute_result"
    }
   ],
   "source": [
    "text = '''\n",
    "When I was One\n",
    "I had just begun\n",
    "When I was Two\n",
    "I was nearly new\n",
    "'''\n",
    "\n",
    "words = ['i', 'was', 'three', 'near']\n",
    "\n",
    "def popular_words(text: str, words: list) -> dict:\n",
    "    output = {}\n",
    "    text = text.lower().split()\n",
    "    print(text)\n",
    "    for elem in words:\n",
    "        if elem in text:\n",
    "            if elem in output.keys():\n",
    "                output[elem] += 1\n",
    "            else:\n",
    "                output[elem] = 1\n",
    "        \n",
    "        \n",
    "    return output\n",
    "\n",
    "popular_words(text, words)\n"
   ]
  }
 ],
 "metadata": {
  "kernelspec": {
   "display_name": "Python 3",
   "language": "python",
   "name": "python3"
  },
  "language_info": {
   "codemirror_mode": {
    "name": "ipython",
    "version": 3
   },
   "file_extension": ".py",
   "mimetype": "text/x-python",
   "name": "python",
   "nbconvert_exporter": "python",
   "pygments_lexer": "ipython3",
   "version": "3.8.5"
  }
 },
 "nbformat": 4,
 "nbformat_minor": 4
}
