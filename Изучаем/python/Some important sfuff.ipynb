{
 "cells": [
  {
   "cell_type": "code",
   "execution_count": 1,
   "metadata": {},
   "outputs": [],
   "source": [
    "import sys\n",
    "from pympler import asizeof\n",
    "\n",
    "import numpy as np\n",
    "import matplotlib as mpt\n",
    "from matplotlib import pyplot as plt\n",
    "from math import sin, cos, exp\n",
    "\n",
    "from statistics import mean, stdev, median"
   ]
  },
  {
   "cell_type": "markdown",
   "metadata": {},
   "source": [
    "### Исследуем Numpy\n",
    "\n",
    "#### 1. Numpy.arange \n",
    "    действует также как и range для целых чисел\n",
    "    Единственное, тип возвращаемого результата - ndarray"
   ]
  },
  {
   "cell_type": "code",
   "execution_count": 2,
   "metadata": {},
   "outputs": [
    {
     "data": {
      "text/plain": [
       "array([0, 1, 2, 3, 4, 5, 6, 7, 8, 9])"
      ]
     },
     "execution_count": 2,
     "metadata": {},
     "output_type": "execute_result"
    }
   ],
   "source": [
    "np.arange(10)"
   ]
  },
  {
   "cell_type": "code",
   "execution_count": 3,
   "metadata": {},
   "outputs": [
    {
     "data": {
      "text/plain": [
       "[0, 1, 2, 3, 4, 5, 6, 7, 8, 9]"
      ]
     },
     "execution_count": 3,
     "metadata": {},
     "output_type": "execute_result"
    }
   ],
   "source": [
    "list(range(10))"
   ]
  },
  {
   "cell_type": "code",
   "execution_count": 4,
   "metadata": {},
   "outputs": [
    {
     "data": {
      "text/plain": [
       "array([ 1. ,  1.2,  1.4,  1.6,  1.8,  2. ,  2.2,  2.4,  2.6,  2.8,  3. ,\n",
       "        3.2,  3.4,  3.6,  3.8,  4. ,  4.2,  4.4,  4.6,  4.8,  5. ,  5.2,\n",
       "        5.4,  5.6,  5.8,  6. ,  6.2,  6.4,  6.6,  6.8,  7. ,  7.2,  7.4,\n",
       "        7.6,  7.8,  8. ,  8.2,  8.4,  8.6,  8.8,  9. ,  9.2,  9.4,  9.6,\n",
       "        9.8, 10. , 10.2, 10.4, 10.6, 10.8, 11. , 11.2, 11.4, 11.6, 11.8,\n",
       "       12. , 12.2, 12.4, 12.6, 12.8, 13. , 13.2, 13.4, 13.6, 13.8, 14. ,\n",
       "       14.2, 14.4, 14.6, 14.8])"
      ]
     },
     "execution_count": 4,
     "metadata": {},
     "output_type": "execute_result"
    }
   ],
   "source": [
    "np.arange(1, 15, 0.2)"
   ]
  },
  {
   "cell_type": "markdown",
   "metadata": {},
   "source": [
    "#### 2. Numpy.linspace\n",
    "**numpy.linspace(start, stop, num=50, endpoint=True, retstep=False, dtype=None)**\n",
    "\n",
    "    Функция linspace() возвращает одномерный массив из указанного количества элементов, значения которых равномерно распределенны внутри заданного интервала.\n",
    "\n",
    "Параметры:\n",
    "\n",
    "    start - число\n",
    "        Число, которое является началом последовательности.\n",
    "    stop - число\n",
    "        Число, которое является концом последовательности, если endpoint=True. Если endpoint=False то данное число не включается в интервал, при этом значение шага между элементами последовательности изменяется.\n",
    "    num - целое положительное число (необязательный)\n",
    "        Определяет количество элементов последовательности. По умолчанию num = 50.\n",
    "    endpoint - True или False (необязательный)\n",
    "        Если endpoint = True, то значение stop включается в интервал и является последним. В противном случае stop не входит в интервал. По умолчанию endpoint = True\n",
    "    retstep - True или False (необязательный)\n",
    "        Если retstep = True, то будет возвращено значение шага между элементами.\n",
    "    dtype - тип данных NumPy (необязательный)\n",
    "        Определяет тип данных выходного массива. Если этот параметр не указан, то он будет определен автоматически на основе других параметров.\n",
    "\n",
    "Возвращает:\n",
    "\n",
    "    результат - массив NumPy\n",
    "        Одномерный массив из указанного количества элементов, значения которых, в зависимости от значения параметра endpoint равномерно распределенны внутри закрытого ([start, stop]) или полуоткрытого ([start, stop)) интервала.\n",
    "    шаг - вещественное число (необязательно)\n",
    "        Значение шага между элементами. Возвращается только в том случае, если retstep = True.\n",
    "\n"
   ]
  },
  {
   "cell_type": "code",
   "execution_count": 5,
   "metadata": {},
   "outputs": [
    {
     "data": {
      "text/plain": [
       "array([ 1.,  2.,  3.,  4.,  5.,  6.,  7.,  8.,  9., 10., 11., 12., 13.,\n",
       "       14., 15., 16., 17., 18., 19., 20., 21., 22., 23., 24., 25., 26.,\n",
       "       27., 28., 29., 30., 31., 32., 33., 34., 35., 36., 37., 38., 39.,\n",
       "       40., 41., 42., 43., 44., 45., 46., 47., 48., 49., 50.])"
      ]
     },
     "execution_count": 5,
     "metadata": {},
     "output_type": "execute_result"
    }
   ],
   "source": [
    "np.linspace(1, 50)"
   ]
  },
  {
   "cell_type": "code",
   "execution_count": 6,
   "metadata": {},
   "outputs": [
    {
     "data": {
      "text/plain": [
       "(array([ 1.   ,  1.375,  1.75 ,  2.125,  2.5  ,  2.875,  3.25 ,  3.625,\n",
       "         4.   ,  4.375,  4.75 ,  5.125,  5.5  ,  5.875,  6.25 ,  6.625,\n",
       "         7.   ,  7.375,  7.75 ,  8.125,  8.5  ,  8.875,  9.25 ,  9.625,\n",
       "        10.   ]),\n",
       " 0.375)"
      ]
     },
     "execution_count": 6,
     "metadata": {},
     "output_type": "execute_result"
    }
   ],
   "source": [
    "np.linspace(1, 10, num=25, retstep=True)"
   ]
  },
  {
   "cell_type": "code",
   "execution_count": 7,
   "metadata": {},
   "outputs": [
    {
     "data": {
      "text/plain": [
       "array([ 0. ,  0.5,  1. ,  1.5,  2. ,  2.5,  3. ,  3.5,  4. ,  4.5,  5. ,\n",
       "        5.5,  6. ,  6.5,  7. ,  7.5,  8. ,  8.5,  9. ,  9.5, 10. ])"
      ]
     },
     "execution_count": 7,
     "metadata": {},
     "output_type": "execute_result"
    }
   ],
   "source": [
    "np.linspace(0, 10, num=21)"
   ]
  },
  {
   "cell_type": "markdown",
   "metadata": {},
   "source": [
    "- Значение шага можно высчитать как (start-stop)/(num-1)"
   ]
  },
  {
   "cell_type": "markdown",
   "metadata": {},
   "source": [
    "#### 3. Numpy.random\n",
    "\n",
    "    as you see from the documentation numpy.random.randn generates samples from the normal distribution, \n",
    "    while numpy.random.rand from unifrom (in range [0,1))."
   ]
  },
  {
   "cell_type": "code",
   "execution_count": 8,
   "metadata": {},
   "outputs": [
    {
     "data": {
      "text/plain": [
       "array([0.52128302, 0.51596491, 0.49225321, 0.10376419, 0.40043512,\n",
       "       0.01494035, 0.30995012, 0.46849545, 0.14908342, 0.55059087,\n",
       "       0.37364661, 0.84057539, 0.36910576, 0.27400004, 0.10917426,\n",
       "       0.54526738, 0.56172006, 0.42895141, 0.37977495, 0.7032028 ,\n",
       "       0.72123127, 0.51888505, 0.25765016, 0.11227192, 0.14585429,\n",
       "       0.6115497 , 0.57071558, 0.91846019, 0.44511867, 0.12095361,\n",
       "       0.52531513, 0.35175818, 0.97220913, 0.51934969, 0.1236992 ,\n",
       "       0.24472059, 0.85091109, 0.26332167, 0.84516866, 0.11808098,\n",
       "       0.77767712, 0.27240612, 0.42302162, 0.41565403, 0.16934518,\n",
       "       0.32842994, 0.07847265, 0.27015834, 0.47295664, 0.3172436 ])"
      ]
     },
     "execution_count": 8,
     "metadata": {},
     "output_type": "execute_result"
    }
   ],
   "source": [
    "arr_uniform = np.random.rand(50)\n",
    "arr_uniform\n",
    "# sorted(arr_uniform)"
   ]
  },
  {
   "cell_type": "markdown",
   "metadata": {},
   "source": [
    "**Среднее, медиана  и стандартное отклоненние**"
   ]
  },
  {
   "cell_type": "code",
   "execution_count": 9,
   "metadata": {},
   "outputs": [
    {
     "name": "stdout",
     "output_type": "stream",
     "text": [
      "0.41749538558422084\n",
      "0.4080445730476472\n",
      "0.23948396823278853\n"
     ]
    }
   ],
   "source": [
    "print(mean(arr_uniform))\n",
    "print(median(arr_uniform))\n",
    "print(stdev(arr_uniform))"
   ]
  },
  {
   "cell_type": "code",
   "execution_count": 10,
   "metadata": {},
   "outputs": [
    {
     "data": {
      "text/plain": [
       "array([-0.42928081,  1.32051463, -0.18569558,  0.39647197,  1.08109713,\n",
       "       -1.49407748, -0.31911009,  1.17837506,  0.57440261,  0.45832585,\n",
       "        0.93987969,  1.7844639 ,  0.66860396, -1.88944171, -0.10849684,\n",
       "       -2.61917603, -0.4610483 ,  0.61180484, -0.32535446,  1.38821288,\n",
       "        0.87278147,  0.76289592,  0.19603604,  0.84145805,  0.67795379,\n",
       "       -0.39916368, -0.22753229, -0.17843538, -1.11979659, -0.86158946,\n",
       "       -0.56782571, -0.67023306,  0.22277592,  0.31858285, -1.28203961,\n",
       "        0.24515722, -0.09442095, -1.99771236,  1.12894676,  0.26410612,\n",
       "        0.75059538, -0.09833674, -0.38240591,  0.38245392,  2.34167329,\n",
       "       -1.73925713, -0.01576237, -1.28369433, -0.04346877, -0.4552631 ])"
      ]
     },
     "execution_count": 10,
     "metadata": {},
     "output_type": "execute_result"
    }
   ],
   "source": [
    "arr_norm = np.random.randn(50)\n",
    "arr_norm"
   ]
  },
  {
   "cell_type": "markdown",
   "metadata": {},
   "source": [
    "**Среднее, медиана  и стандартное отклоненние**"
   ]
  },
  {
   "cell_type": "code",
   "execution_count": 11,
   "metadata": {},
   "outputs": [
    {
     "name": "stdout",
     "output_type": "stream",
     "text": [
      "0.0031790102688633386\n",
      "-0.029615572387615564\n",
      "1.0012031257241247\n"
     ]
    }
   ],
   "source": [
    "print(mean(arr_norm))\n",
    "print(median(arr_norm))\n",
    "print(stdev(arr_norm))"
   ]
  },
  {
   "cell_type": "code",
   "execution_count": 12,
   "metadata": {},
   "outputs": [
    {
     "data": {
      "text/plain": [
       "[5, 5, 3, 6, 7, 1, 1, 7, 8, 7, 2, 2, 2, 2, 6, 7, 9, 5, 9, 4]"
      ]
     },
     "execution_count": 12,
     "metadata": {},
     "output_type": "execute_result"
    }
   ],
   "source": [
    "x = np.random.randint(1, 10, 20)\n",
    "list(x)"
   ]
  },
  {
   "cell_type": "code",
   "execution_count": 13,
   "metadata": {},
   "outputs": [
    {
     "data": {
      "text/plain": [
       "0.5209847811204875"
      ]
     },
     "execution_count": 13,
     "metadata": {},
     "output_type": "execute_result"
    }
   ],
   "source": [
    "np.random.sample()"
   ]
  },
  {
   "cell_type": "markdown",
   "metadata": {},
   "source": [
    "### Построение графиков"
   ]
  },
  {
   "cell_type": "code",
   "execution_count": 14,
   "metadata": {},
   "outputs": [
    {
     "name": "stdout",
     "output_type": "stream",
     "text": [
      "<class 'list'> <class 'list'>\n",
      "300 300\n"
     ]
    },
    {
     "data": {
      "image/png": "[encoded data removed]",
      "text/plain": [
       "<Figure size 1800x1800 with 1 Axes>"
      ]
     },
     "metadata": {
      "needs_background": "light"
     },
     "output_type": "display_data"
    }
   ],
   "source": [
    "t = list(np.arange(0, 6, 0.02))\n",
    "r = [0.2*val for val in t]\n",
    "\n",
    "print(type(t), type(r))\n",
    "print(len(r), len(t))\n",
    "\n",
    "x_ = [r[i]*cos(t[i]) for i in range(len(t))]\n",
    "y_ = [r[i]*sin(t[i]) for i in range(len(t))]\n",
    "\n",
    "plt.figure(figsize=(6, 6), dpi=300)\n",
    "plt.plot(x_, y_, label=\"Кривая Архимеда\")\n",
    "plt.legend()\n",
    "plt.title(\"Кривулина\")\n",
    "plt.xlabel(\"Ось Х\")\n",
    "plt.ylabel(\"Ось Y\")\n",
    "\n",
    "plt.grid()\n",
    "plt.show()"
   ]
  },
  {
   "cell_type": "markdown",
   "metadata": {},
   "source": [
    "### Сравнение производительности range() & np.arange()"
   ]
  },
  {
   "cell_type": "code",
   "execution_count": 15,
   "metadata": {},
   "outputs": [
    {
     "name": "stdout",
     "output_type": "stream",
     "text": [
      "5.69 µs ± 47.2 ns per loop (mean ± std. dev. of 7 runs, 100000 loops each)\n"
     ]
    }
   ],
   "source": [
    "%%timeit\n",
    "a1 = np.arange(10000)"
   ]
  },
  {
   "cell_type": "code",
   "execution_count": 16,
   "metadata": {},
   "outputs": [
    {
     "name": "stdout",
     "output_type": "stream",
     "text": [
      "119 µs ± 535 ns per loop (mean ± std. dev. of 7 runs, 10000 loops each)\n"
     ]
    }
   ],
   "source": [
    "%%timeit\n",
    "a2 = list(range(10000))"
   ]
  },
  {
   "cell_type": "markdown",
   "metadata": {},
   "source": [
    "### Измеряем объём занимаемой памяти\n",
    "\n",
    "с помощью `sys.getsizeof()` & `pympler.asizeof.asizeof()`"
   ]
  },
  {
   "cell_type": "code",
   "execution_count": 17,
   "metadata": {},
   "outputs": [
    {
     "name": "stdout",
     "output_type": "stream",
     "text": [
      "28\n",
      "28\n",
      "32\n"
     ]
    }
   ],
   "source": [
    "print(sys.getsizeof(int(1)))\n",
    "print(sys.getsizeof(int(1000000000)))\n",
    "print(sys.getsizeof(int(10000000000)))"
   ]
  },
  {
   "cell_type": "code",
   "execution_count": 18,
   "metadata": {},
   "outputs": [
    {
     "name": "stdout",
     "output_type": "stream",
     "text": [
      "40096\n",
      "90112\n"
     ]
    }
   ],
   "source": [
    "a1 = np.arange(10000)\n",
    "a2 = list(range(10000))\n",
    "\n",
    "print(sys.getsizeof(a1))\n",
    "print(sys.getsizeof(a2))"
   ]
  },
  {
   "cell_type": "code",
   "execution_count": 19,
   "metadata": {},
   "outputs": [
    {
     "name": "stdout",
     "output_type": "stream",
     "text": [
      "40112\n",
      "410104\n"
     ]
    }
   ],
   "source": [
    "print(asizeof.asizeof(a1))\n",
    "print(asizeof.asizeof(a2))"
   ]
  },
  {
   "cell_type": "code",
   "execution_count": 20,
   "metadata": {},
   "outputs": [
    {
     "data": {
      "text/plain": [
       "4.0096"
      ]
     },
     "execution_count": 20,
     "metadata": {},
     "output_type": "execute_result"
    }
   ],
   "source": [
    "40096/10000"
   ]
  },
  {
   "cell_type": "code",
   "execution_count": 21,
   "metadata": {},
   "outputs": [
    {
     "data": {
      "text/plain": [
       "41.0104"
      ]
     },
     "execution_count": 21,
     "metadata": {},
     "output_type": "execute_result"
    }
   ],
   "source": [
    "410104/10000"
   ]
  },
  {
   "cell_type": "markdown",
   "metadata": {},
   "source": [
    "### Изучаем модуль itertools"
   ]
  },
  {
   "cell_type": "code",
   "execution_count": 22,
   "metadata": {},
   "outputs": [],
   "source": [
    "from itertools import chain, accumulate, cycle, repeat\n",
    "\n",
    "L1 = ['ABC', 'DEF', 'GHT']\n",
    "L2 = '1234567890'\n",
    "L3 = \"xyz\""
   ]
  },
  {
   "cell_type": "code",
   "execution_count": 23,
   "metadata": {},
   "outputs": [
    {
     "data": {
      "text/plain": [
       "['A', 'B', 'C', 'D', 'E', 'F', 'G', 'H', 'T']"
      ]
     },
     "execution_count": 23,
     "metadata": {},
     "output_type": "execute_result"
    }
   ],
   "source": [
    "list(chain.from_iterable(L1))"
   ]
  },
  {
   "cell_type": "code",
   "execution_count": 24,
   "metadata": {},
   "outputs": [
    {
     "data": {
      "text/plain": [
       "['1', '2', '3', '4', '5', '6', '7', '8', '9', '0', 'x', 'y', 'z']"
      ]
     },
     "execution_count": 24,
     "metadata": {},
     "output_type": "execute_result"
    }
   ],
   "source": [
    "list(chain(L2, L3))"
   ]
  },
  {
   "cell_type": "code",
   "execution_count": 25,
   "metadata": {},
   "outputs": [
    {
     "data": {
      "text/plain": [
       "['1',\n",
       " '12',\n",
       " '123',\n",
       " '1234',\n",
       " '12345',\n",
       " '123456',\n",
       " '1234567',\n",
       " '12345678',\n",
       " '123456789',\n",
       " '1234567890']"
      ]
     },
     "execution_count": 25,
     "metadata": {},
     "output_type": "execute_result"
    }
   ],
   "source": [
    "list(accumulate(list(L2)))"
   ]
  },
  {
   "cell_type": "code",
   "execution_count": 26,
   "metadata": {},
   "outputs": [
    {
     "data": {
      "text/plain": [
       "['1',\n",
       " '12',\n",
       " '123',\n",
       " '1234',\n",
       " '12345',\n",
       " '123456',\n",
       " '1234567',\n",
       " '12345678',\n",
       " '123456789',\n",
       " '1234567890']"
      ]
     },
     "execution_count": 26,
     "metadata": {},
     "output_type": "execute_result"
    }
   ],
   "source": [
    "list(accumulate(chain(L2)))"
   ]
  },
  {
   "cell_type": "code",
   "execution_count": 27,
   "metadata": {},
   "outputs": [
    {
     "name": "stdout",
     "output_type": "stream",
     "text": [
      "0 x\n",
      "1 y\n",
      "2 z\n",
      "3 x\n",
      "4 y\n",
      "5 z\n",
      "6 x\n",
      "7 y\n",
      "8 z\n",
      "9 x\n"
     ]
    }
   ],
   "source": [
    "j = 0\n",
    "for i in cycle(L3):\n",
    "    if j == 10:\n",
    "        break\n",
    "    print(j, i)\n",
    "    j += 1"
   ]
  },
  {
   "cell_type": "code",
   "execution_count": 28,
   "metadata": {},
   "outputs": [
    {
     "name": "stdout",
     "output_type": "stream",
     "text": [
      "0 x\n",
      "1 y\n",
      "2 z\n",
      "3 x\n",
      "4 y\n",
      "5 z\n",
      "6 x\n",
      "7 y\n",
      "8 z\n",
      "9 x\n"
     ]
    }
   ],
   "source": [
    "it = cycle(L3)\n",
    "for i in range(10):\n",
    "    print(i, next(it))"
   ]
  },
  {
   "cell_type": "code",
   "execution_count": 29,
   "metadata": {},
   "outputs": [
    {
     "name": "stdout",
     "output_type": "stream",
     "text": [
      "2020-12-02 21:06:20.031010\n",
      "2020-12-02 21:06:20.031010\n",
      "2020-12-02, 21:06:20\n",
      "1606932380.03201\n",
      "0.011998653411865234\n"
     ]
    }
   ],
   "source": [
    "from datetime import datetime\n",
    "\n",
    "d = datetime.now()\n",
    "print(d)\n",
    "print(d.date(), d.time())\n",
    "print(d.strftime(\"%Y-%m-%d, %H:%M:%S\") )\n",
    "\n",
    "import time\n",
    "\n",
    "start = time.time()\n",
    "print(start)\n",
    "\n",
    "k = 0\n",
    "for i in range(100000):\n",
    "    k += 1\n",
    "\n",
    "print(time.time() - start)"
   ]
  },
  {
   "cell_type": "markdown",
   "metadata": {},
   "source": [
    "### Аннотирование изображений с помощью PIL"
   ]
  },
  {
   "cell_type": "code",
   "execution_count": 30,
   "metadata": {},
   "outputs": [],
   "source": [
    "from PIL import Image\n",
    "from PIL import ImageFont\n",
    "from PIL import ImageDraw \n",
    "\n",
    "img = Image.open(\"../open-source-logos.png\")\n",
    "draw = ImageDraw.Draw(img)\n",
    "\n",
    "# font = ImageFont.truetype(<font-file>, <font-size>)\n",
    "font = ImageFont.truetype(\"tahoma\", 16)\n",
    "# draw.text((x, y),\"Sample Text\",(r,g,b))\n",
    "draw.rectangle(((0, 0), (100, 20)), fill=\"white\")\n",
    "draw.text((0, 0),\"Sample Text\",(0,0,0),font=font)\n",
    "img.save('sample-out.png')"
   ]
  },
  {
   "cell_type": "code",
   "execution_count": 31,
   "metadata": {},
   "outputs": [
    {
     "data": {
      "text/html": [
       "<img src=\"https://habrastorage.org/webt/9m/2c/zd/9m2czdt-uv7oe6v-nws3frtw7-a.jpeg\" width=\"200\"/>"
      ],
      "text/plain": [
       "<IPython.core.display.Image object>"
      ]
     },
     "metadata": {},
     "output_type": "display_data"
    }
   ],
   "source": [
    "from IPython.display import Image # Библиотека для отображения картинок\n",
    "\n",
    "display(Image(url='https://habrastorage.org/webt/9m/2c/zd/9m2czdt-uv7oe6v-nws3frtw7-a.jpeg', \n",
    "              width = 200) # Задаем ширину картинки\n",
    "       ) "
   ]
  },
  {
   "cell_type": "markdown",
   "metadata": {},
   "source": [
    "### Проблема множественного наследования в Python\n",
    "\n",
    "- Выполняется поиск в ширину"
   ]
  },
  {
   "cell_type": "code",
   "execution_count": 34,
   "metadata": {},
   "outputs": [
    {
     "name": "stdout",
     "output_type": "stream",
     "text": [
      "A\n",
      "B\n",
      "C\n",
      "B\n"
     ]
    },
    {
     "data": {
      "text/plain": [
       "[__main__.D, __main__.B, __main__.C, __main__.A, object]"
      ]
     },
     "execution_count": 34,
     "metadata": {},
     "output_type": "execute_result"
    }
   ],
   "source": [
    "class A:\n",
    "    def hi(self):\n",
    "        print(\"A\")\n",
    "        \n",
    "class B(A):\n",
    "    def hi(self):\n",
    "        print(\"B\")\n",
    "        \n",
    "class C(A):\n",
    "    def hi(self):\n",
    "        print(\"C\")\n",
    "        \n",
    "a = A()\n",
    "a.hi()\n",
    "\n",
    "b = B()\n",
    "b.hi()\n",
    "\n",
    "c = C()\n",
    "c.hi()\n",
    "\n",
    "\n",
    "class D(B, C):\n",
    "    pass\n",
    "\n",
    "d = D()\n",
    "d.hi()\n",
    "\n",
    "D.mro()"
   ]
  }
 ],
 "metadata": {
  "kernelspec": {
   "display_name": "Python 3",
   "language": "python",
   "name": "python3"
  },
  "language_info": {
   "codemirror_mode": {
    "name": "ipython",
    "version": 3
   },
   "file_extension": ".py",
   "mimetype": "text/x-python",
   "name": "python",
   "nbconvert_exporter": "python",
   "pygments_lexer": "ipython3",
   "version": "3.7.9"
  }
 },
 "nbformat": 4,
 "nbformat_minor": 4
}
